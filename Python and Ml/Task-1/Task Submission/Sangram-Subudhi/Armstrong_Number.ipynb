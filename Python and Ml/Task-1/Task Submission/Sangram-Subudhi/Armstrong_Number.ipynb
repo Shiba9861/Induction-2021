{
  "nbformat": 4,
  "nbformat_minor": 0,
  "metadata": {
    "colab": {
      "name": "Armstrong Number.ipynb",
      "provenance": []
    },
    "kernelspec": {
      "name": "python3",
      "display_name": "Python 3"
    },
    "language_info": {
      "name": "python"
    }
  },
  "cells": [
    {
      "cell_type": "code",
      "metadata": {
        "colab": {
          "base_uri": "https://localhost:8080/"
        },
        "id": "5rZD0kd213X0",
        "outputId": "113036ff-6ef7-4dbe-e831-531c69215e93"
      },
      "source": [
        "#Program to check Armstrong numbers in a certain interval\n",
        "lower = 100\n",
        "upper = 2000\n",
        "for num in range(lower,upper + 1):\n",
        "\n",
        "    #for finding order of number\n",
        "    order = len (str(num))\n",
        "\n",
        "    # to initialize sum\n",
        "    sum = 0\n",
        "\n",
        "    temp = num\n",
        "    while temp > 0:\n",
        "        digit = temp % 10\n",
        "        sum += digit ** order\n",
        "        temp //= 10\n",
        "\n",
        "    if num == sum:\n",
        "        print(num)    "
      ],
      "execution_count": 2,
      "outputs": [
        {
          "output_type": "stream",
          "text": [
            "153\n",
            "370\n",
            "371\n",
            "407\n",
            "1634\n"
          ],
          "name": "stdout"
        }
      ]
    }
  ]
}