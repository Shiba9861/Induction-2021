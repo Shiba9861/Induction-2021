{
  "nbformat": 4,
  "nbformat_minor": 0,
  "metadata": {
    "colab": {
      "name": "Generate Random Number.ipynb",
      "provenance": []
    },
    "kernelspec": {
      "name": "python3",
      "display_name": "Python 3"
    },
    "language_info": {
      "name": "python"
    }
  },
  "cells": [
    {
      "cell_type": "code",
      "metadata": {
        "colab": {
          "base_uri": "https://localhost:8080/"
        },
        "id": "UCMlXm2QQhOO",
        "outputId": "689f3285-b80e-4caf-8c89-d8183564072a"
      },
      "source": [
        "import random\n",
        "\n",
        "def main():\n",
        "    sum_num = 0\n",
        "    for count in range(6):\n",
        "        randnums = random.randrange(1,10)\n",
        "        sum_num = sum_num + randnums \n",
        "    print(randnums, end='')\n",
        "    print(sum_num)\n",
        "\n",
        "main()"
      ],
      "execution_count": 1,
      "outputs": [
        {
          "output_type": "stream",
          "text": [
            "428\n"
          ],
          "name": "stdout"
        }
      ]
    }
  ]
}