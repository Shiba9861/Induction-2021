{
  "nbformat": 4,
  "nbformat_minor": 0,
  "metadata": {
    "colab": {
      "name": "Quadratic Equation.ipynb",
      "provenance": []
    },
    "kernelspec": {
      "name": "python3",
      "display_name": "Python 3"
    },
    "language_info": {
      "name": "python"
    }
  },
  "cells": [
    {
      "cell_type": "code",
      "metadata": {
        "colab": {
          "base_uri": "https://localhost:8080/"
        },
        "id": "Fjv4SeJZ2cmy",
        "outputId": "b76c007e-fb81-4626-ef9e-822499d359e3"
      },
      "source": [
        "#Program to perform quadratic equation\n",
        "#import complex math module\n",
        "import cmath\n",
        "a = float(input('Enter a:'))\n",
        "b = float(input('Enter b:'))\n",
        "c = float(input('Enter c:'))\n",
        "\n",
        "#calculate the discriminant\n",
        "d = (b**2)-(4*a*c)\n",
        "\n",
        "#find two solutions\n",
        "sol1 = (-b-cmath.sqrt(d))/(2*a)\n",
        "sol2 = (-b+cmath.sqrt(d))/(2*a)\n",
        "print('The solution are {0} and {1}'.format(sol1,sol2))\n",
        "\n"
      ],
      "execution_count": 1,
      "outputs": [
        {
          "output_type": "stream",
          "text": [
            "Enter a:2\n",
            "Enter b:4\n",
            "Enter c:5\n",
            "The solution are (-1-1.224744871391589j) and (-1+1.224744871391589j)\n"
          ],
          "name": "stdout"
        }
      ]
    }
  ]
}