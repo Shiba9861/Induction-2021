{
  "nbformat": 4,
  "nbformat_minor": 0,
  "metadata": {
    "colab": {
      "name": "Sorted Alphabetically.ipynb",
      "provenance": []
    },
    "kernelspec": {
      "name": "python3",
      "display_name": "Python 3"
    },
    "language_info": {
      "name": "python"
    }
  },
  "cells": [
    {
      "cell_type": "code",
      "metadata": {
        "colab": {
          "base_uri": "https://localhost:8080/"
        },
        "id": "jnDGrpak3M-4",
        "outputId": "2946678a-b764-4c7b-affa-78d60a16adc0"
      },
      "source": [
        " #Program to sort alphabetically the wordss form a string provided by the user\n",
        "my_str = \"My Name is Sangram and I love coding and Arduino\"\n",
        "\n",
        "#To take input from the user\n",
        "#my_str = input(\"Enter a string: \")\n",
        "\n",
        "#breakdown the string into a list of words\n",
        "words = [word.lower() for word in my_str.split()]\n",
        "\n",
        "#sort the list\n",
        "words.sort()\n",
        "\n",
        "#display the sorted words\n",
        "print(\"The sorted words are: \")\n",
        "for word in words:\n",
        "    print(word)"
      ],
      "execution_count": 1,
      "outputs": [
        {
          "output_type": "stream",
          "text": [
            "The sorted words are: \n",
            "and\n",
            "and\n",
            "arduino\n",
            "coding\n",
            "i\n",
            "is\n",
            "love\n",
            "my\n",
            "name\n",
            "sangram\n"
          ],
          "name": "stdout"
        }
      ]
    }
  ]
}