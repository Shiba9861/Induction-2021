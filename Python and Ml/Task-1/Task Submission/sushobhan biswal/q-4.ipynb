{
 "cells": [
  {
   "cell_type": "code",
   "execution_count": 2,
   "id": "072330ed",
   "metadata": {},
   "outputs": [
    {
     "name": "stdout",
     "output_type": "stream",
     "text": [
      "Enter a sentence: gg gg gg\n",
      "sorted list is  ['gg', 'gg', 'gg']\n"
     ]
    }
   ],
   "source": [
    "l=[]\n",
    "\n",
    "msg=input('Enter a sentence: ').split(' ')\n",
    "\n",
    "for i in msg:\n",
    "    l.append(i)\n",
    "l.sort()\n",
    "\n",
    "print('sorted list is ', l)"
   ]
  },
  {
   "cell_type": "code",
   "execution_count": null,
   "id": "22462647",
   "metadata": {},
   "outputs": [],
   "source": []
  },
  {
   "cell_type": "code",
   "execution_count": null,
   "id": "9fdca487",
   "metadata": {},
   "outputs": [],
   "source": []
  }
 ],
 "metadata": {
  "kernelspec": {
   "display_name": "Python 3",
   "language": "python",
   "name": "python3"
  },
  "language_info": {
   "codemirror_mode": {
    "name": "ipython",
    "version": 3
   },
   "file_extension": ".py",
   "mimetype": "text/x-python",
   "name": "python",
   "nbconvert_exporter": "python",
   "pygments_lexer": "ipython3",
   "version": "3.8.6"
  }
 },
 "nbformat": 4,
 "nbformat_minor": 5
}
