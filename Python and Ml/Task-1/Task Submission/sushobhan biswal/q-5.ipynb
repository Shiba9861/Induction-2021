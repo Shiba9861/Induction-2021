{
 "cells": [
  {
   "cell_type": "code",
   "execution_count": 10,
   "id": "5c5f443e",
   "metadata": {},
   "outputs": [
    {
     "name": "stdout",
     "output_type": "stream",
     "text": [
      "7\n",
      "49\n",
      "27\n",
      "58\n",
      "47\n",
      "58\n",
      "61\n",
      "83\n",
      "80\n",
      "78\n",
      "the sumation is:  548\n"
     ]
    }
   ],
   "source": [
    "import random\n",
    "sum=0\n",
    "for i in range(10):\n",
    "    n=random.randint(1,100)\n",
    "    sum+=n\n",
    "    print(n)\n",
    "print('the sumation is: ' , sum)\n"
   ]
  },
  {
   "cell_type": "code",
   "execution_count": null,
   "id": "270c1da7",
   "metadata": {},
   "outputs": [],
   "source": []
  },
  {
   "cell_type": "code",
   "execution_count": null,
   "id": "7dfa3b98",
   "metadata": {},
   "outputs": [],
   "source": []
  }
 ],
 "metadata": {
  "kernelspec": {
   "display_name": "Python 3",
   "language": "python",
   "name": "python3"
  },
  "language_info": {
   "codemirror_mode": {
    "name": "ipython",
    "version": 3
   },
   "file_extension": ".py",
   "mimetype": "text/x-python",
   "name": "python",
   "nbconvert_exporter": "python",
   "pygments_lexer": "ipython3",
   "version": "3.8.6"
  }
 },
 "nbformat": 4,
 "nbformat_minor": 5
}
