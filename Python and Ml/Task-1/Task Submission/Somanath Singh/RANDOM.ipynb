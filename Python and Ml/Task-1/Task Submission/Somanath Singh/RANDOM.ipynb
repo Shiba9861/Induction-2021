{
 "cells": [
  {
   "cell_type": "code",
   "execution_count": 3,
   "id": "3d30a8ba",
   "metadata": {},
   "outputs": [
    {
     "name": "stdout",
     "output_type": "stream",
     "text": [
      "Enter upper range:10\n",
      "Enter lower range:1\n",
      "64\n"
     ]
    }
   ],
   "source": [
    "import random\n",
    "upper=int(input(\"Enter upper range:\"))\n",
    "lower=int(input(\"Enter lower range:\"))\n",
    "sum=0\n",
    "for i in range(10):\n",
    "    sum+=random.randint(lower,upper)\n",
    "print(sum)"
   ]
  },
  {
   "cell_type": "code",
   "execution_count": null,
   "id": "27bb7bc5",
   "metadata": {},
   "outputs": [],
   "source": []
  }
 ],
 "metadata": {
  "kernelspec": {
   "display_name": "Python 3",
   "language": "python",
   "name": "python3"
  },
  "language_info": {
   "codemirror_mode": {
    "name": "ipython",
    "version": 3
   },
   "file_extension": ".py",
   "mimetype": "text/x-python",
   "name": "python",
   "nbconvert_exporter": "python",
   "pygments_lexer": "ipython3",
   "version": "3.8.8"
  }
 },
 "nbformat": 4,
 "nbformat_minor": 5
}
