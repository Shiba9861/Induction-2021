{
 "cells": [
  {
   "cell_type": "code",
   "execution_count": 1,
   "id": "448d3d2c",
   "metadata": {},
   "outputs": [
    {
     "name": "stdout",
     "output_type": "stream",
     "text": [
      "Enter first number:35\n",
      "Enter second number:65\n",
      "Enter '+' for addition \n",
      "Enter '-' for substraction \n",
      "Enter '*' for multiplication \n",
      "Enter '/' for division:*\n",
      "Product of 35 and 65 is 2275\n"
     ]
    }
   ],
   "source": [
    "num1=int(input(\"Enter first number:\"))\n",
    "num2=int(input(\"Enter second number:\"))\n",
    "operator=input(\"Enter '+' for addition \\nEnter '-' for substraction \\nEnter '*' for multiplication \\nEnter '/' for division:\")\n",
    "if operator=='+':\n",
    "    print(\"Sum of {0} and {1} is {2}\".format(num1,num2,(num1+num2)))\n",
    "elif operator=='-':\n",
    "    print(\"{0} - {1} is {2}\".format(num1,num2,(num1-num2)))\n",
    "elif operator=='*':\n",
    "    print(\"Product of {0} and {1} is {2}\".format(num1,num2,(num1*num2)))\n",
    "elif operator=='/':\n",
    "    print(\"{0} / {1} is {2}\".format(num1,num2,(num1-num2)))"
   ]
  },
  {
   "cell_type": "code",
   "execution_count": null,
   "id": "1d7318d7",
   "metadata": {},
   "outputs": [],
   "source": []
  }
 ],
 "metadata": {
  "kernelspec": {
   "display_name": "Python 3",
   "language": "python",
   "name": "python3"
  },
  "language_info": {
   "codemirror_mode": {
    "name": "ipython",
    "version": 3
   },
   "file_extension": ".py",
   "mimetype": "text/x-python",
   "name": "python",
   "nbconvert_exporter": "python",
   "pygments_lexer": "ipython3",
   "version": "3.8.8"
  }
 },
 "nbformat": 4,
 "nbformat_minor": 5
}
