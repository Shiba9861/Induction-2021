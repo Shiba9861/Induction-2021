{
 "cells": [
  {
   "cell_type": "code",
   "execution_count": 1,
   "id": "e7f8699f",
   "metadata": {},
   "outputs": [],
   "source": [
    "# Write a program to solve a quadratic equation aX**2+bX+C=0\n"
   ]
  },
  {
   "cell_type": "code",
   "execution_count": 1,
   "id": "88bcbae4",
   "metadata": {},
   "outputs": [
    {
     "name": "stdout",
     "output_type": "stream",
     "text": [
      "Enter a:1\n",
      "Enter b:-4\n",
      "Enter c:2\n",
      "solutions of the equation are 3.414213562373095 and 0.5857864376269049\n"
     ]
    }
   ],
   "source": [
    "import math\n",
    "a=int(input(\"Enter a:\"))\n",
    "b=int(input(\"Enter b:\"))\n",
    "c=int(input(\"Enter c:\"))\n",
    "D=b**2-4*a*c\n",
    "if D>0:\n",
    "    q=((-b)+math.sqrt(D))/2*a\n",
    "    w=((-b)-math.sqrt(D))/2*a\n",
    "    print(\"solutions of the equation are {} and {}\".format(q,w))\n",
    "elif D==0:\n",
    "    q=w=(-b)/2*a\n",
    "    print(\"solutions of the equation are {} and {}\".format(q,w))\n",
    "else:\n",
    "    R=(-b)/2*a\n",
    "    I=math.sqrt(-D)/2*a\n",
    "    print(\"solution of the equation are {} and {}\".format(R+I),(R-I))"
   ]
  },
  {
   "cell_type": "code",
   "execution_count": null,
   "id": "5c52556e",
   "metadata": {},
   "outputs": [],
   "source": []
  }
 ],
 "metadata": {
  "kernelspec": {
   "display_name": "Python 3",
   "language": "python",
   "name": "python3"
  },
  "language_info": {
   "codemirror_mode": {
    "name": "ipython",
    "version": 3
   },
   "file_extension": ".py",
   "mimetype": "text/x-python",
   "name": "python",
   "nbconvert_exporter": "python",
   "pygments_lexer": "ipython3",
   "version": "3.8.8"
  }
 },
 "nbformat": 4,
 "nbformat_minor": 5
}
