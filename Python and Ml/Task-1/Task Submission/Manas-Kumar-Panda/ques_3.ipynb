{
 "metadata": {
  "language_info": {
   "codemirror_mode": {
    "name": "ipython",
    "version": 3
   },
   "file_extension": ".py",
   "mimetype": "text/x-python",
   "name": "python",
   "nbconvert_exporter": "python",
   "pygments_lexer": "ipython3",
   "version": 3
  },
  "orig_nbformat": 2
 },
 "nbformat": 4,
 "nbformat_minor": 2,
 "cells": [
  {
   "source": [
    "Write a python program to make a simple calculator"
   ],
   "cell_type": "markdown",
   "metadata": {}
  },
  {
   "cell_type": "code",
   "execution_count": null,
   "metadata": {},
   "outputs": [],
   "source": [
    "n=1\n",
    "while n!=0: \n",
    "    n1=int(input(\"enter the first no :\"))\n",
    "    n2=int(input(\"enter the second no :\"))\n",
    "    num=int(input(\"\"\"These are the following choices:\n",
    "    enter 1 for addition\n",
    "    enter 2 for subtraction\n",
    "    enter 3 for multiplication\n",
    "    enter 4 for division\n",
    "    \"\"\"))\n",
    "    if num==1:\n",
    "        print(\"sum is\",n1+n2)\n",
    "    elif num==2:\n",
    "        print(\"difference is\",n1-n2)\n",
    "    elif num==3:\n",
    "        print(\"product is\",n1*n2)\n",
    "    elif num==4:\n",
    "        print(\"quotient is\",n1/n2)\n",
    "    else:\n",
    "        print(\"invalid choice\")\n",
    "    n=int(input((\"\"\"do you want to continue\n",
    "    press 1 for yes \n",
    "    press 0 for no \"\"\")))\n",
    "print(\"thank you\")\n",
    "\n"
   ]
  }
 ]
}