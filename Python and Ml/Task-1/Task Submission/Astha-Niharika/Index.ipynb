{
 "cells": [
  {
   "cell_type": "code",
   "execution_count": 1,
   "metadata": {},
   "outputs": [
    {
     "name": "stdout",
     "output_type": "stream",
     "text": [
      "Select operation : 1.Add 2.Substract 3.Multiply 4.Division\n",
      "Enter choice :2\n",
      "Enter first number: 3\n",
      "Enter second number: 4\n",
      "3 - 4 = -1\n"
     ]
    }
   ],
   "source": [
    "def add(a, b):\n",
    "   return a + b\n",
    " \n",
    "def subt(a, b):\n",
    "   return a - b\n",
    " \n",
    "def mul(a, b):\n",
    "   return a * b\n",
    " \n",
    "def div(a, b):\n",
    "   return a / b\n",
    " \n",
    "print(\"Select operation : 1.Add 2.Substract 3.Multiply 4.Division\")\n",
    "\n",
    "ch = input(\"Enter choice :\")\n",
    " \n",
    "n1 = int(input(\"Enter first number: \"))\n",
    "n2 = int(input(\"Enter second number: \"))\n",
    " \n",
    "if ch == '1':\n",
    "   print(n1,\"+\",n2,\"=\", add(n1,n2))\n",
    " \n",
    "elif ch == '2':\n",
    "   print(n1,\"-\",n2,\"=\", subt(n1,n2))\n",
    " \n",
    "elif ch == '3':\n",
    "   print(n1,\"*\",n2,\"=\", mul(n1,n2))\n",
    " \n",
    "elif ch == '4':\n",
    "   print(n1,\"/\",n2,\"=\", div(n1,n2))\n",
    "else:\n",
    "   print(\"Invalid input\")"
   ]
  },
  {
   "cell_type": "code",
   "execution_count": null,
   "metadata": {},
   "outputs": [],
   "source": []
  }
 ],
 "metadata": {
  "kernelspec": {
   "display_name": "Python 3",
   "language": "python",
   "name": "python3"
  },
  "language_info": {
   "codemirror_mode": {
    "name": "ipython",
    "version": 3
   },
   "file_extension": ".py",
   "mimetype": "text/x-python",
   "name": "python",
   "nbconvert_exporter": "python",
   "pygments_lexer": "ipython3",
   "version": "3.6.13"
  }
 },
 "nbformat": 4,
 "nbformat_minor": 2
}
