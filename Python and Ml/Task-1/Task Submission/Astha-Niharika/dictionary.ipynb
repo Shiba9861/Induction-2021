{
 "cells": [
  {
   "cell_type": "code",
   "execution_count": 1,
   "id": "active-selling",
   "metadata": {},
   "outputs": [
    {
     "name": "stdout",
     "output_type": "stream",
     "text": [
      "Enter the words: hey I am Astha Niharika\n",
      "Astha\n",
      "I\n",
      "Niharika\n",
      "am\n",
      "hey\n"
     ]
    }
   ],
   "source": [
    "\n",
    "str_word = input(\"Enter the words: \")  #taking input of words\n",
    "words = str_word.split()  #spliting each word\n",
    "\n",
    "words.sort()  #sorting it\n",
    "\n",
    "for word in words:  #printing it  \n",
    "   print(word)  "
   ]
  },
  {
   "cell_type": "code",
   "execution_count": null,
   "id": "chronic-perth",
   "metadata": {},
   "outputs": [],
   "source": []
  }
 ],
 "metadata": {
  "kernelspec": {
   "display_name": "Python 3",
   "language": "python",
   "name": "python3"
  },
  "language_info": {
   "codemirror_mode": {
    "name": "ipython",
    "version": 3
   },
   "file_extension": ".py",
   "mimetype": "text/x-python",
   "name": "python",
   "nbconvert_exporter": "python",
   "pygments_lexer": "ipython3",
   "version": "3.6.13"
  }
 },
 "nbformat": 4,
 "nbformat_minor": 5
}
