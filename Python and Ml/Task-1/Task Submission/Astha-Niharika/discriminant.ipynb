{
 "cells": [
  {
   "cell_type": "code",
   "execution_count": null,
   "id": "comparable-clinic",
   "metadata": {},
   "outputs": [],
   "source": [
    "\n",
    "import cmath      #importing math module\n",
    "\n",
    "a = float(input(\"Enter the value of a: \"))   \n",
    "b = float(input(\"Enter the value of b: \"))\n",
    "c = float(input(\"And Enter the value of c: \"))\n",
    "\n",
    "\n",
    "d = (b**2) - (4*a*c)      # calculating discriminant\n",
    "\n",
    "r1 = (-b + cmath.sqrt(d)) / (2*a)    #finding the root\n",
    "r2 = (-b - cmath.sqrt(d)) / (2*a)\n",
    "\n",
    "print('The values are : {} and {}'.format(r1, r2))  "
   ]
  },
  {
   "cell_type": "code",
   "execution_count": null,
   "id": "antique-secretary",
   "metadata": {},
   "outputs": [],
   "source": []
  }
 ],
 "metadata": {
  "kernelspec": {
   "display_name": "Python 3",
   "language": "python",
   "name": "python3"
  },
  "language_info": {
   "codemirror_mode": {
    "name": "ipython",
    "version": 3
   },
   "file_extension": ".py",
   "mimetype": "text/x-python",
   "name": "python",
   "nbconvert_exporter": "python",
   "pygments_lexer": "ipython3",
   "version": "3.6.13"
  }
 },
 "nbformat": 4,
 "nbformat_minor": 5
}
