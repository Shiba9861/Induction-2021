{
 "cells": [
  {
   "cell_type": "code",
   "execution_count": 1,
   "id": "indirect-shopping",
   "metadata": {},
   "outputs": [
    {
     "name": "stdout",
     "output_type": "stream",
     "text": [
      "Random number summation list is : 3558\n"
     ]
    }
   ],
   "source": [
    "import random   #importing random module\n",
    " \n",
    "sel = sum(random.sample(range(1, 1000), 10))  #random.sample for\n",
    " \n",
    "print (\"Random number summation list is : \" + str(sel))  #printing the sum"
   ]
  },
  {
   "cell_type": "code",
   "execution_count": null,
   "id": "removed-bandwidth",
   "metadata": {},
   "outputs": [],
   "source": []
  }
 ],
 "metadata": {
  "kernelspec": {
   "display_name": "Python 3",
   "language": "python",
   "name": "python3"
  },
  "language_info": {
   "codemirror_mode": {
    "name": "ipython",
    "version": 3
   },
   "file_extension": ".py",
   "mimetype": "text/x-python",
   "name": "python",
   "nbconvert_exporter": "python",
   "pygments_lexer": "ipython3",
   "version": "3.6.13"
  }
 },
 "nbformat": 4,
 "nbformat_minor": 5
}
