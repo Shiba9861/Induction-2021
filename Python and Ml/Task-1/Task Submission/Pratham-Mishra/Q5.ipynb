{
  "nbformat": 4,
  "nbformat_minor": 0,
  "metadata": {
    "colab": {
      "name": "Q5.ipynb",
      "provenance": [],
      "collapsed_sections": []
    },
    "kernelspec": {
      "name": "python3",
      "display_name": "Python 3"
    },
    "language_info": {
      "name": "python"
    }
  },
  "cells": [
    {
      "cell_type": "markdown",
      "metadata": {
        "id": "5UiX55ZDQVnv"
      },
      "source": [
        "# **Write a python program to generate 10 random numbers and print their sum.**"
      ]
    },
    {
      "cell_type": "code",
      "metadata": {
        "colab": {
          "base_uri": "https://localhost:8080/"
        },
        "id": "EKxOuWvSRObn",
        "outputId": "bc4a95fb-17d3-4cda-af3f-b4396cfe7085"
      },
      "source": [
        "import random\n",
        "s=0\n",
        "for i in range(10):\n",
        "    s=s+random.randint(1,100)\n",
        "print(\"Sum of random numbers :\",s)"
      ],
      "execution_count": 20,
      "outputs": [
        {
          "output_type": "stream",
          "text": [
            "Sum of random numbers : 583\n"
          ],
          "name": "stdout"
        }
      ]
    }
  ]
}