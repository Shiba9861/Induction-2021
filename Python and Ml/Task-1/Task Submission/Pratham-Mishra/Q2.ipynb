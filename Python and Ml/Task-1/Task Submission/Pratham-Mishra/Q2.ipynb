{
  "nbformat": 4,
  "nbformat_minor": 0,
  "metadata": {
    "colab": {
      "name": "Q2.ipynb",
      "provenance": [],
      "collapsed_sections": []
    },
    "kernelspec": {
      "name": "python3",
      "display_name": "Python 3"
    },
    "language_info": {
      "name": "python"
    }
  },
  "cells": [
    {
      "cell_type": "markdown",
      "metadata": {
        "id": "PIyrqKImFCFn"
      },
      "source": [
        "# **Write a python program to find a Armstrong number with in a given interval.**"
      ]
    },
    {
      "cell_type": "code",
      "metadata": {
        "colab": {
          "base_uri": "https://localhost:8080/"
        },
        "id": "EOP3iTA0FJtW",
        "outputId": "4d9fc99c-ebfe-4563-c6fc-fb1a7510a921"
      },
      "source": [
        "From = int(input(\"From: \"))  \n",
        "To = int(input(\"To: \"))  \n",
        "print(\"Armstrong numbers within {0} and {1} are :\".format(From,To))\n",
        "for num in range(From,To + 1):  \n",
        "   sum = 0  \n",
        "   temp = num  \n",
        "   while temp > 0:  \n",
        "       digit = temp % 10  \n",
        "       sum += digit ** 3  \n",
        "       temp //= 10  \n",
        "       if num == sum:  \n",
        "            print(num)  "
      ],
      "execution_count": 5,
      "outputs": [
        {
          "output_type": "stream",
          "text": [
            "From: 100\n",
            "To: 500\n",
            "Armstrong numbers within 100 and 500 are :\n",
            "125\n",
            "153\n",
            "216\n",
            "370\n",
            "371\n",
            "407\n"
          ],
          "name": "stdout"
        }
      ]
    }
  ]
}