{
  "nbformat": 4,
  "nbformat_minor": 0,
  "metadata": {
    "colab": {
      "name": "Q3.ipynb",
      "provenance": []
    },
    "kernelspec": {
      "name": "python3",
      "display_name": "Python 3"
    },
    "language_info": {
      "name": "python"
    }
  },
  "cells": [
    {
      "cell_type": "markdown",
      "metadata": {
        "id": "z5K_2VEzH4XX"
      },
      "source": [
        "# **Write a python program to make a simple calculator.**"
      ]
    },
    {
      "cell_type": "code",
      "metadata": {
        "colab": {
          "base_uri": "https://localhost:8080/"
        },
        "id": "JcS27PhuIBvV",
        "outputId": "787386a6-8c36-41dd-9e21-af85ec3a2d43"
      },
      "source": [
        "num1 = float(input(\"Enter the first number: \"))\n",
        "num2 = float(input(\"Enter the second number: \"))\n",
        "\n",
        "ops = (input(\"Enter the type of opration: \"))\n",
        "\n",
        "if ops == '+':\n",
        "   print(num1,\"+\",num2,\"=\", (num1+num2))\n",
        " \n",
        "elif ops == '-':\n",
        "   print(num1,\"-\",num2,\"=\", (num1-num2))\n",
        " \n",
        "elif ops == '*':\n",
        "   print(num1,\"*\",num2,\"=\", (num1*num2))\n",
        " \n",
        "elif ops == '/':\n",
        "   print(num1,\"/\",num2,\"=\", (num1/num2))\n",
        "\n",
        "else:\n",
        "   print(\"Invalid opration\")"
      ],
      "execution_count": 9,
      "outputs": [
        {
          "output_type": "stream",
          "text": [
            "Enter the first number: 10\n",
            "Enter the second number: 5\n",
            "Enter the type of opration: %\n",
            "Invalid opration\n"
          ],
          "name": "stdout"
        }
      ]
    }
  ]
}