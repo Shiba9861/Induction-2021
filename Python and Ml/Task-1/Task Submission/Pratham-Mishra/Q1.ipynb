{
  "nbformat": 4,
  "nbformat_minor": 0,
  "metadata": {
    "colab": {
      "name": "Q1.ipynb",
      "provenance": []
    },
    "kernelspec": {
      "name": "python3",
      "display_name": "Python 3"
    },
    "language_info": {
      "name": "python"
    }
  },
  "cells": [
    {
      "cell_type": "markdown",
      "metadata": {
        "id": "cvLgFOUTCTnU"
      },
      "source": [
        "# **Write a python program to solve the quadratic equation ax² + bx + c = 0.**"
      ]
    },
    {
      "cell_type": "code",
      "metadata": {
        "colab": {
          "base_uri": "https://localhost:8080/"
        },
        "id": "OJC1fOdCDeHu",
        "outputId": "467c64ca-b939-41ab-f358-d645aa76f9c6"
      },
      "source": [
        "import cmath\n",
        "\n",
        "a = int(input(\"Enter the value of a:\"))\n",
        "b = int(input(\"Enter the value of b:\"))\n",
        "c = int(input(\"Enter the value of c:\"))\n",
        "d = (b**2) - (4*a*c)\n",
        "root1 = (-b-cmath.sqrt(d))/(2*a)\n",
        "root2 = (-b+cmath.sqrt(d))/(2*a)\n",
        "print('solutions: {0} and {1}'.format(root1,root2))"
      ],
      "execution_count": 4,
      "outputs": [
        {
          "output_type": "stream",
          "text": [
            "Enter the value of a:1\n",
            "Enter the value of b:5\n",
            "Enter the value of c:6\n",
            "solutions: (-3+0j) and (-2+0j)\n"
          ],
          "name": "stdout"
        }
      ]
    }
  ]
}