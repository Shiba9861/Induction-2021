{
  "nbformat": 4,
  "nbformat_minor": 0,
  "metadata": {
    "colab": {
      "name": "Q4.ipynb",
      "provenance": []
    },
    "kernelspec": {
      "name": "python3",
      "display_name": "Python 3"
    },
    "language_info": {
      "name": "python"
    }
  },
  "cells": [
    {
      "cell_type": "markdown",
      "metadata": {
        "id": "DEX5F6mTLVTB"
      },
      "source": [
        "# **Write a python to program to sort words in alphabetically order.**"
      ]
    },
    {
      "cell_type": "code",
      "metadata": {
        "colab": {
          "base_uri": "https://localhost:8080/"
        },
        "id": "AL1Ti5uvLfyJ",
        "outputId": "8e393fa2-33a2-488a-be3e-58b81f96fbb5"
      },
      "source": [
        "str1 = input(\"Enter the string: \")\n",
        "print(\"Sorted words: \",end =\" \")\n",
        "words = str1.split()\n",
        "words.sort()\n",
        "for word in words:\n",
        "   print(word,end =\" \")"
      ],
      "execution_count": 20,
      "outputs": [
        {
          "output_type": "stream",
          "text": [
            "Enter the string: my name is\n",
            "Sorted words:  is my name "
          ],
          "name": "stdout"
        }
      ]
    }
  ]
}