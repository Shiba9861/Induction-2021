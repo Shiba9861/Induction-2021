{
 "metadata": {
  "language_info": {
   "codemirror_mode": {
    "name": "ipython",
    "version": 3
   },
   "file_extension": ".py",
   "mimetype": "text/x-python",
   "name": "python",
   "nbconvert_exporter": "python",
   "pygments_lexer": "ipython3",
   "version": "3.9.1"
  },
  "orig_nbformat": 2,
  "kernelspec": {
   "name": "python391jvsc74a57bd0b22dcfe36dcdb67fe0e1079cfbe50ec9aa13b184019151a691f70602962a124c",
   "display_name": "Python 3.9.1 64-bit"
  },
  "metadata": {
   "interpreter": {
    "hash": "b22dcfe36dcdb67fe0e1079cfbe50ec9aa13b184019151a691f70602962a124c"
   }
  }
 },
 "nbformat": 4,
 "nbformat_minor": 2,
 "cells": [
  {
   "cell_type": "code",
   "execution_count": 1,
   "metadata": {},
   "outputs": [
    {
     "output_type": "stream",
     "name": "stdout",
     "text": [
      "The random numbers generated :\n31841\n32032\n63338\n65841\n77842\n41094\n36068\n5198\n73283\nThe sum of numbers generated : 426537\n"
     ]
    }
   ],
   "source": [
    "import random\n",
    "x = []\n",
    "print(\"The random numbers generated :\")\n",
    "for i in range(1,10):\n",
    "    z = random.randrange(0,100000)\n",
    "    print(z)\n",
    "    y = [z]\n",
    "    x.extend(y)\n",
    "    i += 1\n",
    "print(\"The sum of numbers generated :\",sum(x))"
   ]
  },
  {
   "cell_type": "code",
   "execution_count": null,
   "metadata": {},
   "outputs": [],
   "source": []
  }
 ]
}