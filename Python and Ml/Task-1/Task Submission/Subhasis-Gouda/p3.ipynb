{
 "metadata": {
  "language_info": {
   "codemirror_mode": {
    "name": "ipython",
    "version": 3
   },
   "file_extension": ".py",
   "mimetype": "text/x-python",
   "name": "python",
   "nbconvert_exporter": "python",
   "pygments_lexer": "ipython3",
   "version": "3.9.1"
  },
  "orig_nbformat": 2,
  "kernelspec": {
   "name": "python391jvsc74a57bd0b22dcfe36dcdb67fe0e1079cfbe50ec9aa13b184019151a691f70602962a124c",
   "display_name": "Python 3.9.1 64-bit"
  },
  "metadata": {
   "interpreter": {
    "hash": "b22dcfe36dcdb67fe0e1079cfbe50ec9aa13b184019151a691f70602962a124c"
   }
  }
 },
 "nbformat": 4,
 "nbformat_minor": 2,
 "cells": [
  {
   "cell_type": "code",
   "execution_count": 1,
   "metadata": {},
   "outputs": [
    {
     "output_type": "stream",
     "name": "stdout",
     "text": [
      "Product is :  625\n"
     ]
    }
   ],
   "source": [
    "z = int ( input(\"Enter your choice \\n 1 for addition \\n 2 for subtraction \\n 3 for multiplication \\n 4 for division \\n\") )\n",
    "if z>4 or z<1 :\n",
    "    print(\"invalid choice\")\n",
    "else:\n",
    "    x = int( input(\"Enter the 1st no :\") )\n",
    "    y = int( input(\"Enter the 2nd no :\") )\n",
    "    if z == 1:\n",
    "        print(\"Sum is :\", x + y)\n",
    "    elif z == 2:\n",
    "        print(\"Difference is :\", x - y)\n",
    "    elif z == 3:\n",
    "        print(\"Product is : \", x * y)\n",
    "    elif z == 4:\n",
    "        print(\"Quotient is :\" , x / y)\n"
   ]
  },
  {
   "cell_type": "code",
   "execution_count": null,
   "metadata": {},
   "outputs": [],
   "source": []
  }
 ]
}