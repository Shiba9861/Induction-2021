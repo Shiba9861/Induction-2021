{
 "metadata": {
  "language_info": {
   "codemirror_mode": {
    "name": "ipython",
    "version": 3
   },
   "file_extension": ".py",
   "mimetype": "text/x-python",
   "name": "python",
   "nbconvert_exporter": "python",
   "pygments_lexer": "ipython3",
   "version": "3.9.1"
  },
  "orig_nbformat": 2,
  "kernelspec": {
   "name": "python391jvsc74a57bd0b22dcfe36dcdb67fe0e1079cfbe50ec9aa13b184019151a691f70602962a124c",
   "display_name": "Python 3.9.1 64-bit"
  },
  "metadata": {
   "interpreter": {
    "hash": "b22dcfe36dcdb67fe0e1079cfbe50ec9aa13b184019151a691f70602962a124c"
   }
  }
 },
 "nbformat": 4,
 "nbformat_minor": 2,
 "cells": [
  {
   "cell_type": "code",
   "execution_count": 1,
   "metadata": {},
   "outputs": [
    {
     "output_type": "stream",
     "name": "stdout",
     "text": [
      "The roots of equation  5 **x +  10 x + 1 : 7.0 -13.0\n"
     ]
    }
   ],
   "source": [
    "a = int( input(\"Enter a : \") )\n",
    "b = int( input(\"Enter b : \") )\n",
    "c = int( input(\"Enter c : \") )\n",
    "r1 = ( -b + (b*b) - (4*a*c) ) / (2*a)\n",
    "r2 = ( -b - (b*b) - (4*a*c) ) / (2*a)\n",
    "print(\"The roots of equation \",a,\"**x + \",b,\"x +\",c,\":\",r1,r2)"
   ]
  },
  {
   "cell_type": "code",
   "execution_count": null,
   "metadata": {},
   "outputs": [],
   "source": []
  }
 ]
}