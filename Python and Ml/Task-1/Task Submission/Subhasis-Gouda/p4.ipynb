{
 "metadata": {
  "language_info": {
   "codemirror_mode": {
    "name": "ipython",
    "version": 3
   },
   "file_extension": ".py",
   "mimetype": "text/x-python",
   "name": "python",
   "nbconvert_exporter": "python",
   "pygments_lexer": "ipython3",
   "version": "3.9.1"
  },
  "orig_nbformat": 2,
  "kernelspec": {
   "name": "python391jvsc74a57bd0b22dcfe36dcdb67fe0e1079cfbe50ec9aa13b184019151a691f70602962a124c",
   "display_name": "Python 3.9.1 64-bit"
  },
  "metadata": {
   "interpreter": {
    "hash": "b22dcfe36dcdb67fe0e1079cfbe50ec9aa13b184019151a691f70602962a124c"
   }
  }
 },
 "nbformat": 4,
 "nbformat_minor": 2,
 "cells": [
  {
   "cell_type": "code",
   "execution_count": 1,
   "metadata": {},
   "outputs": [
    {
     "output_type": "stream",
     "name": "stdout",
     "text": [
      "AUDI\nBMW\nBUGATTI\nlamborghini\n"
     ]
    }
   ],
   "source": [
    "a = []\n",
    "c = 1\n",
    "while c!= 0:\n",
    "    insert = input(\"Enter your word ( enter ':0 ' to stop ) : \")\n",
    "    if insert == \":0\":\n",
    "        c=0\n",
    "        break\n",
    "    else:\n",
    "        b = [insert]\n",
    "        a.extend(b)\n",
    "a.sort()\n",
    "for d in a:\n",
    "    print(d)"
   ]
  },
  {
   "cell_type": "code",
   "execution_count": null,
   "metadata": {},
   "outputs": [],
   "source": []
  }
 ]
}