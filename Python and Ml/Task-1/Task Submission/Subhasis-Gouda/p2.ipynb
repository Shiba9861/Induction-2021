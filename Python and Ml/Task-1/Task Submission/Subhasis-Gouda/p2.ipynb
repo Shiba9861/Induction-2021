{
 "metadata": {
  "language_info": {
   "codemirror_mode": {
    "name": "ipython",
    "version": 3
   },
   "file_extension": ".py",
   "mimetype": "text/x-python",
   "name": "python",
   "nbconvert_exporter": "python",
   "pygments_lexer": "ipython3",
   "version": "3.9.1"
  },
  "orig_nbformat": 2,
  "kernelspec": {
   "name": "python391jvsc74a57bd0b22dcfe36dcdb67fe0e1079cfbe50ec9aa13b184019151a691f70602962a124c",
   "display_name": "Python 3.9.1 64-bit"
  },
  "metadata": {
   "interpreter": {
    "hash": "b22dcfe36dcdb67fe0e1079cfbe50ec9aa13b184019151a691f70602962a124c"
   }
  }
 },
 "nbformat": 4,
 "nbformat_minor": 2,
 "cells": [
  {
   "cell_type": "code",
   "execution_count": 1,
   "metadata": {},
   "outputs": [
    {
     "output_type": "stream",
     "name": "stdout",
     "text": [
      "1  is an armstrong number \n153  is an armstrong number \n370  is an armstrong number \n371  is an armstrong number \n407  is an armstrong number \n1634  is an armstrong number \n"
     ]
    }
   ],
   "source": [
    "def armstrong(z):\n",
    "    t = z\n",
    "    ctr = 0\n",
    "    while z != 0 : \n",
    "        z //= 10\n",
    "        ctr += 1\n",
    "    z = t\n",
    "    s=0\n",
    "    while t != 0:\n",
    "        s += ( t % 10 ) ** ctr\n",
    "        t //= 10\n",
    "    if s == z :\n",
    "        print(z,\" is an armstrong number \")\n",
    "z = x = int( input(\"Enter the lower limit : \") ) \n",
    "y = int( input(\"Enter the upper limit : \") )\n",
    "while z <= y:\n",
    "    if z < 2 or z > 9 :\n",
    "        armstrong(z)\n",
    "    z+=1\n"
   ]
  },
  {
   "cell_type": "code",
   "execution_count": null,
   "metadata": {},
   "outputs": [],
   "source": []
  }
 ]
}