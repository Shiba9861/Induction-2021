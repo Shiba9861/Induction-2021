{
 "cells": [
  {
   "cell_type": "code",
   "execution_count": 1,
   "id": "649efea2",
   "metadata": {},
   "outputs": [
    {
     "name": "stdout",
     "output_type": "stream",
     "text": [
      "the random numbers are : [29, 34, 44, 47, 24, 50, 35, 50, 13, 29]\n",
      "the sum of random no.: 355\n"
     ]
    }
   ],
   "source": [
    "\n",
    "import random\n",
    "randomlist = []\n",
    "sum=0\n",
    "for i in range(10):\n",
    "   x = random.randint(1,50)\n",
    "   randomlist.append(x)\n",
    "   sum+=x\n",
    "print(f\"the random numbers are : {randomlist}\")\n",
    "print(f\"the sum of random no.: {sum}\")"
   ]
  },
  {
   "cell_type": "code",
   "execution_count": null,
   "id": "43ca9baf",
   "metadata": {},
   "outputs": [],
   "source": []
  }
 ],
 "metadata": {
  "kernelspec": {
   "display_name": "Python 3",
   "language": "python",
   "name": "python3"
  },
  "language_info": {
   "codemirror_mode": {
    "name": "ipython",
    "version": 3
   },
   "file_extension": ".py",
   "mimetype": "text/x-python",
   "name": "python",
   "nbconvert_exporter": "python",
   "pygments_lexer": "ipython3",
   "version": "3.8.8"
  }
 },
 "nbformat": 4,
 "nbformat_minor": 5
}
