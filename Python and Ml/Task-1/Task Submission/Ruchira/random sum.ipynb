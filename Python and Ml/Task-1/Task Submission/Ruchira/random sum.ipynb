{
 "cells": [
  {
   "cell_type": "code",
   "execution_count": 1,
   "id": "69525a0f",
   "metadata": {},
   "outputs": [
    {
     "name": "stdout",
     "output_type": "stream",
     "text": [
      "The numbers are: [3, 25, 32, 20, 49, 10, 22, 47, 32, 16]\n",
      "The sum is: 256\n"
     ]
    }
   ],
   "source": [
    "import random\n",
    "l=[]\n",
    "s=0\n",
    "for i in range(10):\n",
    "    x=random.randint(1,50)\n",
    "    l.append(x)\n",
    "    s+=x\n",
    "    \n",
    "print(f\"The numbers are: {l}\")\n",
    "print(f\"The sum is: {s}\")"
   ]
  },
  {
   "cell_type": "code",
   "execution_count": null,
   "id": "824924b2",
   "metadata": {},
   "outputs": [],
   "source": []
  }
 ],
 "metadata": {
  "kernelspec": {
   "display_name": "Python 3",
   "language": "python",
   "name": "python3"
  },
  "language_info": {
   "codemirror_mode": {
    "name": "ipython",
    "version": 3
   },
   "file_extension": ".py",
   "mimetype": "text/x-python",
   "name": "python",
   "nbconvert_exporter": "python",
   "pygments_lexer": "ipython3",
   "version": "3.8.6"
  }
 },
 "nbformat": 4,
 "nbformat_minor": 5
}
