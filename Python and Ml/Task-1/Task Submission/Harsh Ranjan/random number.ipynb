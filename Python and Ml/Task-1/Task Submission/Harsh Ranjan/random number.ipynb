{
 "cells": [
  {
   "cell_type": "code",
   "execution_count": 2,
   "id": "5e1676a1",
   "metadata": {},
   "outputs": [
    {
     "name": "stdout",
     "output_type": "stream",
     "text": [
      "0\n",
      "0.8739767772356634\n",
      "1.5308768319953647\n",
      "2.3447099257846076\n",
      "2.536050471963299\n",
      "3.2563441028559743\n",
      "3.9605201460156145\n",
      "4.476651227796731\n",
      "5.359034095208465\n",
      "5.722151790306875\n",
      "The sum of 10 random numbers generated is:  5.923741140752532\n"
     ]
    }
   ],
   "source": [
    "import random\n",
    "sum=0\n",
    "for i in range (0,10):\n",
    "    print(sum)\n",
    "    sum=sum+random.random()\n",
    "\n",
    "print(\"The sum of 10 random numbers generated is: \",sum)"
   ]
  },
  {
   "cell_type": "code",
   "execution_count": null,
   "id": "67519a97",
   "metadata": {},
   "outputs": [],
   "source": []
  }
 ],
 "metadata": {
  "kernelspec": {
   "display_name": "Python 3",
   "language": "python",
   "name": "python3"
  },
  "language_info": {
   "codemirror_mode": {
    "name": "ipython",
    "version": 3
   },
   "file_extension": ".py",
   "mimetype": "text/x-python",
   "name": "python",
   "nbconvert_exporter": "python",
   "pygments_lexer": "ipython3",
   "version": "3.8.8"
  }
 },
 "nbformat": 4,
 "nbformat_minor": 5
}
