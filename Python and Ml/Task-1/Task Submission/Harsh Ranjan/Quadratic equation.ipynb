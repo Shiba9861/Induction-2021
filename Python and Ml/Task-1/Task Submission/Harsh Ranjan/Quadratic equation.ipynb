{
 "cells": [
  {
   "cell_type": "code",
   "execution_count": 1,
   "id": "e1fc437f",
   "metadata": {},
   "outputs": [
    {
     "name": "stdout",
     "output_type": "stream",
     "text": [
      "Please Enput the Value of cofficient of x**2: 2\n",
      "Please Input the value of cofficient of x: 5\n",
      "Please input the value of constant: 8\n",
      "The discriminant of the quadratic equation 2 x**2 + 5 x + 8 =0 is negative, so no solutions\n"
     ]
    }
   ],
   "source": [
    "# case 1\n",
    "import math\n",
    "a=int(input(\"Please Enput the Value of cofficient of x**2: \"))\n",
    "b=int(input(\"Please Input the value of cofficient of x: \"))\n",
    "c=int(input(\"Please input the value of constant: \"))\n",
    "d=(b*b)-(4*a*c)\n",
    "if(a!=0):\n",
    "    if( d > 0):\n",
    "        x=(math.sqrt(d)-b)/(2*a)\n",
    "        print(\"The solution of the quadratic equation \",a,\"x**2 +\",b,\"x +\",c, \"=0 is:\",x)\n",
    "    elif( d < 0):\n",
    "        print(\"The discriminant of the quadratic equation\",a,\"x**2 +\",b,\"x +\",c,\"=0 is negative, so no solutions\")\n",
    "elif(a==0):\n",
    "    print(\"The cofficient of x**2 is zero, so make it >0\")"
   ]
  },
  {
   "cell_type": "code",
   "execution_count": 2,
   "id": "075f0e29",
   "metadata": {},
   "outputs": [
    {
     "name": "stdout",
     "output_type": "stream",
     "text": [
      "Please Enput the Value of cofficient of x**2: 0\n",
      "Please Input the value of cofficient of x: 2\n",
      "Please input the value of constant: 5\n",
      "The cofficient of x**2 is zero, so make it >0\n"
     ]
    }
   ],
   "source": [
    "# case 2\n",
    "import math\n",
    "a=int(input(\"Please Enput the Value of cofficient of x**2: \"))\n",
    "b=int(input(\"Please Input the value of cofficient of x: \"))\n",
    "c=int(input(\"Please input the value of constant: \"))\n",
    "d=(b*b)-(4*a*c)\n",
    "if(a!=0):\n",
    "    if( d > 0):\n",
    "        x=(math.sqrt(d)-b)/(2*a)\n",
    "        print(\"The solution of the quadratic equation \",a,\"x**2 +\",b,\"x +\",c, \"=0 is:\",x)\n",
    "    elif( d < 0):\n",
    "        print(\"The discriminant of the quadratic equation\",a,\"x**2 +\",b,\"x +\",c,\"=0 is negative, so no solutions\")\n",
    "elif(a==0):\n",
    "    print(\"The cofficient of x**2 is zero, so make it >0\")"
   ]
  },
  {
   "cell_type": "code",
   "execution_count": 3,
   "id": "bc143db5",
   "metadata": {},
   "outputs": [
    {
     "name": "stdout",
     "output_type": "stream",
     "text": [
      "Please Enput the Value of cofficient of x**2: -1\n",
      "Please Input the value of cofficient of x: 6\n",
      "Please input the value of constant: 18\n",
      "The solution of the quadratic equation  -1 x**2 + 6 x + 18 =0 is: -2.196152422706632\n"
     ]
    }
   ],
   "source": [
    "# case 3\n",
    "import math\n",
    "a=int(input(\"Please Enput the Value of cofficient of x**2: \"))\n",
    "b=int(input(\"Please Input the value of cofficient of x: \"))\n",
    "c=int(input(\"Please input the value of constant: \"))\n",
    "d=(b*b)-(4*a*c)\n",
    "if(a!=0):\n",
    "    if( d > 0):\n",
    "        x=(math.sqrt(d)-b)/(2*a)\n",
    "        print(\"The solution of the quadratic equation \",a,\"x**2 +\",b,\"x +\",c, \"=0 is:\",x)\n",
    "    elif( d < 0):\n",
    "        print(\"The discriminant of the quadratic equation\",a,\"x**2 +\",b,\"x +\",c,\"=0 is negative, so no solutions\")\n",
    "elif(a==0):\n",
    "    print(\"The cofficient of x**2 is zero, so make it >0\")"
   ]
  }
 ],
 "metadata": {
  "kernelspec": {
   "display_name": "Python 3",
   "language": "python",
   "name": "python3"
  },
  "language_info": {
   "codemirror_mode": {
    "name": "ipython",
    "version": 3
   },
   "file_extension": ".py",
   "mimetype": "text/x-python",
   "name": "python",
   "nbconvert_exporter": "python",
   "pygments_lexer": "ipython3",
   "version": "3.8.8"
  }
 },
 "nbformat": 4,
 "nbformat_minor": 5
}
