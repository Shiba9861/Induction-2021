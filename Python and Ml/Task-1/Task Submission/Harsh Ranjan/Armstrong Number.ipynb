{
 "cells": [
  {
   "cell_type": "code",
   "execution_count": 1,
   "id": "7a3aa87d",
   "metadata": {},
   "outputs": [
    {
     "name": "stdout",
     "output_type": "stream",
     "text": [
      "Please input the upper limit of the range of the armstrong number: 1\n",
      "Please input the lower limit opf the armstrong number: 1000\n",
      "The armstrong numbers are: \n",
      "1\n",
      "153\n",
      "370\n",
      "371\n",
      "407\n",
      "Total Armstrong number between  1 to  1000 is:  5\n"
     ]
    }
   ],
   "source": [
    "import math\n",
    "a=int(input(\"Please input the upper limit of the range of the armstrong number: \"))\n",
    "b=int(input(\"Please input the lower limit opf the armstrong number: \"))\n",
    "arm=0\n",
    "chk=0\n",
    "print(\"The armstrong numbers are: \")\n",
    "for i in range (a,b):\n",
    "    c=i\n",
    "    arm=0\n",
    "    while c!=0:\n",
    "        dig = c%10\n",
    "        arm = arm + (math.pow(dig,3))\n",
    "        c=(c-dig)/10\n",
    "    if arm==i:\n",
    "        chk=chk+1\n",
    "        print(i)\n",
    "print(\"Total Armstrong number between \",a,\"to \",b,\"is: \",chk)"
   ]
  },
  {
   "cell_type": "code",
   "execution_count": null,
   "id": "151c1e4c",
   "metadata": {},
   "outputs": [],
   "source": []
  }
 ],
 "metadata": {
  "kernelspec": {
   "display_name": "Python 3",
   "language": "python",
   "name": "python3"
  },
  "language_info": {
   "codemirror_mode": {
    "name": "ipython",
    "version": 3
   },
   "file_extension": ".py",
   "mimetype": "text/x-python",
   "name": "python",
   "nbconvert_exporter": "python",
   "pygments_lexer": "ipython3",
   "version": "3.8.8"
  }
 },
 "nbformat": 4,
 "nbformat_minor": 5
}
