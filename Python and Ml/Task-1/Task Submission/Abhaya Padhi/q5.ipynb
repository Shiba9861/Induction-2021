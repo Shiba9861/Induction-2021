{
 "cells": [
  {
   "cell_type": "code",
   "execution_count": null,
   "id": "7a2c70f2",
   "metadata": {},
   "outputs": [],
   "source": [
    "import random\n",
    "  \n",
    "lower = int(input(\"Enter lower range: \"))  \n",
    "higher = int(input(\"Enter higher range: \"))  \n",
    "\n",
    "res = sum(random.sample(range(lower, higher), 10))\n",
    "  \n",
    "print (\"Random number summation list is : \" + str(res))"
   ]
  }
 ],
 "metadata": {
  "kernelspec": {
   "display_name": "Python 3",
   "language": "python",
   "name": "python3"
  },
  "language_info": {
   "codemirror_mode": {
    "name": "ipython",
    "version": 3
   },
   "file_extension": ".py",
   "mimetype": "text/x-python",
   "name": "python",
   "nbconvert_exporter": "python",
   "pygments_lexer": "ipython3",
   "version": "3.8.8"
  }
 },
 "nbformat": 4,
 "nbformat_minor": 5
}
