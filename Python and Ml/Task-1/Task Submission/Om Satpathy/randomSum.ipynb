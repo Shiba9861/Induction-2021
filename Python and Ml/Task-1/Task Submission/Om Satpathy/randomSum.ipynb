{
 "cells": [
  {
   "cell_type": "code",
   "execution_count": 4,
   "id": "acdb70d0",
   "metadata": {
    "scrolled": true
   },
   "outputs": [
    {
     "name": "stdout",
     "output_type": "stream",
     "text": [
      "Number  1  =  7.720042073645898\n",
      "Number  2  =  2.5705602632070623\n",
      "Number  3  =  2.742376804562439\n",
      "Number  4  =  5.050182079248435\n",
      "Number  5  =  8.407695564566106\n",
      "Number  6  =  5.522335489686047\n",
      "Number  7  =  6.432873984034191\n",
      "Number  8  =  7.170899788286133\n",
      "Number  9  =  8.719364168733723\n",
      "Number  10  =  1.405526380114051\n",
      "Sum =  55.74185659608409\n"
     ]
    }
   ],
   "source": [
    "import  random\n",
    "a=0\n",
    "for i in range(1,11):\n",
    "    n=random.uniform(1,10)\n",
    "    print(\"Number \",i,\" = \",n)\n",
    "    a=a+n\n",
    "print(\"Sum = \",a)"
   ]
  },
  {
   "cell_type": "code",
   "execution_count": null,
   "id": "ee5e74fa",
   "metadata": {},
   "outputs": [],
   "source": []
  },
  {
   "cell_type": "code",
   "execution_count": null,
   "id": "2f7f4983",
   "metadata": {},
   "outputs": [],
   "source": []
  },
  {
   "cell_type": "code",
   "execution_count": null,
   "id": "fae82c5a",
   "metadata": {},
   "outputs": [],
   "source": []
  }
 ],
 "metadata": {
  "kernelspec": {
   "display_name": "Python 3",
   "language": "python",
   "name": "python3"
  },
  "language_info": {
   "codemirror_mode": {
    "name": "ipython",
    "version": 3
   },
   "file_extension": ".py",
   "mimetype": "text/x-python",
   "name": "python",
   "nbconvert_exporter": "python",
   "pygments_lexer": "ipython3",
   "version": "3.9.5"
  }
 },
 "nbformat": 4,
 "nbformat_minor": 5
}
