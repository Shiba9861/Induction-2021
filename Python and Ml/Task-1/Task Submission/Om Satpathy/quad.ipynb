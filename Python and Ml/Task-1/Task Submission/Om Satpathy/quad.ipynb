{
 "cells": [
  {
   "cell_type": "code",
   "execution_count": 1,
   "id": "12b58513",
   "metadata": {},
   "outputs": [
    {
     "name": "stdout",
     "output_type": "stream",
     "text": [
      "Enter coefficient of x^2 i.e a : 2\n",
      "Enter coefficient of x i.e b: 10\n",
      "Enter the consatant term i.e c: 10\n",
      "The roots are :  -1.381966011250105  and  -3.618033988749895\n"
     ]
    }
   ],
   "source": [
    "a=float(input('Enter coefficient of x^2 i.e a : '))\n",
    "b=float(input('Enter coefficient of x i.e b: '))\n",
    "c=float(input(\"Enter the consatant term i.e c: \"))\n",
    "d=pow(b,2)-(4*a*c)\n",
    "dr=pow(d,0.5)\n",
    "if(d<0):\n",
    "    x1=(-b+dr)/(2*a)\n",
    "    x2=(-b-dr)/(2*a)\n",
    "    print(\"Imaginary roots : \",x1,\" and \",x2)\n",
    "elif(d==0):\n",
    "    x=-b/(2*a)\n",
    "    print(\"The root is : \",x)\n",
    "else:\n",
    "    x1=(-b+dr)/(2*a)\n",
    "    x2=(-b-dr)/(2*a)\n",
    "    print(\"The roots are : \",x1,\" and \",x2)\n",
    "\n"
   ]
  },
  {
   "cell_type": "code",
   "execution_count": null,
   "id": "1e141452",
   "metadata": {},
   "outputs": [],
   "source": []
  }
 ],
 "metadata": {
  "kernelspec": {
   "display_name": "Python 3",
   "language": "python",
   "name": "python3"
  },
  "language_info": {
   "codemirror_mode": {
    "name": "ipython",
    "version": 3
   },
   "file_extension": ".py",
   "mimetype": "text/x-python",
   "name": "python",
   "nbconvert_exporter": "python",
   "pygments_lexer": "ipython3",
   "version": "3.9.5"
  }
 },
 "nbformat": 4,
 "nbformat_minor": 5
}
