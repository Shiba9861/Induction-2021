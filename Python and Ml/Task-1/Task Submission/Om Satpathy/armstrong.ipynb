{
 "cells": [
  {
   "cell_type": "code",
   "execution_count": 3,
   "id": "dbc6a837",
   "metadata": {},
   "outputs": [
    {
     "name": "stdout",
     "output_type": "stream",
     "text": [
      "Enter an integer: 153\n",
      "Armstrong number.\n"
     ]
    }
   ],
   "source": [
    "a=int(input(\"Enter an integer: \"))\n",
    "n=a\n",
    "s=0\n",
    "def digitnum(a):\n",
    "    c=0\n",
    "    while(a>0):\n",
    "        a=int(a/10)\n",
    "        c=c+1\n",
    "    return c\n",
    "\n",
    "power=digitnum(a)\n",
    "while(n>0):\n",
    "    r=int(n%10)\n",
    "    n=int(n/10)\n",
    "    s=s+pow(r,power)\n",
    "if(s==a or a==0):\n",
    "    print(\"Armstrong number.\")\n",
    "else:\n",
    "    print(\"Not an armstrong number.\")\n",
    "\n",
    "    "
   ]
  },
  {
   "cell_type": "code",
   "execution_count": null,
   "id": "b57d931d",
   "metadata": {},
   "outputs": [],
   "source": []
  }
 ],
 "metadata": {
  "kernelspec": {
   "display_name": "Python 3",
   "language": "python",
   "name": "python3"
  },
  "language_info": {
   "codemirror_mode": {
    "name": "ipython",
    "version": 3
   },
   "file_extension": ".py",
   "mimetype": "text/x-python",
   "name": "python",
   "nbconvert_exporter": "python",
   "pygments_lexer": "ipython3",
   "version": "3.9.5"
  }
 },
 "nbformat": 4,
 "nbformat_minor": 5
}
