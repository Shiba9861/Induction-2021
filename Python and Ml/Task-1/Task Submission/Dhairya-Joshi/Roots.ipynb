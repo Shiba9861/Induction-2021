{
 "cells": [
  {
   "cell_type": "code",
   "execution_count": 11,
   "id": "7b9bdf28",
   "metadata": {},
   "outputs": [
    {
     "name": "stdout",
     "output_type": "stream",
     "text": [
      "For the equation Ax^2+Bx+C enter A, B and c: \n",
      "4 6 4\n",
      "The roots are -0.75+0.66i and -0.75-0.66i \n"
     ]
    }
   ],
   "source": [
    "print(\"For the equation Ax^2+Bx+C enter A, B and c: \")\n",
    "a,b,c=map(float,input().split())\n",
    "d= b**2-4*a*c\n",
    "if d<0:\n",
    "    d=(-1*d)**0.5\n",
    "    print(f\"The roots are {round(-1*b/(2*a),2)}+{round(d/(2*a),2)}i and {round(-1*b/(2*a),2)}-{round(d/(2*a),2)}i \")\n",
    "\n",
    "elif d==0:\n",
    "    print(f\"The roots are identical: {round(-1*b/(2*a),2)}\")\n",
    "\n",
    "else:\n",
    "    print(f\"The roots are: {round((-1*b+d)/(2*a),2)} and {round((-1*b-d)/(2*a),2)}\")"
   ]
  },
  {
   "cell_type": "code",
   "execution_count": null,
   "id": "8f42aca8",
   "metadata": {},
   "outputs": [],
   "source": []
  }
 ],
 "metadata": {
  "kernelspec": {
   "display_name": "Python 3",
   "language": "python",
   "name": "python3"
  },
  "language_info": {
   "codemirror_mode": {
    "name": "ipython",
    "version": 3
   },
   "file_extension": ".py",
   "mimetype": "text/x-python",
   "name": "python",
   "nbconvert_exporter": "python",
   "pygments_lexer": "ipython3",
   "version": "3.9.5"
  }
 },
 "nbformat": 4,
 "nbformat_minor": 5
}
