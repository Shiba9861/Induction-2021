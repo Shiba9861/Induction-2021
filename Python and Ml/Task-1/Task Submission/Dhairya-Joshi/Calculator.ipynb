{
 "cells": [
  {
   "cell_type": "code",
   "execution_count": 5,
   "id": "65549391",
   "metadata": {
    "scrolled": true
   },
   "outputs": [
    {
     "name": "stdout",
     "output_type": "stream",
     "text": [
      "Enter two numbers: \n",
      "79 13\n",
      "Enter the operator: %\n",
      "1\n"
     ]
    }
   ],
   "source": [
    "print(\"Enter two numbers: \")\n",
    "a,b=map(float,input().split())\n",
    "o=input(\"Enter the operator: \")\n",
    "\n",
    "if o=='+':\n",
    "    print(a+b)\n",
    "\n",
    "elif o=='-':\n",
    "    print(a-b)\n",
    "\n",
    "elif o=='*':\n",
    "    print(a*b)\n",
    "    \n",
    "elif o=='/':\n",
    "    print(a/b)\n",
    "\n",
    "elif o=='^':\n",
    "    print(a**b)\n",
    "    \n",
    "elif o=='%':\n",
    "    print(int(a)%int(b))\n",
    "    \n",
    "else:\n",
    "    print(\"Wrong input!\")\n",
    "    \n"
   ]
  }
 ],
 "metadata": {
  "kernelspec": {
   "display_name": "Python 3",
   "language": "python",
   "name": "python3"
  },
  "language_info": {
   "codemirror_mode": {
    "name": "ipython",
    "version": 3
   },
   "file_extension": ".py",
   "mimetype": "text/x-python",
   "name": "python",
   "nbconvert_exporter": "python",
   "pygments_lexer": "ipython3",
   "version": "3.9.5"
  }
 },
 "nbformat": 4,
 "nbformat_minor": 5
}
