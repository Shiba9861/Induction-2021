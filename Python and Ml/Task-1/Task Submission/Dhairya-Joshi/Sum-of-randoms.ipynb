{
 "cells": [
  {
   "cell_type": "code",
   "execution_count": 15,
   "id": "b4ab4641",
   "metadata": {},
   "outputs": [
    {
     "name": "stdout",
     "output_type": "stream",
     "text": [
      "The numbers were: [4, 8, 2, 12, 9, 2, 16, 14, 10, 18]\n",
      "The sum is: 95\n"
     ]
    }
   ],
   "source": [
    "import random\n",
    "l=[]\n",
    "s=0\n",
    "for i in range(10):\n",
    "    x=random.randint(1,20)\n",
    "    l.append(x)\n",
    "    s+=x\n",
    "    \n",
    "print(f\"The numbers were: {l}\")\n",
    "print(f\"The sum is: {s}\")\n",
    "    "
   ]
  },
  {
   "cell_type": "code",
   "execution_count": null,
   "id": "f73c7d58",
   "metadata": {},
   "outputs": [],
   "source": []
  }
 ],
 "metadata": {
  "kernelspec": {
   "display_name": "Python 3",
   "language": "python",
   "name": "python3"
  },
  "language_info": {
   "codemirror_mode": {
    "name": "ipython",
    "version": 3
   },
   "file_extension": ".py",
   "mimetype": "text/x-python",
   "name": "python",
   "nbconvert_exporter": "python",
   "pygments_lexer": "ipython3",
   "version": "3.9.5"
  }
 },
 "nbformat": 4,
 "nbformat_minor": 5
}
