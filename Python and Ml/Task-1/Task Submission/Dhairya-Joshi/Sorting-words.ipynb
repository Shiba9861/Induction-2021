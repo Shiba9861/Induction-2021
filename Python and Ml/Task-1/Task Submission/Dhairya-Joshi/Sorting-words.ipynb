{
 "cells": [
  {
   "cell_type": "code",
   "execution_count": 14,
   "id": "448be5d4",
   "metadata": {},
   "outputs": [
    {
     "name": "stdout",
     "output_type": "stream",
     "text": [
      "Enter the word(0 to stop): dhairya\n",
      "Enter the word(0 to stop): adnaan\n",
      "Enter the word(0 to stop): ravi\n",
      "Enter the word(0 to stop): abhi\n",
      "Enter the word(0 to stop): 0\n",
      "['abhi', 'adnaan', 'dhairya', 'ravi']\n"
     ]
    }
   ],
   "source": [
    "def sort(array):\n",
    "\n",
    "    for i in range(1, len(array)):\n",
    "        key_item = array[i]\n",
    "        j = i - 1\n",
    "        while j >= 0 and array[j] > key_item:\n",
    "            array[j + 1] = array[j]\n",
    "            j -= 1\n",
    "        array[j + 1] = key_item\n",
    "\n",
    "    return array\n",
    "\n",
    "l=[]\n",
    "stop=True\n",
    "while stop:\n",
    "    x=input(\"Enter the word(0 to stop): \")\n",
    "    if x=='0':\n",
    "        stop=False\n",
    "    else:\n",
    "        l.append(x)\n",
    "    \n",
    "l=sort(l)\n",
    "    \n",
    "print(l)"
   ]
  },
  {
   "cell_type": "code",
   "execution_count": null,
   "id": "52880c70",
   "metadata": {},
   "outputs": [],
   "source": []
  },
  {
   "cell_type": "code",
   "execution_count": null,
   "id": "203bd73e",
   "metadata": {},
   "outputs": [],
   "source": []
  }
 ],
 "metadata": {
  "kernelspec": {
   "display_name": "Python 3",
   "language": "python",
   "name": "python3"
  },
  "language_info": {
   "codemirror_mode": {
    "name": "ipython",
    "version": 3
   },
   "file_extension": ".py",
   "mimetype": "text/x-python",
   "name": "python",
   "nbconvert_exporter": "python",
   "pygments_lexer": "ipython3",
   "version": "3.9.5"
  }
 },
 "nbformat": 4,
 "nbformat_minor": 5
}
