{
  "nbformat": 4,
  "nbformat_minor": 0,
  "metadata": {
    "colab": {
      "name": "Quadratic-equ.ipynb",
      "provenance": [],
      "collapsed_sections": []
    },
    "kernelspec": {
      "name": "python3",
      "display_name": "Python 3"
    },
    "language_info": {
      "name": "python"
    }
  },
  "cells": [
    {
      "cell_type": "markdown",
      "metadata": {
        "id": "HVF7CFM4wSSb"
      },
      "source": [
        "Import complex math module"
      ]
    },
    {
      "cell_type": "code",
      "metadata": {
        "colab": {
          "base_uri": "https://localhost:8080/"
        },
        "id": "8KRkXzhCwnRR",
        "outputId": "491f6f62-0dca-4b78-d763-2f42778e41e2"
      },
      "source": [
        "import cmath\n",
        "a = int(input(\"Enter value of a: \"))\n",
        "if a == 0:\n",
        "    print(\"a cannot be zero.\")\n",
        "b = int(input(\"Enter the value of b: \"))\n",
        "c = int(input(\"enter the value of c:\"))"
      ],
      "execution_count": 13,
      "outputs": [
        {
          "output_type": "stream",
          "text": [
            "Enter value of a: 6\n",
            "Enter the value of b: 5\n",
            "enter the value of c:4\n"
          ],
          "name": "stdout"
        }
      ]
    },
    {
      "cell_type": "code",
      "metadata": {
        "id": "_2Ud-ePxxIVv"
      },
      "source": [
        "dis = (b**2)-(4*a*c)"
      ],
      "execution_count": 14,
      "outputs": []
    },
    {
      "cell_type": "code",
      "metadata": {
        "id": "L9VPy8v_xayq"
      },
      "source": [
        "ans1 = (-b-cmath.sqrt(dis))/(2 * a)\n",
        "ans2 = (-b + cmath.sqrt(dis))/(2 * a)"
      ],
      "execution_count": 15,
      "outputs": []
    },
    {
      "cell_type": "markdown",
      "metadata": {
        "id": "6QN1ee13xdtO"
      },
      "source": [
        "printing the results"
      ]
    },
    {
      "cell_type": "code",
      "metadata": {
        "colab": {
          "base_uri": "https://localhost:8080/"
        },
        "id": "PVL9tys4xlsk",
        "outputId": "1f1ce160-85cd-4a0c-fe6d-7fd84fc78a58"
      },
      "source": [
        "print('The roots are')\n",
        "print(ans1)\n",
        "print(ans2)"
      ],
      "execution_count": 16,
      "outputs": [
        {
          "output_type": "stream",
          "text": [
            "The roots are\n",
            "(-0.4166666666666667-0.7021791477646966j)\n",
            "(-0.4166666666666667+0.7021791477646966j)\n"
          ],
          "name": "stdout"
        }
      ]
    },
    {
      "cell_type": "code",
      "metadata": {
        "id": "7lhHjrN-wR7p"
      },
      "source": [
        ""
      ],
      "execution_count": null,
      "outputs": []
    }
  ]
}