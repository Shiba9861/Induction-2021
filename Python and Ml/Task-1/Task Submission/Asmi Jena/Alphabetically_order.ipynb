{
  "nbformat": 4,
  "nbformat_minor": 0,
  "metadata": {
    "colab": {
      "name": "Alphabetically-order.ipynb",
      "provenance": [],
      "collapsed_sections": []
    },
    "kernelspec": {
      "name": "python3",
      "display_name": "Python 3"
    },
    "language_info": {
      "name": "python"
    }
  },
  "cells": [
    {
      "cell_type": "code",
      "metadata": {
        "colab": {
          "base_uri": "https://localhost:8080/"
        },
        "id": "KEeni6CPdPGj",
        "outputId": "3e67ec08-159a-4492-b39b-3622e43aec79"
      },
      "source": [
        "str1 = input(\"Enter the string: \")\n",
        "print(\"Sorted words: \",end =\" \")\n",
        "words = str1.split()\n",
        "words.sort()\n",
        "for word in words:\n",
        "   print(word,end =\" \")"
      ],
      "execution_count": 2,
      "outputs": [
        {
          "output_type": "stream",
          "text": [
            "Enter the string: My name is Asmi\n",
            "Sorted words:  Asmi My is name "
          ],
          "name": "stdout"
        }
      ]
    }
  ]
}