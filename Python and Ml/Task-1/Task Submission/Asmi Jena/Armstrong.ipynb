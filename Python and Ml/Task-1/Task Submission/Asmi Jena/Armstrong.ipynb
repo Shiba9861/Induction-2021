{
  "nbformat": 4,
  "nbformat_minor": 0,
  "metadata": {
    "colab": {
      "name": "Armstrong.ipynb",
      "provenance": [],
      "collapsed_sections": []
    },
    "kernelspec": {
      "name": "python3",
      "display_name": "Python 3"
    },
    "language_info": {
      "name": "python"
    }
  },
  "cells": [
    {
      "cell_type": "code",
      "metadata": {
        "colab": {
          "base_uri": "https://localhost:8080/"
        },
        "id": "fRglqlgNU6uu",
        "outputId": "663d00a8-d44b-461d-9df7-aee619023beb"
      },
      "source": [
        "From = int(input(\"From: \"))\n",
        "To = int(input(\"To: \"))"
      ],
      "execution_count": 3,
      "outputs": [
        {
          "output_type": "stream",
          "text": [
            "From: 5\n",
            "To: 1000\n"
          ],
          "name": "stdout"
        }
      ]
    },
    {
      "cell_type": "markdown",
      "metadata": {
        "id": "k9nGlHYGW4zy"
      },
      "source": [
        "find the sum of the cube of each digit"
      ]
    },
    {
      "cell_type": "code",
      "metadata": {
        "colab": {
          "base_uri": "https://localhost:8080/"
        },
        "id": "OFIoEqQ7XA1V",
        "outputId": "e3ad08aa-7c7c-4993-a421-596d86ec5be5"
      },
      "source": [
        "print(\"Armstrong numbers within {0} and {1} are :\".format(From,To))\n",
        "for num in range(From,To + 1):\n",
        "   sum = 0  \n",
        "   temp = num  \n",
        "   while temp > 0:  \n",
        "       digit = temp % 10  \n",
        "       sum += digit ** 3  \n",
        "       temp //= 10  \n",
        "       if num == sum:  \n",
        "            print(num)"
      ],
      "execution_count": 4,
      "outputs": [
        {
          "output_type": "stream",
          "text": [
            "Armstrong numbers within 5 and 1000 are :\n",
            "64\n",
            "125\n",
            "153\n",
            "216\n",
            "370\n",
            "371\n",
            "407\n",
            "729\n"
          ],
          "name": "stdout"
        }
      ]
    }
  ]
}