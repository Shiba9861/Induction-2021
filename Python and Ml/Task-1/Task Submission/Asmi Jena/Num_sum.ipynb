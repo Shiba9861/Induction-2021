{
  "nbformat": 4,
  "nbformat_minor": 0,
  "metadata": {
    "colab": {
      "name": "Num_sum.ipynb",
      "provenance": [],
      "collapsed_sections": []
    },
    "kernelspec": {
      "name": "python3",
      "display_name": "Python 3"
    },
    "language_info": {
      "name": "python"
    }
  },
  "cells": [
    {
      "cell_type": "code",
      "metadata": {
        "colab": {
          "base_uri": "https://localhost:8080/"
        },
        "id": "I9kgYHnhacob",
        "outputId": "05070c5d-df30-409c-9ffb-e3cbf74f7a9d"
      },
      "source": [
        "import random\n",
        "sum=0\n",
        "for i in range(10):\n",
        "    s=random.randint(1,100)\n",
        "    print(\"number\", i, \": \", s)\n",
        "    sum += s"
      ],
      "execution_count": 1,
      "outputs": [
        {
          "output_type": "stream",
          "text": [
            "number 0 :  36\n",
            "number 1 :  94\n",
            "number 2 :  13\n",
            "number 3 :  94\n",
            "number 4 :  53\n",
            "number 5 :  12\n",
            "number 6 :  77\n",
            "number 7 :  98\n",
            "number 8 :  57\n",
            "number 9 :  45\n"
          ],
          "name": "stdout"
        }
      ]
    },
    {
      "cell_type": "code",
      "metadata": {
        "colab": {
          "base_uri": "https://localhost:8080/"
        },
        "id": "eTG8E17XbuoZ",
        "outputId": "7524a007-6429-4078-980f-331887ff31f4"
      },
      "source": [
        "print(\"Sum of random numbers:\",sum)"
      ],
      "execution_count": 2,
      "outputs": [
        {
          "output_type": "stream",
          "text": [
            "Sum of random numbers: 579\n"
          ],
          "name": "stdout"
        }
      ]
    }
  ]
}