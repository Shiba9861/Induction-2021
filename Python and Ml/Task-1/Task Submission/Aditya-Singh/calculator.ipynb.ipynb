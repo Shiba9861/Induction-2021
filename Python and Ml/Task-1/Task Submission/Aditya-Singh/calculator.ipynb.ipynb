{
 "cells": [
  {
   "cell_type": "markdown",
   "metadata": {},
   "source": [
    "# program to make a simple calculator"
   ]
  },
  {
   "cell_type": "code",
   "execution_count": 7,
   "metadata": {},
   "outputs": [
    {
     "name": "stdout",
     "output_type": "stream",
     "text": [
      "enter the first number45\n",
      "enter the second number65\n",
      "1.add \n",
      "2.subtract \n",
      "3.multiply \n",
      "4.division\n",
      "choose your operation5\n",
      "invalid choice\n"
     ]
    }
   ],
   "source": [
    "def add(x,y):\n",
    "    return(x+y)\n",
    "def subtract(x,y):\n",
    "    return(x-y)\n",
    "def multiply(x,y):\n",
    "    return(x*y)\n",
    "def divide(x,y):\n",
    "    return(x/y)\n",
    "x=int(input(\"enter the first number\"))\n",
    "y=int(input(\"enter the second number\"))\n",
    "print(\"1.add\",\n",
    "      \"\\n2.subtract\",\n",
    "      \"\\n3.multiply\",\n",
    "      \"\\n4.division\")\n",
    "c=int(input(\"choose your operation\"))\n",
    "if(c==1):\n",
    "    print(\"addition of\",x,\"and\",y,\"is:\",add(x,y))\n",
    "elif(c==2):\n",
    "    print(\"subtraction of\",x,\"and\",y,\"is:\",subtract(x,y))\n",
    "elif(c==3):\n",
    "    print(\"multiplication of\",x,\"and\",y,\"is:\",multiply(x,y))\n",
    "elif(c==4):\n",
    "    print(\"division of\",x,\"and\",y,\"is:\",divide(x,y))\n",
    "else:\n",
    "    print(\"invalid choice\")\n",
    "    "
   ]
  },
  {
   "cell_type": "code",
   "execution_count": null,
   "metadata": {},
   "outputs": [],
   "source": []
  },
  {
   "cell_type": "code",
   "execution_count": null,
   "metadata": {},
   "outputs": [],
   "source": []
  }
 ],
 "metadata": {
  "kernelspec": {
   "display_name": "Python 3",
   "language": "python",
   "name": "python3"
  },
  "language_info": {
   "codemirror_mode": {
    "name": "ipython",
    "version": 3
   },
   "file_extension": ".py",
   "mimetype": "text/x-python",
   "name": "python",
   "nbconvert_exporter": "python",
   "pygments_lexer": "ipython3",
   "version": "3.8.5"
  }
 },
 "nbformat": 4,
 "nbformat_minor": 4
}
