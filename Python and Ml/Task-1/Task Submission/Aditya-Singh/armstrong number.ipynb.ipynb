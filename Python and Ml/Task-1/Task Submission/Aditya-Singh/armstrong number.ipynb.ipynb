{
 "cells": [
  {
   "cell_type": "markdown",
   "metadata": {},
   "source": [
    "# program to find Armstrong number in a given interval"
   ]
  },
  {
   "cell_type": "code",
   "execution_count": 2,
   "metadata": {},
   "outputs": [
    {
     "name": "stdout",
     "output_type": "stream",
     "text": [
      "enter the first number of the interval:1\n",
      "enter the last number of the interval:200\n",
      "Armstrong number between 1 and 200 are [1, 153]\n"
     ]
    }
   ],
   "source": [
    "L=[]\n",
    "a=int(input(\"enter the first number of the interval:\"))\n",
    "b=int(input(\"enter the last number of the interval:\"))\n",
    "for i in range(a,b+1):\n",
    "    n=i\n",
    "    sum=0\n",
    "    while(n>0):\n",
    "        digit=n%10\n",
    "        sum=sum+(digit**3)\n",
    "        n=n//10\n",
    "    if(sum==i):\n",
    "        L.append(i)\n",
    "print(\"Armstrong number between\",a,\"and\",b,\"are\",L)\n",
    "        \n",
    "    "
   ]
  },
  {
   "cell_type": "code",
   "execution_count": null,
   "metadata": {},
   "outputs": [],
   "source": []
  }
 ],
 "metadata": {
  "kernelspec": {
   "display_name": "Python 3",
   "language": "python",
   "name": "python3"
  },
  "language_info": {
   "codemirror_mode": {
    "name": "ipython",
    "version": 3
   },
   "file_extension": ".py",
   "mimetype": "text/x-python",
   "name": "python",
   "nbconvert_exporter": "python",
   "pygments_lexer": "ipython3",
   "version": "3.8.5"
  }
 },
 "nbformat": 4,
 "nbformat_minor": 4
}
