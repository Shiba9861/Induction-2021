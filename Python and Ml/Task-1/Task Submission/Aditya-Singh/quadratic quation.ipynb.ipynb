{
 "cells": [
  {
   "cell_type": "markdown",
   "metadata": {},
   "source": [
    "# program to solve the quadratic quation ax**2+bx+c=0\n"
   ]
  },
  {
   "cell_type": "code",
   "execution_count": 4,
   "metadata": {},
   "outputs": [
    {
     "name": "stdout",
     "output_type": "stream",
     "text": [
      "enter the value of a8\n",
      "enter the value of b5\n",
      "enter the value of c9\n",
      "The roots of the quadratic equation are: (-0.3125-1.0135796712641785j) (-0.3125+1.0135796712641785j)\n"
     ]
    }
   ],
   "source": [
    "import cmath\n",
    "a=int(input(\"enter the value of a\"))\n",
    "b=int(input(\"enter the value of b\"))\n",
    "c=int(input(\"enter the value of c\"))\n",
    "d = (b**2) - (4*a*c)  \n",
    "x1 = (-b-cmath.sqrt(d))/(2*a)  \n",
    "x2 = (-b+cmath.sqrt(d))/(2*a)  \n",
    "print(\"The roots of the quadratic equation are:\",x1,x2)"
   ]
  },
  {
   "cell_type": "code",
   "execution_count": null,
   "metadata": {},
   "outputs": [],
   "source": []
  }
 ],
 "metadata": {
  "kernelspec": {
   "display_name": "Python 3",
   "language": "python",
   "name": "python3"
  },
  "language_info": {
   "codemirror_mode": {
    "name": "ipython",
    "version": 3
   },
   "file_extension": ".py",
   "mimetype": "text/x-python",
   "name": "python",
   "nbconvert_exporter": "python",
   "pygments_lexer": "ipython3",
   "version": "3.8.5"
  }
 },
 "nbformat": 4,
 "nbformat_minor": 4
}
