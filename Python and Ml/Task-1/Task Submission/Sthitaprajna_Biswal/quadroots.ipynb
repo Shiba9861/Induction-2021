{
 "cells": [
  {
   "cell_type": "code",
   "execution_count": 4,
   "id": "3b098cbb",
   "metadata": {},
   "outputs": [
    {
     "name": "stdout",
     "output_type": "stream",
     "text": [
      "Enter a:4\n",
      "Enter b:2\n",
      "Enter c:7\n",
      "No real roots\n"
     ]
    }
   ],
   "source": [
    "import math \n",
    "a=int(input(\"Enter a:\"))\n",
    "b=int(input(\"Enter b:\"))\n",
    "c=int(input(\"Enter c:\"))\n",
    "D=b**2-4*a*c\n",
    "if D>0:\n",
    "    r1=((-b)+math.sqrt(D))/2*a\n",
    "    r2=((-b)-math.sqrt(D))/2*a\n",
    "    print(\"Roots of the equation are real and distinct\",r1,\"and\",r2)\n",
    "elif D==0:\n",
    "    r1=-b/2*a\n",
    "    print(\"Roots of the equation are real and equal\",r1)\n",
    "else:\n",
    "    print(\"No real roots\")\n",
    "         "
   ]
  },
  {
   "cell_type": "code",
   "execution_count": null,
   "id": "7695459c",
   "metadata": {},
   "outputs": [],
   "source": []
  }
 ],
 "metadata": {
  "kernelspec": {
   "display_name": "Python 3",
   "language": "python",
   "name": "python3"
  },
  "language_info": {
   "codemirror_mode": {
    "name": "ipython",
    "version": 3
   },
   "file_extension": ".py",
   "mimetype": "text/x-python",
   "name": "python",
   "nbconvert_exporter": "python",
   "pygments_lexer": "ipython3",
   "version": "3.8.6"
  }
 },
 "nbformat": 4,
 "nbformat_minor": 5
}
