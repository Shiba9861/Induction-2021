{
 "cells": [
  {
   "cell_type": "code",
   "execution_count": 2,
   "id": "5b694487",
   "metadata": {},
   "outputs": [
    {
     "name": "stdout",
     "output_type": "stream",
     "text": [
      "Enter the first no:7\n",
      "Enter the second no:5\n",
      "Enter operation:+\n",
      "12.0\n"
     ]
    }
   ],
   "source": [
    "n1=float(input(\"Enter the first no:\"))\n",
    "n2=float(input(\"Enter the second no:\"))\n",
    "op=input(\"Enter operation:\")\n",
    "if op==\"+\":\n",
    "    print(n1+n2)\n",
    "elif op==\"-\":\n",
    "    print(n1-n2)\n",
    "elif op==\"*\":\n",
    "    print(n1*n2)\n",
    "elif op==\"/\":\n",
    "    print(n1/n2)\n",
    "else:\n",
    "    print(\"invalid input\")"
   ]
  },
  {
   "cell_type": "code",
   "execution_count": null,
   "id": "209f874b",
   "metadata": {},
   "outputs": [],
   "source": []
  }
 ],
 "metadata": {
  "kernelspec": {
   "display_name": "Python 3",
   "language": "python",
   "name": "python3"
  },
  "language_info": {
   "codemirror_mode": {
    "name": "ipython",
    "version": 3
   },
   "file_extension": ".py",
   "mimetype": "text/x-python",
   "name": "python",
   "nbconvert_exporter": "python",
   "pygments_lexer": "ipython3",
   "version": "3.8.6"
  }
 },
 "nbformat": 4,
 "nbformat_minor": 5
}
