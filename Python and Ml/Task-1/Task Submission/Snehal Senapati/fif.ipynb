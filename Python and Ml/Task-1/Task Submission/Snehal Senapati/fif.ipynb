{
 "metadata": {
  "language_info": {
   "codemirror_mode": {
    "name": "ipython",
    "version": 3
   },
   "file_extension": ".py",
   "mimetype": "text/x-python",
   "name": "python",
   "nbconvert_exporter": "python",
   "pygments_lexer": "ipython3",
   "version": 3
  },
  "orig_nbformat": 2
 },
 "nbformat": 4,
 "nbformat_minor": 2,
 "cells": [
  {
   "cell_type": "code",
   "execution_count": null,
   "metadata": {},
   "outputs": [],
   "source": [
    "# Python3 code to demonstrate \n",
    "# Random Numbers Summation\n",
    "# using list comprehension + randrange() + sum()\n",
    "import random\n",
    "  \n",
    "# using list comprehension + randrange() + sum()\n",
    "# Random Numbers Summation\n",
    "res = sum([random.randrange(1, 50, 1) for i in range(7)])\n",
    "  \n",
    "# printing result\n",
    "print (\"Random number summation list is : \" + str(res))\n"
   ]
  }
 ]
}