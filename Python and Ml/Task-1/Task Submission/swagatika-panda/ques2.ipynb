{
 "metadata": {
  "language_info": {
   "codemirror_mode": {
    "name": "ipython",
    "version": 3
   },
   "file_extension": ".py",
   "mimetype": "text/x-python",
   "name": "python",
   "nbconvert_exporter": "python",
   "pygments_lexer": "ipython3",
   "version": 3
  },
  "orig_nbformat": 2
 },
 "nbformat": 4,
 "nbformat_minor": 2,
 "cells": [
  {
   "cell_type": "code",
   "execution_count": null,
   "metadata": {},
   "outputs": [],
   "source": [
    "#armstrong no  within interval\n",
    "num1 = int(input(\"enter the intervals:\"))\n",
    "num2 = int(input(\"enter the intervals:\")) \n",
    "num = int(input(\"enter the number:\"))\n",
    "ndigit = len(str(num))\n",
    "sum = 0\n",
    "ndigit1 = int(ndigit)\n",
    "temp = num\n",
    "if (num > num1 and num < num2):\n",
    "  while temp > 0:\n",
    "    digit = temp % 10\n",
    "    sum += digit ** ndigit1\n",
    "    temp //= 10  \n",
    "else: \n",
    "   print(\"Please enter a number within the interval\")\n",
    "if num == sum:\n",
    "     print(num,\"is an Armstrong number\")\n",
    "else:\n",
    "     print(num,\"is not an Armstrong number\")\n"
   ]
  }
 ]
}