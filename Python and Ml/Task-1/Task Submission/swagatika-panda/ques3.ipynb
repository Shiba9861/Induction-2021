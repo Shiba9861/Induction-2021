{
 "metadata": {
  "language_info": {
   "codemirror_mode": {
    "name": "ipython",
    "version": 3
   },
   "file_extension": ".py",
   "mimetype": "text/x-python",
   "name": "python",
   "nbconvert_exporter": "python",
   "pygments_lexer": "ipython3",
   "version": 3
  },
  "orig_nbformat": 2
 },
 "nbformat": 4,
 "nbformat_minor": 2,
 "cells": [
  {
   "cell_type": "code",
   "execution_count": null,
   "metadata": {},
   "outputs": [],
   "source": [
    "num1 = int(input(\"write the first number\\n\"))\n",
    "operation = input(\"write the operator , whose operation u want to perform\\n\")\n",
    "num2 = int(input(\"write the second number\\n\"))\n",
    "if operation == '+':\n",
    "    print(\"After addition ur answer is\\n \")\n",
    "    print(num1 + num2)\n",
    "elif operation == '-':\n",
    "    print(\"After subtraction ur answer is\\n \")\n",
    "    print(num1 - num2)\n",
    "elif operation == '*':\n",
    "    print(\"After multiplication ur answer is\\n \")\n",
    "    print(num1 * num2)\n",
    "else:\n",
    "    print(\"After division ur answer is\\n \")\n",
    "    print(num1 / num2)"
   ]
  }
 ]
}