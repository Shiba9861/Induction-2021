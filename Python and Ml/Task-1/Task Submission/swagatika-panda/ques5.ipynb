{
 "metadata": {
  "language_info": {
   "codemirror_mode": {
    "name": "ipython",
    "version": 3
   },
   "file_extension": ".py",
   "mimetype": "text/x-python",
   "name": "python",
   "nbconvert_exporter": "python",
   "pygments_lexer": "ipython3",
   "version": 3
  },
  "orig_nbformat": 2
 },
 "nbformat": 4,
 "nbformat_minor": 2,
 "cells": [
  {
   "cell_type": "code",
   "execution_count": null,
   "metadata": {},
   "outputs": [],
   "source": [
    "import random\n",
    "\n",
    "num = []\n",
    "n = 0\n",
    "while n < 10:\n",
    "    x = random.randint(1, 150)\n",
    "    num2 = [x]\n",
    "    num.extend(num2)\n",
    "    n += 1\n",
    "print(\"random list:\")\n",
    "for i in num:\n",
    "    print(i)\n",
    "print(\"sum is\", sum(num))"
   ]
  }
 ]
}