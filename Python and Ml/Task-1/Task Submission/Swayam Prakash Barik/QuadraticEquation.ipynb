{
 "cells": [
  {
   "cell_type": "code",
   "execution_count": 1,
   "id": "d17ac1f2",
   "metadata": {},
   "outputs": [
    {
     "name": "stdout",
     "output_type": "stream",
     "text": [
      "Enter the co-efficient of x^2 :1\n",
      "Enter the co-efficient of x :2\n",
      "Enter the constant :1\n",
      "root1 = (-1+0j)\n",
      "root2 = (-1+0j)\n"
     ]
    }
   ],
   "source": [
    "import cmath\n",
    "a=int(input(\"Enter the co-efficient of x^2 :\"))\n",
    "b=int(input(\"Enter the co-efficient of x :\"))\n",
    "c=int(input(\"Enter the constant :\"))\n",
    "\n",
    "d=b*b-4*a*c\n",
    "ans1=(-b+cmath.sqrt(d))/(2*a)\n",
    "ans2=(-b-cmath.sqrt(d))/(2*a)\n",
    "print(f\"root1 = {ans1}\") \n",
    "print(f\"root2 = {ans2}\")"
   ]
  }
 ],
 "metadata": {
  "kernelspec": {
   "display_name": "Python 3",
   "language": "python",
   "name": "python3"
  },
  "language_info": {
   "codemirror_mode": {
    "name": "ipython",
    "version": 3
   },
   "file_extension": ".py",
   "mimetype": "text/x-python",
   "name": "python",
   "nbconvert_exporter": "python",
   "pygments_lexer": "ipython3",
   "version": "3.9.2"
  }
 },
 "nbformat": 4,
 "nbformat_minor": 5
}
