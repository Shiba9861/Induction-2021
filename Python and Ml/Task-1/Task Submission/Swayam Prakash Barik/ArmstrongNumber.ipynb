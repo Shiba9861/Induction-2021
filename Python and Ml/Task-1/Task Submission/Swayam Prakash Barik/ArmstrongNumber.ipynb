{
 "cells": [
  {
   "cell_type": "code",
   "execution_count": 1,
   "id": "e1acdb1d",
   "metadata": {},
   "outputs": [
    {
     "name": "stdout",
     "output_type": "stream",
     "text": [
      "Enter the range from which you want to find armstrong number: 1\n",
      "Enter the range upto which you want to find armstrong number: 1000\n",
      "The armstrong number in the given number is/are:\n",
      "1\n",
      "2\n",
      "3\n",
      "4\n",
      "5\n",
      "6\n",
      "7\n",
      "8\n",
      "9\n",
      "153\n",
      "370\n",
      "371\n",
      "407\n"
     ]
    }
   ],
   "source": [
    "x=int(input(\"Enter the range from which you want to find armstrong number: \"))\n",
    "y=int(input(\"Enter the range upto which you want to find armstrong number: \"))\n",
    "print(\"The armstrong number in the given number is/are:\")\n",
    "for i in range(x,y):\n",
    "    num=i\n",
    "    sq=0\n",
    "    order=len(str(i))\n",
    "    while(i>0):\n",
    "         r=i%10\n",
    "         sq+=r**order\n",
    "         i//=10\n",
    "       \n",
    "    if(num==sq):\n",
    "         print(num)\n",
    "         \n"
   ]
  }
 ],
 "metadata": {
  "kernelspec": {
   "display_name": "Python 3",
   "language": "python",
   "name": "python3"
  },
  "language_info": {
   "codemirror_mode": {
    "name": "ipython",
    "version": 3
   },
   "file_extension": ".py",
   "mimetype": "text/x-python",
   "name": "python",
   "nbconvert_exporter": "python",
   "pygments_lexer": "ipython3",
   "version": "3.9.2"
  }
 },
 "nbformat": 4,
 "nbformat_minor": 5
}
