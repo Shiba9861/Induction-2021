{
 "cells": [
  {
   "cell_type": "code",
   "execution_count": 1,
   "id": "210d17a6",
   "metadata": {},
   "outputs": [
    {
     "name": "stdout",
     "output_type": "stream",
     "text": [
      "Enter first number: 56\n",
      "Enter the opration you want to perform: *\n",
      "Enter second number: 56\n",
      "ans = 56 x 56 = 3136\n"
     ]
    }
   ],
   "source": [
    "x=int(input(\"Enter first number: \"))\n",
    "op=input(\"Enter the opration you want to perform: \")\n",
    "y=int(input(\"Enter second number: \"))\n",
    "\n",
    "if op=='+':\n",
    "    print(f'ans = {x} + {y} = {x+y}')\n",
    "elif op=='-':\n",
    "    print(f'ans = {x} - {y} = {x-y}')\n",
    "elif op=='*':\n",
    "    print(f'ans = {x} x {y} = {x*y}')\n",
    "elif op=='/':\n",
    "    print(f'ans = {x} / {y} = {x/y}')\n",
    "else:\n",
    "    print(\"Invalid input!\")\n",
    "\n",
    "\n",
    "  \n"
   ]
  }
 ],
 "metadata": {
  "kernelspec": {
   "display_name": "Python 3",
   "language": "python",
   "name": "python3"
  },
  "language_info": {
   "codemirror_mode": {
    "name": "ipython",
    "version": 3
   },
   "file_extension": ".py",
   "mimetype": "text/x-python",
   "name": "python",
   "nbconvert_exporter": "python",
   "pygments_lexer": "ipython3",
   "version": "3.9.2"
  }
 },
 "nbformat": 4,
 "nbformat_minor": 5
}
