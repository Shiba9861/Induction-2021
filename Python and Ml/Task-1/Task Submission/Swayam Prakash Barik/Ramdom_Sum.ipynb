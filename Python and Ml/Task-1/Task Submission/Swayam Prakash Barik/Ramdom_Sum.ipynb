{
 "cells": [
  {
   "cell_type": "code",
   "execution_count": 1,
   "id": "e1e686d0",
   "metadata": {},
   "outputs": [
    {
     "name": "stdout",
     "output_type": "stream",
     "text": [
      "The sum of 10 random numbers between 1 to 100 is  489\n"
     ]
    }
   ],
   "source": [
    "import random\n",
    "sum=0\n",
    "for i in range(10):\n",
    "      x=random.randint(1,100)\n",
    "      sum+=x\n",
    "\n",
    "print(\"The sum of 10 random numbers between 1 to 100 is \",sum)\n"
   ]
  }
 ],
 "metadata": {
  "kernelspec": {
   "display_name": "Python 3",
   "language": "python",
   "name": "python3"
  },
  "language_info": {
   "codemirror_mode": {
    "name": "ipython",
    "version": 3
   },
   "file_extension": ".py",
   "mimetype": "text/x-python",
   "name": "python",
   "nbconvert_exporter": "python",
   "pygments_lexer": "ipython3",
   "version": "3.9.2"
  }
 },
 "nbformat": 4,
 "nbformat_minor": 5
}
