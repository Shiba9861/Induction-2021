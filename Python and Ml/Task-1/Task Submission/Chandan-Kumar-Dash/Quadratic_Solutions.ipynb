{
 "cells": [
  {
   "cell_type": "code",
   "execution_count": 1,
   "id": "adjusted-police",
   "metadata": {},
   "outputs": [
    {
     "name": "stdin",
     "output_type": "stream",
     "text": [
      "Enter coefficient of x**2  1\n",
      "Enter coefficient of x  5\n",
      "Enter the value of constant term  6\n"
     ]
    },
    {
     "name": "stdout",
     "output_type": "stream",
     "text": [
      "The solution are (-2+0j) and (-3+0j)\n"
     ]
    }
   ],
   "source": [
    "# solve for quadratic equation ax**2 + b*x + c = 0\n",
    "\n",
    "import cmath\n",
    "\n",
    "a = int(input(\"Enter coefficient of x**2 \"))\n",
    "b = int(input(\"Enter coefficient of x \"))\n",
    "c = int(input(\"Enter the value of constant term \"))\n",
    "\n",
    "\n",
    "D = b**2 - 4*a*c   #Discriminant\n",
    "\n",
    "x1 = (-b + cmath.sqrt(D))/(2*a)\n",
    "\n",
    "x2 = (-1*(b + cmath.sqrt(D))/(2*a))\n",
    "\n",
    "print('The solution are {0} and {1}'.format(x1,x2))\n",
    " "
   ]
  },
  {
   "cell_type": "code",
   "execution_count": null,
   "id": "dutch-officer",
   "metadata": {},
   "outputs": [],
   "source": []
  }
 ],
 "metadata": {
  "kernelspec": {
   "display_name": "Python 3",
   "language": "python",
   "name": "python3"
  },
  "language_info": {
   "codemirror_mode": {
    "name": "ipython",
    "version": 3
   },
   "file_extension": ".py",
   "mimetype": "text/x-python",
   "name": "python",
   "nbconvert_exporter": "python",
   "pygments_lexer": "ipython3",
   "version": "3.7.8"
  }
 },
 "nbformat": 4,
 "nbformat_minor": 5
}
