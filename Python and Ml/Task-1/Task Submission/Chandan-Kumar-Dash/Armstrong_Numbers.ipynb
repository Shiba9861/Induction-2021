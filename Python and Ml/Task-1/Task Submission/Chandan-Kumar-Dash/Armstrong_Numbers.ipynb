{
 "cells": [
  {
   "cell_type": "code",
   "execution_count": 1,
   "id": "significant-importance",
   "metadata": {},
   "outputs": [
    {
     "name": "stdin",
     "output_type": "stream",
     "text": [
      "Enter the lower interval:  100\n",
      "Enter the upper interval:  2000\n"
     ]
    },
    {
     "name": "stdout",
     "output_type": "stream",
     "text": [
      "153\n",
      "370\n",
      "371\n",
      "407\n",
      "1634\n"
     ]
    }
   ],
   "source": [
    "\n",
    "lowerInt = int(input(\"Enter the lower interval: \"))\n",
    "upperInt = int(input(\"Enter the upper interval: \"))\n",
    "# number = int(input(\"Enter a number: \"))\n",
    "\n",
    "\n",
    "\n",
    "for number in range(lowerInt , upperInt+1):\n",
    "\n",
    "  power = len(str(number))\n",
    "  sum = 0\n",
    "\n",
    "  tem = number\n",
    "\n",
    "  while tem>0:\n",
    "   x = tem%10\n",
    "   sum += x**power\n",
    "   tem//=10\n",
    "\n",
    "  if number == sum:\n",
    "     print(number)"
   ]
  },
  {
   "cell_type": "code",
   "execution_count": null,
   "id": "compound-jonathan",
   "metadata": {},
   "outputs": [],
   "source": []
  }
 ],
 "metadata": {
  "kernelspec": {
   "display_name": "Python 3",
   "language": "python",
   "name": "python3"
  },
  "language_info": {
   "codemirror_mode": {
    "name": "ipython",
    "version": 3
   },
   "file_extension": ".py",
   "mimetype": "text/x-python",
   "name": "python",
   "nbconvert_exporter": "python",
   "pygments_lexer": "ipython3",
   "version": "3.7.8"
  }
 },
 "nbformat": 4,
 "nbformat_minor": 5
}
