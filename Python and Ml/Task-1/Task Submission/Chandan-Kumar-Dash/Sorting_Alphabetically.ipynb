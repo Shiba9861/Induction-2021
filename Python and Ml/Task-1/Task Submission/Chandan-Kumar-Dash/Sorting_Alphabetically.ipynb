{
 "cells": [
  {
   "cell_type": "code",
   "execution_count": null,
   "id": "deadly-medicaid",
   "metadata": {},
   "outputs": [],
   "source": [
    "#Sorting a string alphabetically\n",
    "\n",
    "str = input()\n",
    "\n",
    "str = str.lower()\n",
    "words = str.split() # split the string to separate elements\n",
    "\n",
    "print(\"The provided string contains the following set of words: \", words)\n",
    "words.sort()\n",
    "\n",
    "print(\"The alphabetically sorted order of the input string: \", words)"
   ]
  }
 ],
 "metadata": {
  "kernelspec": {
   "display_name": "Python 3",
   "language": "python",
   "name": "python3"
  },
  "language_info": {
   "codemirror_mode": {
    "name": "ipython",
    "version": 3
   },
   "file_extension": ".py",
   "mimetype": "text/x-python",
   "name": "python",
   "nbconvert_exporter": "python",
   "pygments_lexer": "ipython3",
   "version": "3.7.8"
  }
 },
 "nbformat": 4,
 "nbformat_minor": 5
}
