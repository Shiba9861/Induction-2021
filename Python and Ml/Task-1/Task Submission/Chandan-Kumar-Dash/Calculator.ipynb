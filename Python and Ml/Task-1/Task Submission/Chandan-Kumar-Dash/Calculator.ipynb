{
 "cells": [
  {
   "cell_type": "code",
   "execution_count": 1,
   "id": "sublime-trade",
   "metadata": {},
   "outputs": [
    {
     "name": "stdin",
     "output_type": "stream",
     "text": [
      "Enter a number:  65\n",
      "Enter another number:  5\n",
      "Enter the operator:  *\n"
     ]
    },
    {
     "name": "stdout",
     "output_type": "stream",
     "text": [
      "65 * 5 = 325\n"
     ]
    }
   ],
   "source": [
    "#simple calculator\n",
    "\n",
    "a = int(input(\"Enter a number: \"))\n",
    "\n",
    "b = int(input(\"Enter another number: \"))\n",
    "\n",
    "c = input(\"Enter the operator: \")\n",
    "\n",
    "if c == '+':\n",
    "    # sum = a+b\n",
    "    print(a, \"+\", b, \"=\", a+b)\n",
    "elif c == '-':\n",
    "    print(a, \"-\", b, \"=\", a-b)\n",
    "elif c == '*':\n",
    "    print(a, \"*\", b, \"=\", a*b)\n",
    "elif c == '/':\n",
    "    print(a, \"/\", b, \"=\", a/b)\n",
    "else:\n",
    "    print('Wrong input')"
   ]
  },
  {
   "cell_type": "code",
   "execution_count": null,
   "id": "offensive-webcam",
   "metadata": {},
   "outputs": [],
   "source": []
  }
 ],
 "metadata": {
  "kernelspec": {
   "display_name": "Python 3",
   "language": "python",
   "name": "python3"
  },
  "language_info": {
   "codemirror_mode": {
    "name": "ipython",
    "version": 3
   },
   "file_extension": ".py",
   "mimetype": "text/x-python",
   "name": "python",
   "nbconvert_exporter": "python",
   "pygments_lexer": "ipython3",
   "version": "3.7.8"
  }
 },
 "nbformat": 4,
 "nbformat_minor": 5
}
