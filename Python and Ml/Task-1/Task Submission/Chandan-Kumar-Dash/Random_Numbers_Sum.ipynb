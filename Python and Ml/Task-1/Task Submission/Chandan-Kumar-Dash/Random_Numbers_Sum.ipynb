{
 "cells": [
  {
   "cell_type": "code",
   "execution_count": null,
   "id": "artistic-rescue",
   "metadata": {},
   "outputs": [],
   "source": [
    "import random\n",
    "\n",
    "sum = 0;\n",
    "\n",
    "for i in range(0, 10):\n",
    "    x = random.randint(0,100)\n",
    "    print(x)\n",
    "    sum += x\n",
    "\n",
    "print(\"Sum of the 10 random numbers is \", sum)"
   ]
  }
 ],
 "metadata": {
  "kernelspec": {
   "display_name": "Python 3",
   "language": "python",
   "name": "python3"
  },
  "language_info": {
   "codemirror_mode": {
    "name": "ipython",
    "version": 3
   },
   "file_extension": ".py",
   "mimetype": "text/x-python",
   "name": "python",
   "nbconvert_exporter": "python",
   "pygments_lexer": "ipython3",
   "version": "3.7.8"
  }
 },
 "nbformat": 4,
 "nbformat_minor": 5
}
