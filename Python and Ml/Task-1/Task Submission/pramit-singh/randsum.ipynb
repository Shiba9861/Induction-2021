{
 "metadata": {
  "language_info": {
   "codemirror_mode": {
    "name": "ipython",
    "version": 3
   },
   "file_extension": ".py",
   "mimetype": "text/x-python",
   "name": "python",
   "nbconvert_exporter": "python",
   "pygments_lexer": "ipython3",
   "version": "3.9.5"
  },
  "orig_nbformat": 2,
  "kernelspec": {
   "name": "python3",
   "display_name": "Python 3",
   "language": "python"
  }
 },
 "nbformat": 4,
 "nbformat_minor": 2,
 "cells": [
  {
   "cell_type": "code",
   "execution_count": 23,
   "metadata": {},
   "outputs": [
    {
     "output_type": "stream",
     "name": "stdout",
     "text": [
      "number 0 :  642216\nnumber 1 :  823307\nnumber 2 :  819205\nnumber 3 :  76688\nnumber 4 :  273880\nnumber 5 :  997416\nnumber 6 :  622327\nnumber 7 :  340274\nnumber 8 :  933224\nnumber 9 :  360466\n"
     ]
    }
   ],
   "source": [
    "import random\n",
    "sum = 0\n",
    "for i in range(10):\n",
    "    foo = random.randint(0, 1000000)\n",
    "    print(\"number\", i, \": \", foo)\n",
    "    sum += foo"
   ]
  },
  {
   "cell_type": "code",
   "execution_count": 24,
   "metadata": {},
   "outputs": [
    {
     "output_type": "stream",
     "name": "stdout",
     "text": [
      "5889003\n"
     ]
    }
   ],
   "source": [
    "print(sum)"
   ]
  },
  {
   "cell_type": "code",
   "execution_count": null,
   "metadata": {},
   "outputs": [],
   "source": []
  }
 ]
}