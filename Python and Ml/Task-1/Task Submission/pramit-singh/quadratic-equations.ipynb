{
 "metadata": {
  "language_info": {
   "codemirror_mode": {
    "name": "ipython",
    "version": 3
   },
   "file_extension": ".py",
   "mimetype": "text/x-python",
   "name": "python",
   "nbconvert_exporter": "python",
   "pygments_lexer": "ipython3",
   "version": "3.9.5"
  },
  "orig_nbformat": 2,
  "kernelspec": {
   "name": "python3",
   "display_name": "Python 3",
   "language": "python"
  }
 },
 "nbformat": 4,
 "nbformat_minor": 2,
 "cells": [
  {
   "cell_type": "code",
   "execution_count": 14,
   "metadata": {},
   "outputs": [],
   "source": [
    "#Write a program to solve the quadritic equation ax**2 + bx + c = 0\n",
    "#first import complex math lib\n",
    "import cmath\n",
    "\n",
    "#ask for user input\n",
    "a = int(input(\"Enter value of a: \"))\n",
    "if a == 0:\n",
    "    print(\"a cannot be zero.\")\n",
    "b = int(input(\"Enter the value of b: \"))\n",
    "c = int(input(\"enter the value of c\"))"
   ]
  },
  {
   "cell_type": "code",
   "execution_count": 15,
   "metadata": {},
   "outputs": [],
   "source": [
    "#calculate D\n",
    "D = (b**2) - (4 * a * c)"
   ]
  },
  {
   "cell_type": "code",
   "execution_count": 16,
   "metadata": {},
   "outputs": [
    {
     "output_type": "stream",
     "name": "stdout",
     "text": [
      "(-1+0j) (-1+0j)\n"
     ]
    }
   ],
   "source": [
    "#find the solutions\n",
    "root1 = (-b + cmath.sqrt(D))/(2*a)\n",
    "root2 = (-b - cmath.sqrt(D))/(2*a)\n",
    "print(\"roots of the quadratic equations are: \"root1,root2)\n"
   ]
  }
 ]
}