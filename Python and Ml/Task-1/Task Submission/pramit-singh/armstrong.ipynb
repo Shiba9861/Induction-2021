{
 "metadata": {
  "language_info": {
   "codemirror_mode": {
    "name": "ipython",
    "version": 3
   },
   "file_extension": ".py",
   "mimetype": "text/x-python",
   "name": "python",
   "nbconvert_exporter": "python",
   "pygments_lexer": "ipython3",
   "version": "3.9.5"
  },
  "orig_nbformat": 2,
  "kernelspec": {
   "name": "python3",
   "display_name": "Python 3",
   "language": "python"
  }
 },
 "nbformat": 4,
 "nbformat_minor": 2,
 "cells": [
  {
   "cell_type": "code",
   "execution_count": 16,
   "metadata": {},
   "outputs": [],
   "source": [
    "#Write a python program to find a Armstrong number with in a given interval\n",
    "lower, upper = list(map(int, input(\"Enter lower and upper limit: \").split()))\n",
    "# print(upper)\n"
   ]
  },
  {
   "cell_type": "code",
   "execution_count": 17,
   "metadata": {},
   "outputs": [
    {
     "output_type": "stream",
     "name": "stdout",
     "text": [
      "0\n1\n153\n370\n371\n407\n"
     ]
    }
   ],
   "source": [
    "for num in range(lower, upper + 1):\n",
    "    sum = 0\n",
    "    foo = num\n",
    "    while foo > 0:\n",
    "        digit = foo%10\n",
    "        sum += digit**3\n",
    "        foo = foo//10\n",
    "    if sum == num: print(num)"
   ]
  }
 ]
}