{
 "cells": [
  {
   "cell_type": "code",
   "execution_count": 1,
   "id": "e1ed7dc5",
   "metadata": {},
   "outputs": [
    {
     "name": "stdout",
     "output_type": "stream",
     "text": [
      "Enter the words separated by commas: Avinash,Kumar,Panda,Computer\n",
      "Avinash\n",
      "Computer\n",
      "Kumar\n",
      "Panda\n"
     ]
    }
   ],
   "source": [
    "j=list(input(\"Enter the words separated by commas: \").split(\",\"))\n",
    "j.sort()\n",
    "for i in range(len(j)):\n",
    "    print(j[i])"
   ]
  },
  {
   "cell_type": "code",
   "execution_count": null,
   "id": "3780b98c",
   "metadata": {},
   "outputs": [],
   "source": []
  }
 ],
 "metadata": {
  "kernelspec": {
   "display_name": "Python 3",
   "language": "python",
   "name": "python3"
  },
  "language_info": {
   "codemirror_mode": {
    "name": "ipython",
    "version": 3
   },
   "file_extension": ".py",
   "mimetype": "text/x-python",
   "name": "python",
   "nbconvert_exporter": "python",
   "pygments_lexer": "ipython3",
   "version": "3.8.8"
  }
 },
 "nbformat": 4,
 "nbformat_minor": 5
}
