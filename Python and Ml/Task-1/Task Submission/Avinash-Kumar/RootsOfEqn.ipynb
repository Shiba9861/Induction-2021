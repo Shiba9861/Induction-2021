{
 "cells": [
  {
   "cell_type": "code",
   "execution_count": 1,
   "id": "a19ee2bd",
   "metadata": {},
   "outputs": [
    {
     "name": "stdout",
     "output_type": "stream",
     "text": [
      "Enter the cofficents separated by comma2,1,2\n",
      "The root of the equation are -0.25+0.9682458365518543i and -0.25-0.9682458365518543i\n"
     ]
    }
   ],
   "source": [
    "import math\n",
    "a,b,c=map(float,input(\"Enter the cofficents separated by comma\").split(\",\"))\n",
    "z=(b*b)-(4*a*c)\n",
    "if(z>0):\n",
    "    x=(- b + math.sqrt(z)) / 2*a\n",
    "    y=(- b - math.sqrt(z)) / 2*a\n",
    "    print(f\"The root of the the equation are {x} and {y}\")\n",
    "elif(z==0):\n",
    "    x=y=(- b / 2*a)\n",
    "    print(f\"The root of the equation is {x} \")\n",
    "else:\n",
    "    m= -b / (2 * a)\n",
    "    n= math.sqrt(-z)/ (2 * a)\n",
    "    print(f\"The root of the equation are {m}+{n}i and {m}-{n}i\")"
   ]
  },
  {
   "cell_type": "code",
   "execution_count": null,
   "id": "e29b173c",
   "metadata": {},
   "outputs": [],
   "source": []
  }
 ],
 "metadata": {
  "kernelspec": {
   "display_name": "Python 3",
   "language": "python",
   "name": "python3"
  },
  "language_info": {
   "codemirror_mode": {
    "name": "ipython",
    "version": 3
   },
   "file_extension": ".py",
   "mimetype": "text/x-python",
   "name": "python",
   "nbconvert_exporter": "python",
   "pygments_lexer": "ipython3",
   "version": "3.8.8"
  }
 },
 "nbformat": 4,
 "nbformat_minor": 5
}
