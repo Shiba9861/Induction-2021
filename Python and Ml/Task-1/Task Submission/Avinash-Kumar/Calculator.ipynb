{
 "cells": [
  {
   "cell_type": "code",
   "execution_count": 1,
   "id": "15e20a7b",
   "metadata": {},
   "outputs": [
    {
     "name": "stdout",
     "output_type": "stream",
     "text": [
      "Enter two numbers separated by comma4,6\n",
      "Enter the operator: +\n",
      "4 + 6 = 10\n"
     ]
    }
   ],
   "source": [
    "i,j=map(int,input(\"Enter two numbers separated by comma\").split(\",\"))\n",
    "k=input(\"Enter the operator: \")\n",
    "if(k==\"+\"):\n",
    "    print(f\"{i} + {j} = {i+j}\")\n",
    "elif(k==\"-\"): \n",
    "    print(f\"{i} - {j} = {i-j}\")\n",
    "elif(k==\"*\"):\n",
    "    print(f\"{i} * {j} = {i*j}\")   \n",
    "elif(k==\"/\"):\n",
    "    print(f\"{i} / {j} = {i/j}\")\n",
    "else:\n",
    "    print(\"Enter the correct operator\")"
   ]
  },
  {
   "cell_type": "code",
   "execution_count": null,
   "id": "d7cc10bd",
   "metadata": {},
   "outputs": [],
   "source": []
  }
 ],
 "metadata": {
  "kernelspec": {
   "display_name": "Python 3",
   "language": "python",
   "name": "python3"
  },
  "language_info": {
   "codemirror_mode": {
    "name": "ipython",
    "version": 3
   },
   "file_extension": ".py",
   "mimetype": "text/x-python",
   "name": "python",
   "nbconvert_exporter": "python",
   "pygments_lexer": "ipython3",
   "version": "3.8.8"
  }
 },
 "nbformat": 4,
 "nbformat_minor": 5
}
