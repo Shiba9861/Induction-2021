{
 "cells": [
  {
   "cell_type": "code",
   "execution_count": 1,
   "id": "8284177c",
   "metadata": {},
   "outputs": [
    {
     "name": "stdout",
     "output_type": "stream",
     "text": [
      "Enter the starting and ending number separated by comma31,307\n",
      "153\n"
     ]
    }
   ],
   "source": [
    "i,j=map(int,input(\"Enter the starting and ending number separated by comma\").split(\",\"))\n",
    "for num in range(i,j + 1):  \n",
    "   sum = 0  \n",
    "   t = num  \n",
    "   while t > 0:  \n",
    "        k=(t%10) * (t%10) *(t%10)\n",
    "        sum=k+sum \n",
    "        t //= 10  \n",
    "   if num == sum:  \n",
    "        print(num)\n"
   ]
  },
  {
   "cell_type": "code",
   "execution_count": null,
   "id": "32323ddf",
   "metadata": {},
   "outputs": [],
   "source": []
  }
 ],
 "metadata": {
  "kernelspec": {
   "display_name": "Python 3",
   "language": "python",
   "name": "python3"
  },
  "language_info": {
   "codemirror_mode": {
    "name": "ipython",
    "version": 3
   },
   "file_extension": ".py",
   "mimetype": "text/x-python",
   "name": "python",
   "nbconvert_exporter": "python",
   "pygments_lexer": "ipython3",
   "version": "3.8.8"
  }
 },
 "nbformat": 4,
 "nbformat_minor": 5
}
