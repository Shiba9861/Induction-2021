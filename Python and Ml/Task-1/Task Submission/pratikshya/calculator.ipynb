{
 "metadata": {
  "language_info": {
   "codemirror_mode": {
    "name": "ipython",
    "version": 3
   },
   "file_extension": ".py",
   "mimetype": "text/x-python",
   "name": "python",
   "nbconvert_exporter": "python",
   "pygments_lexer": "ipython3",
   "version": 3
  },
  "orig_nbformat": 2
 },
 "nbformat": 4,
 "nbformat_minor": 2,
 "cells": [
  {
   "cell_type": "code",
   "execution_count": null,
   "metadata": {},
   "outputs": [],
   "source": [
    "i,j=map(int,input(\"Enter two numbers separated by comma\").split(\",\"))\n",
    "k=input(\"Enter the operator: \")\n",
    "if(k==\"+\"):\n",
    "    print(f\"{i} + {j} = {i+j}\")\n",
    "elif(k==\"-\"): \n",
    "    print(f\"{i} - {j} = {i-j}\")\n",
    "elif(k==\"*\"):\n",
    "    print(f\"{i} * {j} = {i*j}\")   \n",
    "elif(k==\"/\"):\n",
    "    print(f\"{i} / {j} = {i/j}\")\n",
    "else:\n",
    "    print(\"Enter the correct operator\")"
   ]
  }
 ]
}