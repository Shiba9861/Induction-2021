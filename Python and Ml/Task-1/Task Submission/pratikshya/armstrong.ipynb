{
 "metadata": {
  "language_info": {
   "codemirror_mode": {
    "name": "ipython",
    "version": 3
   },
   "file_extension": ".py",
   "mimetype": "text/x-python",
   "name": "python",
   "nbconvert_exporter": "python",
   "pygments_lexer": "ipython3",
   "version": "3.9.0"
  },
  "orig_nbformat": 2,
  "kernelspec": {
   "name": "python390jvsc74a57bd0fe06f96167c4fc64a78c238d993189072a4e72b444216e36203d6f96126eaf0a",
   "display_name": "Python 3.9.0 64-bit"
  },
  "metadata": {
   "interpreter": {
    "hash": "fe06f96167c4fc64a78c238d993189072a4e72b444216e36203d6f96126eaf0a"
   }
  }
 },
 "nbformat": 4,
 "nbformat_minor": 2,
 "cells": [
  {
   "cell_type": "code",
   "execution_count": 3,
   "metadata": {},
   "outputs": [
    {
     "output_type": "stream",
     "name": "stdout",
     "text": [
      "153\n370\n371\n407\n"
     ]
    }
   ],
   "source": [
    "i,j=map(int,input(\"Enter the starting and ending number separated by comma\").split(\",\"))\n",
    "for num in range(i,j + 1):  \n",
    "   sum = 0  \n",
    "   t = num  \n",
    "   while t > 0:  \n",
    "        k=(t%10) * (t%10) *(t%10)\n",
    "        sum=k+sum \n",
    "        t //= 10  \n",
    "   if num == sum:  \n",
    "        print(num)"
   ]
  }
 ]
}