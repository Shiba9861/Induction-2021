{
 "metadata": {
  "language_info": {
   "codemirror_mode": {
    "name": "ipython",
    "version": 3
   },
   "file_extension": ".py",
   "mimetype": "text/x-python",
   "name": "python",
   "nbconvert_exporter": "python",
   "pygments_lexer": "ipython3",
   "version": "3.9.1"
  },
  "orig_nbformat": 2,
  "kernelspec": {
   "name": "python391jvsc74a57bd0d310797ebe25c1cb840527a0e32d0ff6f0a15ad823e7d64f5348b10893068c12",
   "display_name": "Python 3.9.1 64-bit"
  },
  "metadata": {
   "interpreter": {
    "hash": "d310797ebe25c1cb840527a0e32d0ff6f0a15ad823e7d64f5348b10893068c12"
   }
  }
 },
 "nbformat": 4,
 "nbformat_minor": 2,
 "cells": [
  {
   "cell_type": "code",
   "execution_count": 1,
   "metadata": {},
   "outputs": [
    {
     "output_type": "stream",
     "name": "stdout",
     "text": [
      "5607\n"
     ]
    }
   ],
   "source": [
    "import random\n",
    "k=[]\n",
    "for i in range(0,11):\n",
    "    j=random.randint(0,1000)\n",
    "    k.append(j)\n",
    "    sum=0\n",
    "for i in range(len(k)):\n",
    "    sum=k[i]+sum\n",
    "print(sum)"
   ]
  },
  {
   "cell_type": "code",
   "execution_count": null,
   "metadata": {},
   "outputs": [],
   "source": []
  }
 ]
}