{
 "cells": [
  {
   "cell_type": "code",
   "execution_count": 1,
   "metadata": {},
   "outputs": [
    {
     "name": "stdout",
     "output_type": "stream",
     "text": [
      "Enter the words separating by spaces: \n",
      "w e r t g h \n",
      "\n",
      "e\n",
      "g\n",
      "h\n",
      "r\n",
      "t\n",
      "w\n"
     ]
    }
   ],
   "source": [
    "words = input(\"Enter the words separating by spaces: \\n\")\n",
    "word_list = words.split(\" \")\n",
    "ordered_list = sorted(word_list)\n",
    "for word in ordered_list:\n",
    "    print(word)"
   ]
  },
  {
   "cell_type": "code",
   "execution_count": null,
   "metadata": {},
   "outputs": [],
   "source": []
  }
 ],
 "metadata": {
  "kernelspec": {
   "display_name": "Python 3",
   "language": "python",
   "name": "python3"
  },
  "language_info": {
   "codemirror_mode": {
    "name": "ipython",
    "version": 3
   },
   "file_extension": ".py",
   "mimetype": "text/x-python",
   "name": "python",
   "nbconvert_exporter": "python",
   "pygments_lexer": "ipython3",
   "version": "3.8.5"
  }
 },
 "nbformat": 4,
 "nbformat_minor": 4
}
