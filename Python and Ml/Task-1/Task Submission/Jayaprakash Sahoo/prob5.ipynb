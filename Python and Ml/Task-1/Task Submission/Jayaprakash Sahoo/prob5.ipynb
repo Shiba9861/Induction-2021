{
 "cells": [
  {
   "cell_type": "code",
   "execution_count": 1,
   "metadata": {},
   "outputs": [
    {
     "name": "stdout",
     "output_type": "stream",
     "text": [
      "The numbers are: \n",
      "[0.6671785157518799, 0.6916164329459854, 0.803048850865625, 0.3265422036857495, 0.8138851186895436, 0.5020305993677426, 0.5072960198994015, 0.9701223342476324, 0.27975475292305274, 0.20516566924730073]\n",
      "And their sum is 5.7666404976239125\n"
     ]
    }
   ],
   "source": [
    "import random\n",
    "random_list = []\n",
    "add = 0\n",
    "for i in range(0,10):\n",
    "    n = random.random()\n",
    "    random_list.append(n)\n",
    "print(\"The numbers are: \\n\"+ str(random_list))\n",
    "for i in range(0,10):\n",
    "    num = float(random_list[i])\n",
    "    add = add + num\n",
    "print(\"And their sum is \" + str(add))"
   ]
  },
  {
   "cell_type": "code",
   "execution_count": null,
   "metadata": {},
   "outputs": [],
   "source": []
  }
 ],
 "metadata": {
  "kernelspec": {
   "display_name": "Python 3",
   "language": "python",
   "name": "python3"
  },
  "language_info": {
   "codemirror_mode": {
    "name": "ipython",
    "version": 3
   },
   "file_extension": ".py",
   "mimetype": "text/x-python",
   "name": "python",
   "nbconvert_exporter": "python",
   "pygments_lexer": "ipython3",
   "version": "3.8.5"
  }
 },
 "nbformat": 4,
 "nbformat_minor": 4
}
