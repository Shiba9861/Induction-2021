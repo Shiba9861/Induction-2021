{
 "cells": [
  {
   "cell_type": "code",
   "execution_count": 1,
   "metadata": {},
   "outputs": [
    {
     "name": "stdout",
     "output_type": "stream",
     "text": [
      "Assume the equation be ax**2+bx+c = 0 \n",
      "\n",
      "Enter the vaue of a:2\n",
      "Enter the vaue of b:6\n",
      "Enter the vaue of c:3\n",
      "The solutions of the equation are: -0.6339745962155614 and -2.3660254037844384\n"
     ]
    }
   ],
   "source": [
    "print(\"Assume the equation be ax**2+bx+c = 0 \\n\")\n",
    "a = float(input(\"Enter the vaue of a:\"))\n",
    "b = float(input(\"Enter the vaue of b:\"))\n",
    "c = float(input(\"Enter the vaue of c:\"))\n",
    "d = (b*b-4*a*c)**0.5\n",
    "sol1 = (-b+d)/(a*2)\n",
    "sol2 = (-b-d)/(a*2)\n",
    "print(\"The solutions of the equation are: \" + str(sol1) + \" and \" + str(sol2))"
   ]
  },
  {
   "cell_type": "code",
   "execution_count": null,
   "metadata": {},
   "outputs": [],
   "source": []
  }
 ],
 "metadata": {
  "kernelspec": {
   "display_name": "Python 3",
   "language": "python",
   "name": "python3"
  },
  "language_info": {
   "codemirror_mode": {
    "name": "ipython",
    "version": 3
   },
   "file_extension": ".py",
   "mimetype": "text/x-python",
   "name": "python",
   "nbconvert_exporter": "python",
   "pygments_lexer": "ipython3",
   "version": "3.8.5"
  }
 },
 "nbformat": 4,
 "nbformat_minor": 4
}
