{
 "cells": [
  {
   "cell_type": "code",
   "execution_count": 2,
   "metadata": {},
   "outputs": [
    {
     "name": "stdout",
     "output_type": "stream",
     "text": [
      "Enter the lower range: 20\n",
      "Enter the upper range: 45\n"
     ]
    }
   ],
   "source": [
    "r1 = int(input(\"Enter the lower range: \"))\n",
    "r2 = int(input(\"Enter the upper range: \"))\n",
    "for n in range(r1,r2+1):\n",
    "    sum = 0\n",
    "    i = n\n",
    "    while i>0:\n",
    "        digit = i % 10\n",
    "        sum += digit**3\n",
    "        i //= 10\n",
    "    if n == sum:\n",
    "        print(n)"
   ]
  },
  {
   "cell_type": "code",
   "execution_count": null,
   "metadata": {},
   "outputs": [],
   "source": []
  }
 ],
 "metadata": {
  "kernelspec": {
   "display_name": "Python 3",
   "language": "python",
   "name": "python3"
  },
  "language_info": {
   "codemirror_mode": {
    "name": "ipython",
    "version": 3
   },
   "file_extension": ".py",
   "mimetype": "text/x-python",
   "name": "python",
   "nbconvert_exporter": "python",
   "pygments_lexer": "ipython3",
   "version": "3.8.5"
  }
 },
 "nbformat": 4,
 "nbformat_minor": 4
}
