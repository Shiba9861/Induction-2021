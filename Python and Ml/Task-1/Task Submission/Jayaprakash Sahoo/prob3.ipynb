{
 "cells": [
  {
   "cell_type": "code",
   "execution_count": 2,
   "metadata": {},
   "outputs": [
    {
     "name": "stdout",
     "output_type": "stream",
     "text": [
      "Enter the first number: 2\n",
      "Enter the second number: 5\n",
      "Enter the operation: addition\n",
      "addition of the given numbers is 7.0\n"
     ]
    }
   ],
   "source": [
    "num1 = float(input(\"Enter the first number: \"))\n",
    "num2 = float(input(\"Enter the second number: \"))\n",
    "oper = input(\"Enter the operation: \")\n",
    "if(oper == \"addition\"):\n",
    "    ans = num1+num2\n",
    "if(oper == \"subtraction\"):\n",
    "    ans = num1-num2\n",
    "if(oper == \"multiplication\"):\n",
    "    ans = num1*num2\n",
    "if(oper == \"division\"):\n",
    "    ans = num1/num2\n",
    "print(oper + \" of the given numbers is \" + str(ans))"
   ]
  },
  {
   "cell_type": "code",
   "execution_count": null,
   "metadata": {},
   "outputs": [],
   "source": []
  }
 ],
 "metadata": {
  "kernelspec": {
   "display_name": "Python 3",
   "language": "python",
   "name": "python3"
  },
  "language_info": {
   "codemirror_mode": {
    "name": "ipython",
    "version": 3
   },
   "file_extension": ".py",
   "mimetype": "text/x-python",
   "name": "python",
   "nbconvert_exporter": "python",
   "pygments_lexer": "ipython3",
   "version": "3.8.5"
  }
 },
 "nbformat": 4,
 "nbformat_minor": 4
}
