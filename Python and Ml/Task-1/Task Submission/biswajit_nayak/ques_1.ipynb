{
 "metadata": {
  "language_info": {
   "codemirror_mode": {
    "name": "ipython",
    "version": 3
   },
   "file_extension": ".py",
   "mimetype": "text/x-python",
   "name": "python",
   "nbconvert_exporter": "python",
   "pygments_lexer": "ipython3",
   "version": "3.9.5"
  },
  "orig_nbformat": 2,
  "kernelspec": {
   "name": "python395jvsc74a57bd0ac59ebe37160ed0dfa835113d9b8498d9f09ceb179beaac4002f036b9467c963",
   "display_name": "Python 3.9.5 64-bit"
  },
  "metadata": {
   "interpreter": {
    "hash": "ac59ebe37160ed0dfa835113d9b8498d9f09ceb179beaac4002f036b9467c963"
   }
  }
 },
 "nbformat": 4,
 "nbformat_minor": 2,
 "cells": [
  {
   "source": [
    "Write a python program to solve the quadratic equation ax**2 + bx + c = 0"
   ],
   "cell_type": "markdown",
   "metadata": {}
  },
  {
   "cell_type": "code",
   "execution_count": 1,
   "metadata": {},
   "outputs": [
    {
     "output_type": "stream",
     "name": "stdout",
     "text": [
      "the equation is of the form: ax**2 + bx +c\n",
      "the two roots are -5.0 -6.0\n"
     ]
    }
   ],
   "source": [
    "import math\n",
    "print(\"the equation is of the form: ax**2 + bx +c\")\n",
    "a=int(input(\"enter the value of a:\"))\n",
    "b=int(input(\"enter the value for b:\"))\n",
    "c=int(input(\"enter the value for c:\"))\n",
    "d=(-b + math.sqrt((b**2) - (4*a*c)))/(2*a)\n",
    "e=(-b - math.sqrt((b**2) - (4*a*c)))/(2*a)\n",
    "print(\"the two roots are\",d,e)\n"
   ]
  },
  {
   "cell_type": "code",
   "execution_count": null,
   "metadata": {},
   "outputs": [],
   "source": []
  }
 ]
}