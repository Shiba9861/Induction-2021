{
 "metadata": {
  "language_info": {
   "codemirror_mode": {
    "name": "ipython",
    "version": 3
   },
   "file_extension": ".py",
   "mimetype": "text/x-python",
   "name": "python",
   "nbconvert_exporter": "python",
   "pygments_lexer": "ipython3",
   "version": 3
  },
  "orig_nbformat": 2
 },
 "nbformat": 4,
 "nbformat_minor": 2,
 "cells": [
  {
   "source": [
    "Write a python program to find a Armstrong number with in a given interval"
   ],
   "cell_type": "markdown",
   "metadata": {}
  },
  {
   "cell_type": "code",
   "execution_count": null,
   "metadata": {},
   "outputs": [],
   "source": [
    "def arm(c):\n",
    "    count=0\n",
    "    x=c\n",
    "    while c!=0:\n",
    "        count+=1\n",
    "        c//=10\n",
    "    sum=0\n",
    "    c=x\n",
    "    while x!=0:\n",
    "        sum+=(x%10)**count\n",
    "        x//=10\n",
    "    if sum==c and (c<2 or c>9):\n",
    "        print(c,\"is an armstrong number within the interval\")\n",
    "\n",
    "\n",
    "a=int((input(\"enter the lower interval:\")))\n",
    "b=int(input(\"enter the upper interval:\"))\n",
    "c=a\n",
    "while c<=b:\n",
    "    arm(c)\n",
    "    c+=1"
   ]
  }
 ]
}