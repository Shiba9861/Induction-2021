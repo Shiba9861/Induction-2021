{
 "metadata": {
  "language_info": {
   "codemirror_mode": {
    "name": "ipython",
    "version": 3
   },
   "file_extension": ".py",
   "mimetype": "text/x-python",
   "name": "python",
   "nbconvert_exporter": "python",
   "pygments_lexer": "ipython3",
   "version": 3
  },
  "orig_nbformat": 2
 },
 "nbformat": 4,
 "nbformat_minor": 2,
 "cells": [
  {
   "source": [
    "Write a python to program to sort words in alphabetically order"
   ],
   "cell_type": "markdown",
   "metadata": {}
  },
  {
   "cell_type": "code",
   "execution_count": null,
   "metadata": {},
   "outputs": [],
   "source": [
    "list=[]\n",
    "n=1\n",
    "while n!=0:\n",
    "    word=input(\"enter your word:\")\n",
    "    list2=[word]\n",
    "    list.extend(list2)\n",
    "    n=int(input((\"\"\"do you want to continue\n",
    "    press 1 for yes: \n",
    "    press 0 for no:\"\"\")))\n",
    "list.sort()\n",
    "for x in list:\n",
    "    print(x)"
   ]
  }
 ]
}