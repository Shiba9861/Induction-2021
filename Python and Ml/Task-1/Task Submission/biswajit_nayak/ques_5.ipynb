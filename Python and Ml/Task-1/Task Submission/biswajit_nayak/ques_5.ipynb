{
 "metadata": {
  "language_info": {
   "codemirror_mode": {
    "name": "ipython",
    "version": 3
   },
   "file_extension": ".py",
   "mimetype": "text/x-python",
   "name": "python",
   "nbconvert_exporter": "python",
   "pygments_lexer": "ipython3",
   "version": 3
  },
  "orig_nbformat": 2
 },
 "nbformat": 4,
 "nbformat_minor": 2,
 "cells": [
  {
   "source": [
    "Write a python program to generate 10 random numbers and print their sum"
   ],
   "cell_type": "markdown",
   "metadata": {}
  },
  {
   "cell_type": "code",
   "execution_count": null,
   "metadata": {},
   "outputs": [],
   "source": [
    "import random\n",
    "list=[]\n",
    "n=0\n",
    "while n<10:\n",
    "    x=random.randint(1,1000)\n",
    "    list2=[x]\n",
    "    list.extend(list2)\n",
    "    n+=1\n",
    "print(\"this is your random list:\")\n",
    "for i in list:\n",
    "    print(i)\n",
    "print(\"the sum is\",sum(list))\n"
   ]
  }
 ]
}