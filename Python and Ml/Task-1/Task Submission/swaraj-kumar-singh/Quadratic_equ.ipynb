{
  "nbformat": 4,
  "nbformat_minor": 0,
  "metadata": {
    "colab": {
      "name": "Quadratic-equ.ipynb",
      "provenance": [],
      "collapsed_sections": []
    },
    "kernelspec": {
      "name": "python3",
      "display_name": "Python 3"
    },
    "language_info": {
      "name": "python"
    }
  },
  "cells": [
    {
      "cell_type": "markdown",
      "metadata": {
        "id": "valuFOKS5DUE"
      },
      "source": [
        "Import complex math module"
      ]
    },
    {
      "cell_type": "code",
      "metadata": {
        "id": "7VRpJOP648eq"
      },
      "source": [
        "import cmath\n",
        "a = int(input(\"Enter value of a: \"))\n",
        "if a == 0:\n",
        "    print(\"a cannot be zero.\")\n",
        "b = int(input(\"Enter the value of b: \"))\n",
        "c = int(input(\"enter the value of c:\"))"
      ],
      "execution_count": null,
      "outputs": []
    },
    {
      "cell_type": "markdown",
      "metadata": {
        "id": "Tw92Ef8p6ANa"
      },
      "source": [
        "Calculating the discriminant"
      ]
    },
    {
      "cell_type": "code",
      "metadata": {
        "id": "ySW0DfPF6QIu"
      },
      "source": [
        "dis = (b**2)-(4*a*c)"
      ],
      "execution_count": 12,
      "outputs": []
    },
    {
      "cell_type": "markdown",
      "metadata": {
        "id": "96WD4ywd6pov"
      },
      "source": [
        "find two results"
      ]
    },
    {
      "cell_type": "code",
      "metadata": {
        "id": "k3bSTO5n6nEH"
      },
      "source": [
        "ans1 = (-b-cmath.sqrt(dis))/(2 * a)\n",
        "ans2 = (-b + cmath.sqrt(dis))/(2 * a)"
      ],
      "execution_count": 13,
      "outputs": []
    },
    {
      "cell_type": "markdown",
      "metadata": {
        "id": "Mk1upUJJ7EQN"
      },
      "source": [
        "printing the results"
      ]
    },
    {
      "cell_type": "code",
      "metadata": {
        "id": "TJuVIXtm65q2"
      },
      "source": [
        "print('The roots are')\n",
        "print(ans1)\n",
        "print(ans2)"
      ],
      "execution_count": null,
      "outputs": []
    }
  ]
}