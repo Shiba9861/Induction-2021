{
  "nbformat": 4,
  "nbformat_minor": 0,
  "metadata": {
    "colab": {
      "name": "alphabetically-order.ipynb",
      "provenance": [],
      "collapsed_sections": []
    },
    "kernelspec": {
      "name": "python3",
      "display_name": "Python 3"
    },
    "language_info": {
      "name": "python"
    }
  },
  "cells": [
    {
      "cell_type": "code",
      "metadata": {
        "colab": {
          "base_uri": "https://localhost:8080/"
        },
        "id": "ILeiBniaIz0m",
        "outputId": "e2f11a39-5b89-4782-efc0-affff2d8b83d"
      },
      "source": [
        "str1 = input(\"Enter the string: \")\n",
        "print(\"Sorted words: \",end =\" \")\n",
        "words = str1.split()\n",
        "words.sort()\n",
        "for word in words:\n",
        "   print(word,end =\" \")"
      ],
      "execution_count": 2,
      "outputs": [
        {
          "output_type": "stream",
          "text": [
            "Enter the string: my name is raman\n",
            "Sorted words:  is my name raman "
          ],
          "name": "stdout"
        }
      ]
    }
  ]
}