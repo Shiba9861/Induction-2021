{
  "nbformat": 4,
  "nbformat_minor": 0,
  "metadata": {
    "colab": {
      "name": " num-sum.ipynb",
      "provenance": [],
      "collapsed_sections": []
    },
    "kernelspec": {
      "name": "python3",
      "display_name": "Python 3"
    },
    "language_info": {
      "name": "python"
    }
  },
  "cells": [
    {
      "cell_type": "code",
      "metadata": {
        "id": "cgM2ULmvJqfn",
        "colab": {
          "base_uri": "https://localhost:8080/"
        },
        "outputId": "678b2a78-0770-4499-d1eb-bd80d6ffb1fa"
      },
      "source": [
        "import random\n",
        "sum=0\n",
        "for i in range(10):\n",
        "    s=random.randint(1,100)\n",
        "    print(\"number\", i, \": \", s)\n",
        "    sum += s"
      ],
      "execution_count": 13,
      "outputs": [
        {
          "output_type": "stream",
          "text": [
            "number 0 :  48\n",
            "number 1 :  10\n",
            "number 2 :  44\n",
            "number 3 :  22\n",
            "number 4 :  3\n",
            "number 5 :  49\n",
            "number 6 :  4\n",
            "number 7 :  72\n",
            "number 8 :  100\n",
            "number 9 :  63\n"
          ],
          "name": "stdout"
        }
      ]
    },
    {
      "cell_type": "code",
      "metadata": {
        "colab": {
          "base_uri": "https://localhost:8080/"
        },
        "id": "4geYMB0cLuWS",
        "outputId": "4a67b113-0b63-40a6-b8cb-8f668943d25d"
      },
      "source": [
        "print(\"Sum of random numbers :\",sum)"
      ],
      "execution_count": 14,
      "outputs": [
        {
          "output_type": "stream",
          "text": [
            "Sum of random numbers : 415\n"
          ],
          "name": "stdout"
        }
      ]
    }
  ]
}