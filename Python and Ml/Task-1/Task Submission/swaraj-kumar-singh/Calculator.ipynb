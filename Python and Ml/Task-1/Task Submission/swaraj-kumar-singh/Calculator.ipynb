{
  "nbformat": 4,
  "nbformat_minor": 0,
  "metadata": {
    "colab": {
      "name": "Calculator.ipynb",
      "provenance": [],
      "collapsed_sections": []
    },
    "kernelspec": {
      "name": "python3",
      "display_name": "Python 3"
    },
    "language_info": {
      "name": "python"
    }
  },
  "cells": [
    {
      "cell_type": "code",
      "metadata": {
        "id": "0zwCI_uPGuMB"
      },
      "source": [
        "def add(x, y):\n",
        "    return x + y"
      ],
      "execution_count": 1,
      "outputs": []
    },
    {
      "cell_type": "code",
      "metadata": {
        "id": "9nWvq2tlHDCC"
      },
      "source": [
        "def subtract(x, y):\n",
        "    return x - y"
      ],
      "execution_count": 2,
      "outputs": []
    },
    {
      "cell_type": "code",
      "metadata": {
        "id": "TJOeK51pHFn_"
      },
      "source": [
        "def multiply(x, y):\n",
        "    return x * y"
      ],
      "execution_count": 3,
      "outputs": []
    },
    {
      "cell_type": "code",
      "metadata": {
        "id": "Xz2b4_qpHF7X"
      },
      "source": [
        "def divide(x, y):\n",
        "    return x / y"
      ],
      "execution_count": 4,
      "outputs": []
    },
    {
      "cell_type": "code",
      "metadata": {
        "colab": {
          "base_uri": "https://localhost:8080/"
        },
        "id": "4pix-TWSHGFR",
        "outputId": "a54007ee-6e35-4e18-9d2f-96b3db8723ab"
      },
      "source": [
        "print(\"Select operation.\")\n",
        "print(\"1.Add\")\n",
        "print(\"2.Subtract\")\n",
        "print(\"3.Multiply\")\n",
        "print(\"4.Divide\")"
      ],
      "execution_count": 7,
      "outputs": [
        {
          "output_type": "stream",
          "text": [
            "Select operation.\n",
            "1.Add\n",
            "2.Subtract\n",
            "3.Multiply\n",
            "4.Divide\n"
          ],
          "name": "stdout"
        }
      ]
    },
    {
      "cell_type": "code",
      "metadata": {
        "colab": {
          "base_uri": "https://localhost:8080/"
        },
        "id": "n_zaeRCgHOGf",
        "outputId": "a493d597-2214-4f14-ce55-9277e19b6a4c"
      },
      "source": [
        "while True:\n",
        "   choice = input(\"Enter choice(1/2/3/4): \")\n",
        "   if choice in ('1', '2', '3', '4'):\n",
        "        num1 = float(input(\"Enter first number: \"))\n",
        "        num2 = float(input(\"Enter second number: \"))\n",
        "\n",
        "        if choice == '1':\n",
        "            print(num1, \"+\", num2, \"=\", add(num1, num2))\n",
        "\n",
        "        elif choice == '2':\n",
        "            print(num1, \"-\", num2, \"=\", subtract(num1, num2))\n",
        "\n",
        "        elif choice == '3':\n",
        "            print(num1, \"*\", num2, \"=\", multiply(num1, num2))\n",
        "\n",
        "        elif choice == '4':\n",
        "            print(num1, \"/\", num2, \"=\", divide(num1, num2))\n",
        "        break\n",
        "else:\n",
        "        print(\"Invalid Input\")"
      ],
      "execution_count": 11,
      "outputs": [
        {
          "output_type": "stream",
          "text": [
            "Enter choice(1/2/3/4): 3\n",
            "Enter first number: 12\n",
            "Enter second number: 9\n",
            "12.0 * 9.0 = 108.0\n"
          ],
          "name": "stdout"
        }
      ]
    }
  ]
}