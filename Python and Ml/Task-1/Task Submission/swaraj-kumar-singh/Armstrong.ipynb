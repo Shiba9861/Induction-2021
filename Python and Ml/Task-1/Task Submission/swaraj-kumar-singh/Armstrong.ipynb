{
  "nbformat": 4,
  "nbformat_minor": 0,
  "metadata": {
    "colab": {
      "name": "Armstrong.ipynb",
      "provenance": [],
      "collapsed_sections": []
    },
    "kernelspec": {
      "name": "python3",
      "display_name": "Python 3"
    },
    "language_info": {
      "name": "python"
    }
  },
  "cells": [
    {
      "cell_type": "markdown",
      "metadata": {
        "id": "01IY4A9IE-D9"
      },
      "source": [
        "take input from the user"
      ]
    },
    {
      "cell_type": "code",
      "metadata": {
        "colab": {
          "base_uri": "https://localhost:8080/"
        },
        "id": "NHAIHvY4EDo2",
        "outputId": "2b56dbd7-9b4b-4be2-dffd-ab626fb66ed6"
      },
      "source": [
        "From = int(input(\"From: \"))  \n",
        "To = int(input(\"To: \")) "
      ],
      "execution_count": 17,
      "outputs": [
        {
          "output_type": "stream",
          "text": [
            "From: 10\n",
            "To: 600\n"
          ],
          "name": "stdout"
        }
      ]
    },
    {
      "cell_type": "markdown",
      "metadata": {
        "id": "AIPi2yrqGJj7"
      },
      "source": [
        "find the sum of the cube of each digit"
      ]
    },
    {
      "cell_type": "code",
      "metadata": {
        "colab": {
          "base_uri": "https://localhost:8080/"
        },
        "id": "HXH8pihXFNvC",
        "outputId": "f34d8a15-1cea-40a3-9f6f-554c65b460c7"
      },
      "source": [
        "print(\"Armstrong numbers within {0} and {1} are :\".format(From,To))\n",
        "for num in range(From,To + 1):\n",
        "   sum = 0  \n",
        "   temp = num  \n",
        "   while temp > 0:  \n",
        "       digit = temp % 10  \n",
        "       sum += digit ** 3  \n",
        "       temp //= 10  \n",
        "       if num == sum:  \n",
        "            print(num)"
      ],
      "execution_count": 18,
      "outputs": [
        {
          "output_type": "stream",
          "text": [
            "Armstrong numbers within 10 and 600 are :\n",
            "64\n",
            "125\n",
            "153\n",
            "216\n",
            "370\n",
            "371\n",
            "407\n"
          ],
          "name": "stdout"
        }
      ]
    }
  ]
}