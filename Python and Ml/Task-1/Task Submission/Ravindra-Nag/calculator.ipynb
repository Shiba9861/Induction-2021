{
 "cells": [
  {
   "cell_type": "code",
   "execution_count": 1,
   "id": "b3c5332c",
   "metadata": {},
   "outputs": [
    {
     "name": "stdout",
     "output_type": "stream",
     "text": [
      "Enter two numbers: \n",
      "45\n",
      "67\n",
      "Enter operation (+, -, *, //, %, /)\n",
      "+\n",
      "112\n"
     ]
    }
   ],
   "source": [
    "print('Enter two numbers: ')\n",
    "x=int(input())\n",
    "y=int(input())\n",
    "\n",
    "print('Enter operation (+, -, *, //, %, /)')\n",
    "o=input()\n",
    "if(o=='+'):\n",
    "    print(x+y)\n",
    "elif(o=='-'):\n",
    "    print(x-y)\n",
    "elif(o=='*'):\n",
    "    print(x*y)\n",
    "elif(o=='//'):\n",
    "    print(x//y)\n",
    "elif(o=='%'):\n",
    "    print(x%y)\n",
    "elif(o=='/'):\n",
    "    print(x/y)\n",
    "else:\n",
    "    print('Invalid entry')"
   ]
  },
  {
   "cell_type": "code",
   "execution_count": 2,
   "id": "d4894924",
   "metadata": {},
   "outputs": [
    {
     "name": "stdout",
     "output_type": "stream",
     "text": [
      "Enter two numbers: \n",
      "45\n",
      "67\n",
      "Enter operation (+, -, *, //, %, /)\n",
      "-\n",
      "-22\n"
     ]
    }
   ],
   "source": [
    "print('Enter two numbers: ')\n",
    "x=int(input())\n",
    "y=int(input())\n",
    "\n",
    "print('Enter operation (+, -, *, //, %, /)')\n",
    "o=input()\n",
    "if(o=='+'):\n",
    "    print(x+y)\n",
    "elif(o=='-'):\n",
    "    print(x-y)\n",
    "elif(o=='*'):\n",
    "    print(x*y)\n",
    "elif(o=='//'):\n",
    "    print(x//y)\n",
    "elif(o=='%'):\n",
    "    print(x%y)\n",
    "elif(o=='/'):\n",
    "    print(x/y)\n",
    "else:\n",
    "    print('Invalid entry')"
   ]
  },
  {
   "cell_type": "code",
   "execution_count": 3,
   "id": "5c38e071",
   "metadata": {},
   "outputs": [
    {
     "name": "stdout",
     "output_type": "stream",
     "text": [
      "Enter two numbers: \n",
      "45\n",
      "67\n",
      "Enter operation (+, -, *, //, %, /)\n",
      "*\n",
      "3015\n"
     ]
    }
   ],
   "source": [
    "print('Enter two numbers: ')\n",
    "x=int(input())\n",
    "y=int(input())\n",
    "\n",
    "print('Enter operation (+, -, *, //, %, /)')\n",
    "o=input()\n",
    "if(o=='+'):\n",
    "    print(x+y)\n",
    "elif(o=='-'):\n",
    "    print(x-y)\n",
    "elif(o=='*'):\n",
    "    print(x*y)\n",
    "elif(o=='//'):\n",
    "    print(x//y)\n",
    "elif(o=='%'):\n",
    "    print(x%y)\n",
    "elif(o=='/'):\n",
    "    print(x/y)\n",
    "else:\n",
    "    print('Invalid entry')"
   ]
  },
  {
   "cell_type": "code",
   "execution_count": 4,
   "id": "e9d3da21",
   "metadata": {},
   "outputs": [
    {
     "name": "stdout",
     "output_type": "stream",
     "text": [
      "Enter two numbers: \n",
      "45\n",
      "67\n",
      "Enter operation (+, -, *, //, %, /)\n",
      "//\n",
      "0\n"
     ]
    }
   ],
   "source": [
    "print('Enter two numbers: ')\n",
    "x=int(input())\n",
    "y=int(input())\n",
    "\n",
    "print('Enter operation (+, -, *, //, %, /)')\n",
    "o=input()\n",
    "if(o=='+'):\n",
    "    print(x+y)\n",
    "elif(o=='-'):\n",
    "    print(x-y)\n",
    "elif(o=='*'):\n",
    "    print(x*y)\n",
    "elif(o=='//'):\n",
    "    print(x//y)\n",
    "elif(o=='%'):\n",
    "    print(x%y)\n",
    "elif(o=='/'):\n",
    "    print(x/y)\n",
    "else:\n",
    "    print('Invalid entry')"
   ]
  },
  {
   "cell_type": "code",
   "execution_count": 5,
   "id": "9e753e5c",
   "metadata": {},
   "outputs": [
    {
     "name": "stdout",
     "output_type": "stream",
     "text": [
      "Enter two numbers: \n",
      "45\n",
      "67\n",
      "Enter operation (+, -, *, //, %, /)\n",
      "%\n",
      "45\n"
     ]
    }
   ],
   "source": [
    "print('Enter two numbers: ')\n",
    "x=int(input())\n",
    "y=int(input())\n",
    "\n",
    "print('Enter operation (+, -, *, //, %, /)')\n",
    "o=input()\n",
    "if(o=='+'):\n",
    "    print(x+y)\n",
    "elif(o=='-'):\n",
    "    print(x-y)\n",
    "elif(o=='*'):\n",
    "    print(x*y)\n",
    "elif(o=='//'):\n",
    "    print(x//y)\n",
    "elif(o=='%'):\n",
    "    print(x%y)\n",
    "elif(o=='/'):\n",
    "    print(x/y)\n",
    "else:\n",
    "    print('Invalid entry')"
   ]
  },
  {
   "cell_type": "code",
   "execution_count": 6,
   "id": "023d2455",
   "metadata": {},
   "outputs": [
    {
     "name": "stdout",
     "output_type": "stream",
     "text": [
      "Enter two numbers: \n",
      "45\n",
      "67\n",
      "Enter operation (+, -, *, //, %, /)\n",
      "/\n",
      "0.6716417910447762\n"
     ]
    }
   ],
   "source": [
    "print('Enter two numbers: ')\n",
    "x=int(input())\n",
    "y=int(input())\n",
    "\n",
    "print('Enter operation (+, -, *, //, %, /)')\n",
    "o=input()\n",
    "if(o=='+'):\n",
    "    print(x+y)\n",
    "elif(o=='-'):\n",
    "    print(x-y)\n",
    "elif(o=='*'):\n",
    "    print(x*y)\n",
    "elif(o=='//'):\n",
    "    print(x//y)\n",
    "elif(o=='%'):\n",
    "    print(x%y)\n",
    "elif(o=='/'):\n",
    "    print(x/y)\n",
    "else:\n",
    "    print('Invalid entry')"
   ]
  },
  {
   "cell_type": "code",
   "execution_count": null,
   "id": "8a6f3c5e",
   "metadata": {},
   "outputs": [],
   "source": []
  }
 ],
 "metadata": {
  "kernelspec": {
   "display_name": "Python 3",
   "language": "python",
   "name": "python3"
  },
  "language_info": {
   "codemirror_mode": {
    "name": "ipython",
    "version": 3
   },
   "file_extension": ".py",
   "mimetype": "text/x-python",
   "name": "python",
   "nbconvert_exporter": "python",
   "pygments_lexer": "ipython3",
   "version": "3.9.5"
  }
 },
 "nbformat": 4,
 "nbformat_minor": 5
}
