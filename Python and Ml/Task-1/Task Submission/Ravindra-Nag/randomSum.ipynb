{
 "cells": [
  {
   "cell_type": "code",
   "execution_count": 1,
   "id": "22ec96ca",
   "metadata": {},
   "outputs": [
    {
     "name": "stdout",
     "output_type": "stream",
     "text": [
      "Sum of 10 random numbers:  407\n"
     ]
    }
   ],
   "source": [
    "import random\n",
    "sum=0\n",
    "for i in range(10):\n",
    "    n = random.randint(0,100)\n",
    "    sum+=n\n",
    "\n",
    "print('Sum of 10 random numbers: ',sum)"
   ]
  },
  {
   "cell_type": "code",
   "execution_count": 2,
   "id": "609a2699",
   "metadata": {},
   "outputs": [
    {
     "name": "stdout",
     "output_type": "stream",
     "text": [
      "Sum of 10 random numbers:  419\n"
     ]
    }
   ],
   "source": [
    "import random\n",
    "sum=0\n",
    "for i in range(10):\n",
    "    n = random.randint(0,100)\n",
    "    sum+=n\n",
    "\n",
    "print('Sum of 10 random numbers: ',sum)"
   ]
  },
  {
   "cell_type": "code",
   "execution_count": 3,
   "id": "01eb1feb",
   "metadata": {},
   "outputs": [
    {
     "name": "stdout",
     "output_type": "stream",
     "text": [
      "Sum of 10 random numbers:  384\n"
     ]
    }
   ],
   "source": [
    "import random\n",
    "sum=0\n",
    "for i in range(10):\n",
    "    n = random.randint(0,100)\n",
    "    sum+=n\n",
    "\n",
    "print('Sum of 10 random numbers: ',sum)"
   ]
  },
  {
   "cell_type": "code",
   "execution_count": null,
   "id": "8b2a458b",
   "metadata": {},
   "outputs": [],
   "source": []
  }
 ],
 "metadata": {
  "kernelspec": {
   "display_name": "Python 3",
   "language": "python",
   "name": "python3"
  },
  "language_info": {
   "codemirror_mode": {
    "name": "ipython",
    "version": 3
   },
   "file_extension": ".py",
   "mimetype": "text/x-python",
   "name": "python",
   "nbconvert_exporter": "python",
   "pygments_lexer": "ipython3",
   "version": "3.9.5"
  }
 },
 "nbformat": 4,
 "nbformat_minor": 5
}
