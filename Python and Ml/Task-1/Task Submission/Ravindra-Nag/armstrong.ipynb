{
 "cells": [
  {
   "cell_type": "code",
   "execution_count": 1,
   "id": "5ba969d8",
   "metadata": {},
   "outputs": [
    {
     "name": "stdout",
     "output_type": "stream",
     "text": [
      "Enter lower limit: 1\n",
      "Enter higher limit: 1000\n",
      "1\n",
      "153\n",
      "370\n",
      "371\n",
      "407\n"
     ]
    }
   ],
   "source": [
    "low=int(input('Enter lower limit: '))\n",
    "high=int(input('Enter higher limit: '))\n",
    "high+=1\n",
    "c=0\n",
    "for i in range(low, high):\n",
    "    temp = i\n",
    "    sum = 0\n",
    "    while temp!=0:\n",
    "        d=temp%10\n",
    "        sum+= d*d*d\n",
    "        temp//=10\n",
    "    if sum==i:\n",
    "        c+=1\n",
    "        print(i)\n",
    "        \n",
    "\n",
    "if c==0:\n",
    "    print('There is no armstrong number in this range.')"
   ]
  },
  {
   "cell_type": "code",
   "execution_count": null,
   "id": "4e90b972",
   "metadata": {},
   "outputs": [],
   "source": []
  }
 ],
 "metadata": {
  "kernelspec": {
   "display_name": "Python 3",
   "language": "python",
   "name": "python3"
  },
  "language_info": {
   "codemirror_mode": {
    "name": "ipython",
    "version": 3
   },
   "file_extension": ".py",
   "mimetype": "text/x-python",
   "name": "python",
   "nbconvert_exporter": "python",
   "pygments_lexer": "ipython3",
   "version": "3.9.5"
  }
 },
 "nbformat": 4,
 "nbformat_minor": 5
}
