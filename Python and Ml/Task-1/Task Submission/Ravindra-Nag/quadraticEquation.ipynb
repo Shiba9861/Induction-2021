{
 "cells": [
  {
   "cell_type": "code",
   "execution_count": 1,
   "id": "e84a363e",
   "metadata": {},
   "outputs": [
    {
     "name": "stdout",
     "output_type": "stream",
     "text": [
      "General form of a quadratic equation is ax**2 + bx + c = 0\n",
      "Enter a: 5\n",
      "Enter b: 2\n",
      "Enter c: 1\n",
      "x1: -0.2+i0.4\n",
      "x1: -0.2-i0.4\n"
     ]
    }
   ],
   "source": [
    "import math\n",
    "\n",
    "print('General form of a quadratic equation is ax**2 + bx + c = 0')\n",
    "a=int(input('Enter a: '))\n",
    "b=int(input('Enter b: '))\n",
    "c=int(input('Enter c: '))\n",
    "d=b*b - 4*a*c\n",
    "if a==0:\n",
    "    print('Not a quadratic equation')\n",
    "elif d>0:\n",
    "    x1= (-b + math.sqrt(d)) / (2*a)\n",
    "    x2= (-b - math.sqrt(d)) / (2*a)\n",
    "    print('x1: ' + str(x1) + '\\n' + 'x2: ' + str(x2))\n",
    "elif d<0:\n",
    "    d=abs(d)\n",
    "    print('x1: ' + str(-b / (2*a)) + '+i' + str(math.sqrt(d) / (2*a)))\n",
    "    print('x1: ' + str(-b / (2*a)) + '-i' + str(math.sqrt(d) / (2*a)))\n",
    "else:\n",
    "    print('x: ' + str(-b/2*a))"
   ]
  },
  {
   "cell_type": "code",
   "execution_count": 1,
   "id": "73f16edf",
   "metadata": {},
   "outputs": [
    {
     "name": "stdout",
     "output_type": "stream",
     "text": [
      "General form of a quadratic equation is ax**2 + bx + c = 0\n",
      "Enter a: 5\n",
      "Enter b: 3\n",
      "Enter c: 3\n",
      "x1: -0.3+i0.7141428428542851\n",
      "x1: -0.3-i0.7141428428542851\n"
     ]
    }
   ],
   "source": [
    "import math\n",
    "\n",
    "print('General form of a quadratic equation is ax**2 + bx + c = 0')\n",
    "a=int(input('Enter a: '))\n",
    "b=int(input('Enter b: '))\n",
    "c=int(input('Enter c: '))\n",
    "d=b*b - 4*a*c\n",
    "if a==0:\n",
    "    print('Not a quadratic equation')\n",
    "elif d>0:\n",
    "    x1= (-b + math.sqrt(d)) / (2*a)\n",
    "    x2= (-b - math.sqrt(d)) / (2*a)\n",
    "    print('x1: ' + str(x1) + '\\n' + 'x2: ' + str(x2))\n",
    "elif d<0:\n",
    "    d=abs(d)\n",
    "    print('x1: ' + str(-b / (2*a)) + '+i' + str(math.sqrt(d) / (2*a)))\n",
    "    print('x1: ' + str(-b / (2*a)) + '-i' + str(math.sqrt(d) / (2*a)))\n",
    "else:\n",
    "    print('x: ' + str(-b/2*a))"
   ]
  },
  {
   "cell_type": "code",
   "execution_count": 2,
   "id": "9e7fd531",
   "metadata": {},
   "outputs": [
    {
     "name": "stdout",
     "output_type": "stream",
     "text": [
      "General form of a quadratic equation is ax**2 + bx + c = 0\n",
      "Enter a: 5\n",
      "Enter b: 6\n",
      "Enter c: 1\n",
      "x1: -0.2\n",
      "x2: -1.0\n"
     ]
    }
   ],
   "source": [
    "import math\n",
    "\n",
    "print('General form of a quadratic equation is ax**2 + bx + c = 0')\n",
    "a=int(input('Enter a: '))\n",
    "b=int(input('Enter b: '))\n",
    "c=int(input('Enter c: '))\n",
    "d=b*b - 4*a*c\n",
    "if a==0:\n",
    "    print('Not a quadratic equation')\n",
    "elif d>0:\n",
    "    x1= (-b + math.sqrt(d)) / (2*a)\n",
    "    x2= (-b - math.sqrt(d)) / (2*a)\n",
    "    print('x1: ' + str(x1) + '\\n' + 'x2: ' + str(x2))\n",
    "elif d<0:\n",
    "    d=abs(d)\n",
    "    print('x1: ' + str(-b / (2*a)) + '+i' + str(math.sqrt(d) / (2*a)))\n",
    "    print('x1: ' + str(-b / (2*a)) + '-i' + str(math.sqrt(d) / (2*a)))\n",
    "else:\n",
    "    print('x: ' + str(-b/2*a))"
   ]
  },
  {
   "cell_type": "code",
   "execution_count": null,
   "id": "3cab2339",
   "metadata": {},
   "outputs": [],
   "source": []
  }
 ],
 "metadata": {
  "kernelspec": {
   "display_name": "Python 3",
   "language": "python",
   "name": "python3"
  },
  "language_info": {
   "codemirror_mode": {
    "name": "ipython",
    "version": 3
   },
   "file_extension": ".py",
   "mimetype": "text/x-python",
   "name": "python",
   "nbconvert_exporter": "python",
   "pygments_lexer": "ipython3",
   "version": "3.9.5"
  }
 },
 "nbformat": 4,
 "nbformat_minor": 5
}
