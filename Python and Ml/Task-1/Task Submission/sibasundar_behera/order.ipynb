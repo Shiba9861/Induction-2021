{
 "metadata": {
  "language_info": {
   "codemirror_mode": {
    "name": "ipython",
    "version": 3
   },
   "file_extension": ".py",
   "mimetype": "text/x-python",
   "name": "python",
   "nbconvert_exporter": "python",
   "pygments_lexer": "ipython3",
   "version": "3.9.1"
  },
  "orig_nbformat": 2,
  "kernelspec": {
   "name": "python391jvsc74a57bd0d310797ebe25c1cb840527a0e32d0ff6f0a15ad823e7d64f5348b10893068c12",
   "display_name": "Python 3.9.1 64-bit"
  },
  "metadata": {
   "interpreter": {
    "hash": "d310797ebe25c1cb840527a0e32d0ff6f0a15ad823e7d64f5348b10893068c12"
   }
  }
 },
 "nbformat": 4,
 "nbformat_minor": 2,
 "cells": [
  {
   "cell_type": "code",
   "execution_count": 1,
   "metadata": {},
   "outputs": [
    {
     "output_type": "stream",
     "name": "stdout",
     "text": [
      "Biswa\nCaptain\nNoob\nPython\nSova\n"
     ]
    }
   ],
   "source": [
    "j=list(input(\"Enter the words separated by commas: \").split(\",\"))\n",
    "j.sort()\n",
    "for i in range(len(j)):\n",
    "    print(j[i])\n"
   ]
  },
  {
   "cell_type": "code",
   "execution_count": null,
   "metadata": {},
   "outputs": [],
   "source": []
  }
 ]
}