{
 "metadata": {
  "language_info": {
   "codemirror_mode": {
    "name": "ipython",
    "version": 3
   },
   "file_extension": ".py",
   "mimetype": "text/x-python",
   "name": "python",
   "nbconvert_exporter": "python",
   "pygments_lexer": "ipython3",
   "version": 3
  },
  "orig_nbformat": 2
 },
 "nbformat": 4,
 "nbformat_minor": 2,
 "cells": [
  {
   "cell_type": "code",
   "execution_count": null,
   "metadata": {},
   "outputs": [],
   "source": [
    "import random\n",
    "r=0\n",
    "print(\"10 rendom no are:\")\n",
    "for i in range(10):\n",
    "    a = random.randint(0,100)\n",
    "    print(a)\n",
    "    r=r+a\n",
    "\n",
    "print(\"sum of 10 random ni is :\" ,r)"
   ]
  }
 ]
}