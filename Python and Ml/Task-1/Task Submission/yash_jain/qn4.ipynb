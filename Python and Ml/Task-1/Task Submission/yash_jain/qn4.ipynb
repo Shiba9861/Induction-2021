{
 "metadata": {
  "language_info": {
   "codemirror_mode": {
    "name": "ipython",
    "version": 3
   },
   "file_extension": ".py",
   "mimetype": "text/x-python",
   "name": "python",
   "nbconvert_exporter": "python",
   "pygments_lexer": "ipython3",
   "version": 3
  },
  "orig_nbformat": 2
 },
 "nbformat": 4,
 "nbformat_minor": 2,
 "cells": [
  {
   "cell_type": "code",
   "execution_count": null,
   "metadata": {},
   "outputs": [],
   "source": [
    "str = input(\"Enter a string: \")\n",
    "short_str = str.split()\n",
    "short_str.sort()\n",
    "print(\"the words in alphabetical order are\")\n",
    "for result in short_str:\n",
    "   print(result)"
   ]
  }
 ]
}