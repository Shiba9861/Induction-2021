{
 "metadata": {
  "language_info": {
   "codemirror_mode": {
    "name": "ipython",
    "version": 3
   },
   "file_extension": ".py",
   "mimetype": "text/x-python",
   "name": "python",
   "nbconvert_exporter": "python",
   "pygments_lexer": "ipython3",
   "version": 3
  },
  "orig_nbformat": 2
 },
 "nbformat": 4,
 "nbformat_minor": 2,
 "cells": [
  {
   "cell_type": "code",
   "execution_count": null,
   "metadata": {},
   "outputs": [],
   "source": [
    "ll=int(input(\"enter lower limit: \"))\n",
    "ul=int(input(\"enter upper limit: \"))\n",
    "for num in range(ll,ul):\n",
    "    n=len(str(num))\n",
    "    sum=0\n",
    "    temp=num\n",
    "    while num>0:\n",
    "        d=num%10\n",
    "        sum=sum + d**n\n",
    "        num=num//10\n",
    "        if temp==sum:\n",
    "            print(temp)"
   ]
  }
 ]
}