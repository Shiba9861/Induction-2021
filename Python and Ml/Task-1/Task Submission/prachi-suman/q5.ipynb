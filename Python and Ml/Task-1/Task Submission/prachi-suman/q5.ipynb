{
 "metadata": {
  "language_info": {
   "codemirror_mode": {
    "name": "ipython",
    "version": 3
   },
   "file_extension": ".py",
   "mimetype": "text/x-python",
   "name": "python",
   "nbconvert_exporter": "python",
   "pygments_lexer": "ipython3",
   "version": 3
  },
  "orig_nbformat": 2
 },
 "nbformat": 4,
 "nbformat_minor": 2,
 "cells": [
  {
   "cell_type": "code",
   "execution_count": null,
   "metadata": {},
   "outputs": [],
   "source": [
    "import random\n",
    "n=10\n",
    "sum=0\n",
    "while n>0 :\n",
    "    x= random.random()\n",
    "    sum=sum+x\n",
    "    n=n-1\n",
    "print(sum)\n"
   ]
  }
 ]
}