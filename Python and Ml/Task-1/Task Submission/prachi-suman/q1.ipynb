{
 "metadata": {
  "language_info": {
   "codemirror_mode": {
    "name": "ipython",
    "version": 3
   },
   "file_extension": ".py",
   "mimetype": "text/x-python",
   "name": "python",
   "nbconvert_exporter": "python",
   "pygments_lexer": "ipython3",
   "version": "3.9.0"
  },
  "orig_nbformat": 2,
  "kernelspec": {
   "name": "python390jvsc74a57bd0e16b9bd33e7041c0842013505aab8d96e59e427e4e0c80436ba1b7c1f34f93b5",
   "display_name": "Python 3.9.0 64-bit"
  },
  "metadata": {
   "interpreter": {
    "hash": "e16b9bd33e7041c0842013505aab8d96e59e427e4e0c80436ba1b7c1f34f93b5"
   }
  }
 },
 "nbformat": 4,
 "nbformat_minor": 2,
 "cells": [
  {
   "cell_type": "code",
   "execution_count": null,
   "metadata": {},
   "outputs": [],
   "source": [
    "a=int(input(\"enter a :\"))\n",
    "b=int(input(\"enter b :\"))\n",
    "c=int(input(\"enter c :\"))\n",
    "d=b**2 - 4*a*c\n",
    "d2=pow(d,0.5)\n",
    "if d2<0 :\n",
    "    print('imaginery roots')\n",
    "else: \n",
    "    r1=(-b+d2)/2*a\n",
    "    r2=(-b-d2)/2*a\n",
    "    print(\" \",r1)\n",
    "    print(\" \",r2)"
   ]
  }
 ]
}