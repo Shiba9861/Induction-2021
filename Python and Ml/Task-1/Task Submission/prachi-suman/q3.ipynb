{
 "metadata": {
  "language_info": {
   "codemirror_mode": {
    "name": "ipython",
    "version": 3
   },
   "file_extension": ".py",
   "mimetype": "text/x-python",
   "name": "python",
   "nbconvert_exporter": "python",
   "pygments_lexer": "ipython3",
   "version": 3
  },
  "orig_nbformat": 2
 },
 "nbformat": 4,
 "nbformat_minor": 2,
 "cells": [
  {
   "cell_type": "code",
   "execution_count": null,
   "metadata": {},
   "outputs": [],
   "source": [
    "#for a simple calculator\n",
    "a=int(input('enter a number: '))\n",
    "b=int(input('enter another number: '))\n",
    "op=input(\"enter the operation: \")\n",
    "if op=='+' :\n",
    "    print(\"a+b=\", a+b)\n",
    "elif op=='-':\n",
    "    print('a-b=', a-b)\n",
    "elif op=='*':\n",
    "    print('a*b=', a*b)\n",
    "elif op=='/':\n",
    "    print('a/b=', a/b)\n",
    "elif op=='%':\n",
    "    print('a%b=', a%b)\n",
    "elif op=='**':\n",
    "    print('a**b=', a**b)\n",
    "elif op=='//':\n",
    "    print('a//b=', a//b)\n",
    "else:\n",
    "    print('invalid input')"
   ]
  }
 ]
}