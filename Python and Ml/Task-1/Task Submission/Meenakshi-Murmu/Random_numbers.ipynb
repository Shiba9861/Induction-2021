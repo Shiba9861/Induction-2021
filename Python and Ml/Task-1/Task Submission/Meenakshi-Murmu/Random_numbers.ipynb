{
  "nbformat": 4,
  "nbformat_minor": 0,
  "metadata": {
    "colab": {
      "name": "Random numbers.ipynb",
      "provenance": [],
      "collapsed_sections": []
    },
    "kernelspec": {
      "name": "python3",
      "display_name": "Python 3"
    },
    "language_info": {
      "name": "python"
    }
  },
  "cells": [
    {
      "cell_type": "markdown",
      "metadata": {
        "id": "I-cDvyFZKF-v"
      },
      "source": [
        "Write a program to generate 10 random numbers and print their sum."
      ]
    },
    {
      "cell_type": "code",
      "metadata": {
        "colab": {
          "base_uri": "https://localhost:8080/"
        },
        "id": "xKp6kUjcKXzb",
        "outputId": "5a25d398-dcf0-46b9-f375-64ecf59cd852"
      },
      "source": [
        "import random\n",
        "sum=0\n",
        "for i in range(10):\n",
        "    s=random.randint(1,100)\n",
        "    print(\"number\", i, \": \", s)\n",
        "    sum += s"
      ],
      "execution_count": 2,
      "outputs": [
        {
          "output_type": "stream",
          "text": [
            "number 0 :  24\n",
            "number 1 :  32\n",
            "number 2 :  78\n",
            "number 3 :  24\n",
            "number 4 :  41\n",
            "number 5 :  35\n",
            "number 6 :  74\n",
            "number 7 :  26\n",
            "number 8 :  36\n",
            "number 9 :  63\n"
          ],
          "name": "stdout"
        }
      ]
    }
  ]
}