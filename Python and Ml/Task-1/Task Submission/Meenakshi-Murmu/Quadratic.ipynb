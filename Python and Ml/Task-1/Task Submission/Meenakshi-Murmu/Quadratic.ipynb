{
  "nbformat": 4,
  "nbformat_minor": 0,
  "metadata": {
    "colab": {
      "name": "Quadratic.ipynb",
      "provenance": [],
      "collapsed_sections": []
    },
    "kernelspec": {
      "name": "python3",
      "display_name": "Python 3"
    },
    "language_info": {
      "name": "python"
    }
  },
  "cells": [
    {
      "cell_type": "markdown",
      "metadata": {
        "id": "9oqbJdkLogNy"
      },
      "source": [
        ""
      ]
    },
    {
      "cell_type": "markdown",
      "metadata": {
        "id": "aSpjvPIGoiQv"
      },
      "source": [
        "Write a python program to solve the quadratic equation ax**2 + bx + c = 0."
      ]
    },
    {
      "cell_type": "code",
      "metadata": {
        "colab": {
          "base_uri": "https://localhost:8080/"
        },
        "id": "N4Vvrshtppg4",
        "outputId": "fc513539-af33-4e3e-cd7e-c37312f1cb38"
      },
      "source": [
        "import cmath\n",
        "a = int(input(\"Enter value of a: \"))\n",
        "if a == 0:\n",
        "    print(\"a cannot be zero.\")\n",
        "b = int(input(\"Enter the value of b: \"))\n",
        "c = int(input(\"enter the value of c:\"))\n",
        "dis = (b**2)-(4*a*c)\n",
        "print('The roots are')\n",
        "print(ans1)\n",
        "print(ans2)"
      ],
      "execution_count": 5,
      "outputs": [
        {
          "output_type": "stream",
          "text": [
            "Enter value of a: 12\n",
            "Enter the value of b: 24\n",
            "enter the value of c:2\n",
            "The roots are\n",
            "(-0.2608695652173913-0.9653740570075877j)\n",
            "(-0.2608695652173913+0.9653740570075877j)\n"
          ],
          "name": "stdout"
        }
      ]
    }
  ]
}