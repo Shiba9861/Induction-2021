{
  "nbformat": 4,
  "nbformat_minor": 0,
  "metadata": {
    "colab": {
      "name": "albhabetical_order.ipynb",
      "provenance": [],
      "collapsed_sections": []
    },
    "kernelspec": {
      "name": "python3",
      "display_name": "Python 3"
    },
    "language_info": {
      "name": "python"
    }
  },
  "cells": [
    {
      "cell_type": "code",
      "metadata": {
        "id": "MAAGdpgWzbzO"
      },
      "source": [
        ""
      ],
      "execution_count": null,
      "outputs": []
    },
    {
      "cell_type": "code",
      "metadata": {
        "colab": {
          "base_uri": "https://localhost:8080/"
        },
        "id": "gUDFcg0yzr1x",
        "outputId": "1a5b73b7-fbb3-4ea4-af22-a4b0c6bbdd9a"
      },
      "source": [
        "str1 = input(\"Enter the string: \")\n",
        "print(\"Sorted words: \",end =\" \")\n",
        "words = str1.split()\n",
        "words.sort()\n",
        "for word in words:\n",
        "   print(word,end =\" \")"
      ],
      "execution_count": 3,
      "outputs": [
        {
          "output_type": "stream",
          "text": [
            "Enter the string: i want to eat chocolate\n",
            "Sorted words:  chocolate eat i to want "
          ],
          "name": "stdout"
        }
      ]
    }
  ]
}