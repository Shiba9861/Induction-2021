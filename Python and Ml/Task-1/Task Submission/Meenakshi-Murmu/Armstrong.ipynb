{
  "nbformat": 4,
  "nbformat_minor": 0,
  "metadata": {
    "colab": {
      "name": "Armstrong.ipynb",
      "provenance": [],
      "collapsed_sections": []
    },
    "kernelspec": {
      "name": "python3",
      "display_name": "Python 3"
    },
    "language_info": {
      "name": "python"
    }
  },
  "cells": [
    {
      "cell_type": "code",
      "metadata": {
        "colab": {
          "base_uri": "https://localhost:8080/"
        },
        "id": "HJiYV8dxEbz8",
        "outputId": "90a3df1d-bacb-43f0-c3c1-2e0338230cc2"
      },
      "source": [
        "From = int (input(\"From: \"))\n",
        "To = int (input(\"To: \"))"
      ],
      "execution_count": 3,
      "outputs": [
        {
          "output_type": "stream",
          "text": [
            "From: 0\n",
            "To: 900\n"
          ],
          "name": "stdout"
        }
      ]
    },
    {
      "cell_type": "markdown",
      "metadata": {
        "id": "Ntb5b4aiFPzU"
      },
      "source": [
        " find the sum of the cube of each digit."
      ]
    },
    {
      "cell_type": "code",
      "metadata": {
        "colab": {
          "base_uri": "https://localhost:8080/"
        },
        "id": "C5Gxc7c-FbND",
        "outputId": "e5b67ca2-9798-4d1d-e729-19e4d6dfb5b7"
      },
      "source": [
        "print(\"Armstrong numbers within {0} and {1} are :\".format(From,To))\n",
        "for num in range(From,To + 1):\n",
        "   sum = 0  \n",
        "   temp = num  \n",
        "   while temp > 0:  \n",
        "       digit = temp % 10  \n",
        "       sum += digit ** 3  \n",
        "       temp //= 10  \n",
        "       if num == sum:  \n",
        "            print(num)"
      ],
      "execution_count": 4,
      "outputs": [
        {
          "output_type": "stream",
          "text": [
            "Armstrong numbers within 0 and 900 are :\n",
            "1\n",
            "64\n",
            "125\n",
            "153\n",
            "216\n",
            "370\n",
            "371\n",
            "407\n",
            "729\n"
          ],
          "name": "stdout"
        }
      ]
    }
  ]
}