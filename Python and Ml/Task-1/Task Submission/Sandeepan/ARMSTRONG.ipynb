{
 "cells": [
  {
   "cell_type": "code",
   "execution_count": 3,
   "metadata": {},
   "outputs": [
    {
     "name": "stdout",
     "output_type": "stream",
     "text": [
      "Enter the lower range: 0\n",
      "Enter the upper range: 2\n",
      "\n",
      "THE FOLLOWING ARE THE ARMSTRONG NUMBERS\n",
      "0\n",
      "1\n"
     ]
    }
   ],
   "source": [
    "#ARMSTRONG NUMBER\n",
    "\n",
    "def armstrong(i):\n",
    "    s=0                         # sum of digits\n",
    "    while i>0:\n",
    "        d=i%10\n",
    "        s=s+(d**3)\n",
    "        i=i//10\n",
    "    return s\n",
    "\n",
    "#__main__\n",
    "l=int(input(\"Enter the lower range: \"))\n",
    "u=int(input(\"Enter the upper range: \"))\n",
    "print(\"\\nTHE FOLLOWING ARE THE ARMSTRONG NUMBERS\")\n",
    "for j in range(l,u+1,1):\n",
    "    r=armstrong(j)\n",
    "    if j==r:\n",
    "        print(j)\n",
    "        "
   ]
  },
  {
   "cell_type": "code",
   "execution_count": null,
   "metadata": {},
   "outputs": [],
   "source": []
  }
 ],
 "metadata": {
  "kernelspec": {
   "display_name": "Python 3",
   "language": "python",
   "name": "python3"
  },
  "language_info": {
   "codemirror_mode": {
    "name": "ipython",
    "version": 3
   },
   "file_extension": ".py",
   "mimetype": "text/x-python",
   "name": "python",
   "nbconvert_exporter": "python",
   "pygments_lexer": "ipython3",
   "version": "3.8.5"
  }
 },
 "nbformat": 4,
 "nbformat_minor": 4
}
