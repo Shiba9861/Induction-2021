{
 "cells": [
  {
   "cell_type": "code",
   "execution_count": 8,
   "metadata": {},
   "outputs": [
    {
     "name": "stdout",
     "output_type": "stream",
     "text": [
      "Enter the starting integer: 1\n",
      "Enter the ending integer: 100\n",
      "The interval is : [ 1 , 100 ]\n",
      "Enter the number to be checked as armstrong number: 101\n",
      "101  doesn't belong to the interval [ 1 , 100 ]\n"
     ]
    }
   ],
   "source": [
    "import math\n",
    "s=int(input(\"Enter the starting integer: \"));\n",
    "e=int(input(\"Enter the ending integer: \"));\n",
    "print(\"The interval is : [\",s,\",\",e,\"]\");\n",
    "n=int(input(\"Enter the number to be checked as armstrong number: \"));\n",
    "if(s<=n<=e):\n",
    "    n1=n;\n",
    "    n2=n;\n",
    "    count=0;\n",
    "    ans=0;\n",
    "    while(n1>0):\n",
    "        count+=1;\n",
    "        n1=n1//10;\n",
    "    while(n>0):\n",
    "        rem=(n%10);\n",
    "        ans+=(pow(rem,count));\n",
    "        n=n//10;\n",
    "    if(n2==ans):\n",
    "        print(n2,\" is an armstrong number.\");\n",
    "    else:\n",
    "        print(n2,\" isn't an armstrong number.\");\n",
    "else:\n",
    "    print(n,\" doesn't belong to the interval [\",s,\",\",e,\"]\");"
   ]
  },
  {
   "cell_type": "code",
   "execution_count": null,
   "metadata": {},
   "outputs": [],
   "source": []
  }
 ],
 "metadata": {
  "kernelspec": {
   "display_name": "Python 3",
   "language": "python",
   "name": "python3"
  },
  "language_info": {
   "codemirror_mode": {
    "name": "ipython",
    "version": 3
   },
   "file_extension": ".py",
   "mimetype": "text/x-python",
   "name": "python",
   "nbconvert_exporter": "python",
   "pygments_lexer": "ipython3",
   "version": "3.7.1"
  }
 },
 "nbformat": 4,
 "nbformat_minor": 2
}
