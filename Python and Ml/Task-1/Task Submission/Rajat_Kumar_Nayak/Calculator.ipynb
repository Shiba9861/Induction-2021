{
 "cells": [
  {
   "cell_type": "code",
   "execution_count": 1,
   "metadata": {},
   "outputs": [
    {
     "name": "stdout",
     "output_type": "stream",
     "text": [
      "press c to start.\n",
      "c\n",
      "Enter [yes/no] to continue: yes\n",
      "Enter number:54\n",
      "operators are [+,-,*,/,sin,cos,tan]:\n",
      "sin\n",
      "The input is taken in radians\n",
      "Final ans upto this step:  -0.5587890488516163\n",
      "Enter [yes/no] to continue: yes\n",
      "operators are [+,-,*,/,sin,cos,tan]:\n",
      "+\n",
      "Enter number:2\n",
      "Final ans upto this step:  1.4412109511483837\n",
      "Enter [yes/no] to continue: no\n"
     ]
    }
   ],
   "source": [
    "import math as m\n",
    "print(\"press c to start.\");\n",
    "ch=input();\n",
    "if(ch=='c'):\n",
    "    choice=str(input(\"Enter [yes/no] to continue: \"));\n",
    "    n=float(input(\"Enter number:\"));\n",
    "    ans=0;\n",
    "    ans+=n;\n",
    "    while(choice==\"yes\"):\n",
    "        print(\"operators are [+,-,*,/,sin,cos,tan]:\")\n",
    "        op=str(input());\n",
    "        if(op==\"+\"):\n",
    "            n1=float(input(\"Enter number:\"));\n",
    "            ans+=n1;\n",
    "        elif (op==\"-\"):\n",
    "            n1=float(input(\"Enter number:\"));\n",
    "            ans-=n1;\n",
    "        elif(op==\"*\"):\n",
    "            n1=float(input(\"Enter number:\"));\n",
    "            ans*=n1;   \n",
    "        elif(op==\"/\"):\n",
    "            n1=float(input(\"Enter number:\"));\n",
    "            ans/=n1; \n",
    "        elif(op==\"sin\"):\n",
    "            print(\"The input is taken in radians\");\n",
    "            ans=m.sin(n);\n",
    "        elif(op==\"cos\"):\n",
    "            print(\"The input is taken in radians\");\n",
    "            ans=m.cos(n);\n",
    "        elif(op==\"tan\"):\n",
    "            print(\"The input is taken in radians\");\n",
    "            ans=m.tan(n);\n",
    "        else:\n",
    "            print(\"invalid operator.\")\n",
    "        print(\"Final ans upto this step: \",ans);\n",
    "        choice=str(input(\"Enter [yes/no] to continue: \"));"
   ]
  }
 ],
 "metadata": {
  "kernelspec": {
   "display_name": "Python 3",
   "language": "python",
   "name": "python3"
  },
  "language_info": {
   "codemirror_mode": {
    "name": "ipython",
    "version": 3
   },
   "file_extension": ".py",
   "mimetype": "text/x-python",
   "name": "python",
   "nbconvert_exporter": "python",
   "pygments_lexer": "ipython3",
   "version": "3.7.1"
  }
 },
 "nbformat": 4,
 "nbformat_minor": 2
}
