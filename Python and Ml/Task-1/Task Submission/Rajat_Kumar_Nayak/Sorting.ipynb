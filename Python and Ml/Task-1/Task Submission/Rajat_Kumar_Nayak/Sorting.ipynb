{
 "cells": [
  {
   "cell_type": "code",
   "execution_count": 4,
   "metadata": {},
   "outputs": [
    {
     "name": "stdout",
     "output_type": "stream",
     "text": [
      "Enter the words: my name is rajat\n",
      "The words sorte in the alphabetical order as: \n",
      "\n",
      "is \n",
      "\n",
      "my \n",
      "\n",
      "name \n",
      "\n",
      "rajat \n",
      "\n"
     ]
    }
   ],
   "source": [
    "s=str(input(\"Enter the words: \"));\n",
    "l=list();\n",
    "l=s.split()\n",
    "l.sort();\n",
    "print(\"The words sorte in the alphabetical order as: \\n\")\n",
    "for word in l:\n",
    "    print(word,\"\\n\");"
   ]
  },
  {
   "cell_type": "code",
   "execution_count": null,
   "metadata": {},
   "outputs": [],
   "source": []
  }
 ],
 "metadata": {
  "kernelspec": {
   "display_name": "Python 3",
   "language": "python",
   "name": "python3"
  },
  "language_info": {
   "codemirror_mode": {
    "name": "ipython",
    "version": 3
   },
   "file_extension": ".py",
   "mimetype": "text/x-python",
   "name": "python",
   "nbconvert_exporter": "python",
   "pygments_lexer": "ipython3",
   "version": "3.7.1"
  }
 },
 "nbformat": 4,
 "nbformat_minor": 2
}
