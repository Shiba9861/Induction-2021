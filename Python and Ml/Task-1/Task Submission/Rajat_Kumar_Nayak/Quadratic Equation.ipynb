{
 "cells": [
  {
   "cell_type": "code",
   "execution_count": 6,
   "metadata": {},
   "outputs": [
    {
     "name": "stdout",
     "output_type": "stream",
     "text": [
      "Enter the value of coefficient of x^2 (a):1\n",
      "Enter the value of coefficient of x (b):-5\n",
      "Enter the value of constant term c:6\n",
      "Roots are real\n",
      "\n",
      "Roots are: 3.0   2.0\n"
     ]
    }
   ],
   "source": [
    "import math\n",
    "a=int(input(\"Enter the value of coefficient of x^2 (a):\"));\n",
    "b=int(input(\"Enter the value of coefficient of x (b):\"));\n",
    "c=int(input(\"Enter the value of constant term c:\"));\n",
    "d=((b**2)-(4*a*c));\n",
    "if(d>=0):\n",
    "    print(\"Roots are real\\n\");\n",
    "    print(\"Roots are:\",((-b+math.sqrt(d))/2*a),\" \",((-b-math.sqrt(d))/2*a));\n",
    "else:\n",
    "    d1=abs(d);\n",
    "    print(\"Roots are imaginary\\n\");\n",
    "    print(\"Roots are:\",(-b/2*a),\"+\",(math.sqrt(d1)/2*a),\"j\",\"and\",(-b/2*a),\"-\",(math.sqrt(d1)/2*a),\"j\")"
   ]
  },
  {
   "cell_type": "code",
   "execution_count": null,
   "metadata": {},
   "outputs": [],
   "source": []
  }
 ],
 "metadata": {
  "kernelspec": {
   "display_name": "Python 3",
   "language": "python",
   "name": "python3"
  }
 },
 "nbformat": 4,
 "nbformat_minor": 2
}
