{
 "cells": [
  {
   "cell_type": "code",
   "execution_count": 5,
   "metadata": {},
   "outputs": [
    {
     "name": "stdout",
     "output_type": "stream",
     "text": [
      "The aim of the program is to find 10 random numbers between two numbers.\n",
      "Enter the 1st number: 12\n",
      "Enter the 2nd number: 90\n",
      "if there are not sufficient numbers inside the given range then repititive numbers may show.\n",
      "\n",
      "21\n",
      "56\n",
      "49\n",
      "18\n",
      "48\n",
      "12\n",
      "38\n",
      "47\n",
      "53\n",
      "51\n",
      "sum of above mentioned random numbers is:  393\n"
     ]
    }
   ],
   "source": [
    "import random\n",
    "print(\"The aim of the program is to find 10 random numbers between two numbers.\")\n",
    "n1=int(input(\"Enter the 1st number: \"))\n",
    "n2=int(input(\"Enter the 2nd number: \"))\n",
    "print(\"If there are not sufficient numbers inside the given range then repititive numbers may show.\\n\")\n",
    "sum=0\n",
    "for i in range(10):\n",
    "    temp=random.randrange(n1,n2)\n",
    "    print(temp);\n",
    "    sum+=temp;\n",
    "print(\"Sum of above mentioned random numbers is: \",sum);"
   ]
  },
  {
   "cell_type": "code",
   "execution_count": null,
   "metadata": {},
   "outputs": [],
   "source": []
  }
 ],
 "metadata": {
  "kernelspec": {
   "display_name": "Python 3",
   "language": "python",
   "name": "python3"
  },
  "language_info": {
   "codemirror_mode": {
    "name": "ipython",
    "version": 3
   },
   "file_extension": ".py",
   "mimetype": "text/x-python",
   "name": "python",
   "nbconvert_exporter": "python",
   "pygments_lexer": "ipython3",
   "version": "3.7.1"
  }
 },
 "nbformat": 4,
 "nbformat_minor": 2
}
