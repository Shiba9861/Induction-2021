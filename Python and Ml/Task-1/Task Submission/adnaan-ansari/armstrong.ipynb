lower = int(input('enter lower bound: '))
upper = int(input('enter upper bound: '))

for num in range(lower, upper+1):

    order = len(str(num))

    Sum = 0

    temp = num

    while temp > 0:
        digit = temp%10
        Sum = Sum + digit**order
        temp = temp//10
    
    if Sum == num:
        print(num)
