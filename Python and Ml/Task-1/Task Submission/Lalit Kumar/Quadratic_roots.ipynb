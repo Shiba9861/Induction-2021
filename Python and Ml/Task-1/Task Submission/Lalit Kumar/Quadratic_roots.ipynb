{
 "cells": [
  {
   "cell_type": "code",
   "execution_count": 1,
   "id": "75ab84d0-3380-4d5b-979e-35e50d096762",
   "metadata": {},
   "outputs": [
    {
     "name": "stdout",
     "output_type": "stream",
     "text": [
      "Calculating the roots of ax^2+bx+c=0\n"
     ]
    },
    {
     "name": "stdin",
     "output_type": "stream",
     "text": [
      "Enter coeff. a :  1\n",
      "Enter coeff. b :  -8\n",
      "Enter coeff. c :  20\n"
     ]
    },
    {
     "name": "stdout",
     "output_type": "stream",
     "text": [
      "Roots are complex. Roots are 4.0 + 2.0i and  4.0 + 2.0i\n"
     ]
    }
   ],
   "source": [
    "import math\n",
    "print(\"Calculating the roots of ax^2+bx+c=0\")\n",
    "def quadraticroots(a,b,c):\n",
    "  D = b*b - 4*a*c\n",
    "  sq = (D)**0.5\n",
    "  if D > 0 :\n",
    "    print(\"Roots are :\" , round((-1*b+sq)/(2*a),2) , \" & \" , round((-b-sq)/(2*a),2) )\n",
    "  elif D == 0 :\n",
    "    print(\"Roots are equal. Root is \" , round((-b+sq)/(2*a),2) )\n",
    "  else :\n",
    "    sq = (-1*D)**0.5\n",
    "    print(f\"Roots are complex. Roots are {-b/(2*a)} + {round(sq/(2*a),2)}i and  {-b/(2*a)} + {round(sq/(2*a),2)}i\")\n",
    "  \n",
    "a = float(input(\"Enter coeff. a : \"))\n",
    "b = float(input(\"Enter coeff. b : \"))\n",
    "c = float(input(\"Enter coeff. c : \"))\n",
    "\n",
    "quadraticroots(a,b,c)"
   ]
  },
  {
   "cell_type": "code",
   "execution_count": null,
   "id": "5635252a-333d-43ba-8ab3-e6b4884584a8",
   "metadata": {},
   "outputs": [],
   "source": []
  }
 ],
 "metadata": {
  "kernelspec": {
   "display_name": "Python 3",
   "language": "python",
   "name": "python3"
  },
  "language_info": {
   "codemirror_mode": {
    "name": "ipython",
    "version": 3
   },
   "file_extension": ".py",
   "mimetype": "text/x-python",
   "name": "python",
   "nbconvert_exporter": "python",
   "pygments_lexer": "ipython3",
   "version": "3.8.2"
  }
 },
 "nbformat": 4,
 "nbformat_minor": 5
}
