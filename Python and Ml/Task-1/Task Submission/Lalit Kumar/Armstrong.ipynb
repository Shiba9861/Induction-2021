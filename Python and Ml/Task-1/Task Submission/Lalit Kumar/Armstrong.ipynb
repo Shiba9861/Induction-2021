{
 "cells": [
  {
   "cell_type": "code",
   "execution_count": 2,
   "metadata": {},
   "outputs": [
    {
     "output_type": "stream",
     "name": "stdout",
     "text": [
      "153\n370\n371\n407\n"
     ]
    }
   ],
   "source": [
    "#Program To Find Armstrong numbers between opening boundry and closing boundry\n",
    "a = int(input(\"Enter opening boundry:\"))\n",
    "b = int(input(\"Enter closing boundry:\"))\n",
    "for i in range(a+1,b):\n",
    "    x = int(str(i)[0])\n",
    "    y = int(str(i)[1])\n",
    "    z = int(str(i)[2])\n",
    "    if x**3+y**3+z**3==i:\n",
    "        print(i)"
   ]
  },
  {
   "cell_type": "code",
   "execution_count": null,
   "metadata": {},
   "outputs": [],
   "source": []
  }
 ],
 "metadata": {
  "kernelspec": {
   "name": "python382jvsc74a57bd031f2aee4e71d21fbe5cf8b01ff0e069b9275f58929596ceb00d14d90e3e16cd6",
   "display_name": "Python 3.8.2 64-bit"
  },
  "language_info": {
   "codemirror_mode": {
    "name": "ipython",
    "version": 3
   },
   "file_extension": ".py",
   "mimetype": "text/x-python",
   "name": "python",
   "nbconvert_exporter": "python",
   "pygments_lexer": "ipython3",
   "version": "3.8.2"
  },
  "metadata": {
   "interpreter": {
    "hash": "31f2aee4e71d21fbe5cf8b01ff0e069b9275f58929596ceb00d14d90e3e16cd6"
   }
  }
 },
 "nbformat": 4,
 "nbformat_minor": 2
}