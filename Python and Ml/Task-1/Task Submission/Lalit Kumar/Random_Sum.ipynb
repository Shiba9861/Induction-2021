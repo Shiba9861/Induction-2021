{
 "cells": [
  {
   "cell_type": "code",
   "execution_count": 1,
   "id": "9da84b5c-17d4-49af-b851-a6b53dd0e6b2",
   "metadata": {},
   "outputs": [
    {
     "name": "stdout",
     "output_type": "stream",
     "text": [
      "The numbers were: [3, 12, 7, 10, 2, 1, 6, 20, 19, 12]\n",
      "The sum is: 92\n"
     ]
    }
   ],
   "source": [
    "import random\n",
    "list = []\n",
    "sum = 0\n",
    "for i in range(10):\n",
    "    x = random.randint(1,20)\n",
    "    list.append(x)\n",
    "    sum += x\n",
    "    \n",
    "print(f\"The numbers were: {list}\")\n",
    "print(f\"The sum is: {sum}\")"
   ]
  },
  {
   "cell_type": "code",
   "execution_count": null,
   "id": "527884df-5818-4c67-96cb-ce1fba66f47b",
   "metadata": {},
   "outputs": [],
   "source": []
  },
  {
   "cell_type": "code",
   "execution_count": null,
   "id": "5255820f-95fe-47de-8792-f3cc7d63fb16",
   "metadata": {},
   "outputs": [],
   "source": []
  },
  {
   "cell_type": "code",
   "execution_count": null,
   "id": "31da0198-ab34-410e-a8ec-d358e59e801a",
   "metadata": {},
   "outputs": [],
   "source": []
  },
  {
   "cell_type": "code",
   "execution_count": null,
   "id": "ecae7129-6162-41d2-b029-4d863a1283b4",
   "metadata": {},
   "outputs": [],
   "source": []
  },
  {
   "cell_type": "code",
   "execution_count": null,
   "id": "4bb33a19-1cae-48f9-b66a-8df9af7e35c5",
   "metadata": {},
   "outputs": [],
   "source": []
  }
 ],
 "metadata": {
  "kernelspec": {
   "display_name": "Python 3",
   "language": "python",
   "name": "python3"
  },
  "language_info": {
   "codemirror_mode": {
    "name": "ipython",
    "version": 3
   },
   "file_extension": ".py",
   "mimetype": "text/x-python",
   "name": "python",
   "nbconvert_exporter": "python",
   "pygments_lexer": "ipython3",
   "version": "3.8.2"
  }
 },
 "nbformat": 4,
 "nbformat_minor": 5
}
