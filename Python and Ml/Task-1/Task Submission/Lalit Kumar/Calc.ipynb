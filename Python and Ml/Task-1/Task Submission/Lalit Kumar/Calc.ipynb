{
 "cells": [
  {
   "cell_type": "code",
   "execution_count": 4,
   "id": "resistant-warrant",
   "metadata": {},
   "outputs": [
    {
     "name": "stdin",
     "output_type": "stream",
     "text": [
      "Enter first number: 2\n",
      "Enter second number: 5\n",
      "Enter the operator: ^\n"
     ]
    },
    {
     "name": "stdout",
     "output_type": "stream",
     "text": [
      "32\n"
     ]
    }
   ],
   "source": [
    "x = float(input(\"Enter first number:\"))\n",
    "y = float(input(\"Enter second number:\"))\n",
    "o = str(input(\"Enter the operator:\"))\n",
    "if o == '+' :\n",
    "    print(int(x+y))\n",
    "elif o == '-' :\n",
    "    print(int(x-y))\n",
    "elif o == '*' :\n",
    "    print(int(x*y))\n",
    "elif o == '/' :\n",
    "    print(x/y)\n",
    "elif o == '%' :\n",
    "    print(\"Remainder = \" ,int(x%y))\n",
    "elif o == '^' :\n",
    "    print(int(x**y))\n",
    "else :\n",
    "    print(\"Invalid Input\")"
   ]
  },
  {
   "cell_type": "code",
   "execution_count": null,
   "id": "first-snowboard",
   "metadata": {},
   "outputs": [],
   "source": []
  }
 ],
 "metadata": {
  "kernelspec": {
   "display_name": "Python 3",
   "language": "python",
   "name": "python3"
  },
  "language_info": {
   "codemirror_mode": {
    "name": "ipython",
    "version": 3
   },
   "file_extension": ".py",
   "mimetype": "text/x-python",
   "name": "python",
   "nbconvert_exporter": "python",
   "pygments_lexer": "ipython3",
   "version": "3.7.8"
  }
 },
 "nbformat": 4,
 "nbformat_minor": 5
}
